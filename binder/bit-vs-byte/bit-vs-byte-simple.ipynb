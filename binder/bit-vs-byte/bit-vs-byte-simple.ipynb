{
 "cells": [
  {
   "cell_type": "markdown",
   "metadata": {},
   "source": [
    "## Set Up Dependencies\n"
   ]
  },
  {
   "cell_type": "code",
   "execution_count": null,
   "metadata": {},
   "outputs": [],
   "source": [
    "import datetime\n",
    "import os\n",
    "\n",
    "from cliffs_delta import cliffs_delta\n",
    "import pandas as pd\n",
    "import pecking\n",
    "import matplotlib as mpl\n",
    "from matplotlib import pyplot as plt\n",
    "import pecking\n",
    "import seaborn as sns\n",
    "from slugify import slugify\n",
    "from teeplot import teeplot as tp\n",
    "\n",
    "from pylib._describe_effect import describe_effect\n",
    "from pylib._styler_to_pdf import styler_to_pdf\n"
   ]
  },
  {
   "cell_type": "markdown",
   "metadata": {},
   "source": [
    "## Data Retrieval and Preprocessing\n"
   ]
  },
  {
   "cell_type": "code",
   "execution_count": null,
   "metadata": {},
   "outputs": [],
   "source": [
    "df = pd.read_parquet(\"https://osf.io/ah7v5/download\")\n"
   ]
  },
  {
   "cell_type": "code",
   "execution_count": null,
   "metadata": {},
   "outputs": [],
   "source": [
    "df[\"Num Reconstructed Inner Nodes\"] = df[\"num_reconstructed_inner_nodes\"]\n",
    "df[\"Num True Inner Nodes\"] = df[\"num_true_inner_nodes\"]\n",
    "df[\"Raw Triplet Distance\"] = df[\"triplet_distance_raw\"]\n",
    "df[\"Sampled Triplet Distance Strict Reconst\"] = df[\n",
    "    \"sampled_triplet_distance_strict_reconst\"\n",
    "]\n",
    "df[\"Strict Triplet Distance\"] = df[\"sampled_triplet_distance_strict\"]\n",
    "df[\"Lax Triplet Distance\"] = df[\"sampled_triplet_distance_lax\"]\n",
    "df[\"Differentia Width (bits)\"] = df[\"differentia_width_bits\"]\n",
    "df[\"Annotation Size (bits)\"] = df[\"annotation_size_bits\"]\n",
    "df[\"Algorithm\"] = df[\"algorithm\"]\n",
    "df[\"Population Size\"] = df[\"population_size\"]\n",
    "df[\"Num Generations\"] = df[\"num_generations\"]\n",
    "df[\"Num Islands\"] = df[\"num_islands\"]\n",
    "df[\"Num Niches\"] = df[\"num_niches\"]\n",
    "df[\"Tournament Size\"] = df[\"tournament_size\"]\n",
    "df[\"Replicate\"] = df[\"replicate\"]\n",
    "df[\"Downsample\"] = df[\"downsample\"]\n"
   ]
  },
  {
   "cell_type": "code",
   "execution_count": null,
   "metadata": {},
   "outputs": [],
   "source": [
    "df = df[df[\"Annotation Size (bits)\"] == 256].copy()\n"
   ]
  },
  {
   "cell_type": "code",
   "execution_count": null,
   "metadata": {},
   "outputs": [],
   "source": [
    "df[\"Inner Node Resolution\"] = (\n",
    "    df[\"Num Reconstructed Inner Nodes\"] / df[\"Num True Inner Nodes\"]\n",
    ")\n",
    "df[\"Inner Node Loss\"] = 1 - df[\"Inner Node Resolution\"]\n"
   ]
  },
  {
   "cell_type": "code",
   "execution_count": null,
   "metadata": {},
   "outputs": [],
   "source": [
    "df[\"Dynamics\"] = (\n",
    "    \"islands\"\n",
    "    + df[\"Num Islands\"].astype(str)\n",
    "    + \"-niches\"\n",
    "    + df[\"Num Niches\"].astype(str)\n",
    "    + \"-tsize\"\n",
    "    + df[\"Tournament Size\"].astype(str)\n",
    ")\n"
   ]
  },
  {
   "cell_type": "code",
   "execution_count": null,
   "metadata": {},
   "outputs": [],
   "source": [
    "df[\"Scale\"] = (\n",
    "    \"npop\"\n",
    "    + df[\"Population Size\"].astype(str)\n",
    "    + \"-ngen\"\n",
    "    + df[\"Num Generations\"].astype(str)\n",
    ")\n"
   ]
  },
  {
   "cell_type": "code",
   "execution_count": null,
   "metadata": {},
   "outputs": [],
   "source": [
    "df[\"Scenario\"] = df[\"Dynamics\"].map(\n",
    "    {\n",
    "        \"islands1-niches1-tsize2\": \"plain\",\n",
    "        \"islands1-niches1-tsize1\": \"drift\",\n",
    "        \"islands4-niches2-tsize2\": \"mild\\nstructure\",\n",
    "        \"islands64-niches8-tsize2\": \"rich\\nstructure\",\n",
    "    }\n",
    ")\n"
   ]
  },
  {
   "cell_type": "code",
   "execution_count": null,
   "metadata": {},
   "outputs": [],
   "source": [
    "df[\"Policy\"] = df[\"Algorithm\"].map(\n",
    "    {\n",
    "        \"surf-tilted\": \"Tilted\",\n",
    "        \"col-tilted\": \"Tilted\",\n",
    "        \"surf-hybrid\": \"Hybrid\",\n",
    "        \"surf-steady\": \"Steady\",\n",
    "        \"col-steady\": \"Steady\",\n",
    "    }\n",
    ")\n"
   ]
  },
  {
   "cell_type": "code",
   "execution_count": null,
   "metadata": {},
   "outputs": [],
   "source": [
    "df[\"Implementation\"] = df[\"Algorithm\"].map(\n",
    "    {\n",
    "        \"surf-tilted\": \"Surface\",\n",
    "        \"col-tilted\": \"Column\",\n",
    "        \"surf-hybrid\": \"Surface\",\n",
    "        \"surf-steady\": \"Surface\",\n",
    "        \"col-steady\": \"Column\",\n",
    "    }\n",
    ")\n"
   ]
  },
  {
   "cell_type": "code",
   "execution_count": null,
   "metadata": {},
   "outputs": [],
   "source": [
    "for col in df.columns:\n",
    "    df[col.replace(\" \", \"\\n\")] = df[col]\n"
   ]
  },
  {
   "cell_type": "code",
   "execution_count": null,
   "metadata": {},
   "outputs": [],
   "source": [
    "sensitivity_analysis_variables = [\n",
    "    \"Population\\nSize\",\n",
    "    \"Downsample\",\n",
    "    \"Num\\nGenerations\",\n",
    "]\n"
   ]
  },
  {
   "cell_type": "code",
   "execution_count": null,
   "metadata": {},
   "outputs": [],
   "source": [
    "dfx = df.melt(\n",
    "    id_vars=[\n",
    "        \"Algorithm\",\n",
    "        \"Annotation Size (bits)\",\n",
    "        \"Annotation\\nSize\\n(bits)\",\n",
    "        \"annotation_size_bits\",\n",
    "        \"Differentia Width (bits)\",\n",
    "        \"Differentia\\nWidth\\n(bits)\",\n",
    "        \"differentia_width_bits\",\n",
    "        \"Downsample\",\n",
    "        \"downsample\",\n",
    "        \"Dynamics\",\n",
    "        \"Implementation\",\n",
    "        \"Policy\",\n",
    "        \"Scenario\",\n",
    "        \"Scale\",\n",
    "        \"Population Size\",\n",
    "        \"Population\\nSize\",\n",
    "        \"population_size\",\n",
    "        \"Num Generations\",\n",
    "        \"Num\\nGenerations\",\n",
    "        \"num_generations\",\n",
    "        \"Num Islands\",\n",
    "        \"Num Niches\",\n",
    "        \"Tournament Size\",\n",
    "        \"Replicate\",\n",
    "    ],\n",
    "    value_vars=[\n",
    "        # \"Strict\\nTriplet\\nDistance\",\n",
    "        \"Lax\\nTriplet\\nDistance\",\n",
    "        \"Inner\\nNode\\nLoss\",\n",
    "    ],\n",
    ")\n",
    "dfx.head()\n"
   ]
  },
  {
   "cell_type": "markdown",
   "metadata": {},
   "source": [
    "## Visualize Main Metrics\n"
   ]
  },
  {
   "cell_type": "code",
   "execution_count": null,
   "metadata": {},
   "outputs": [],
   "source": [
    "for name, group in dfx.groupby(sensitivity_analysis_variables):\n",
    "    group_variables = dict(zip(sensitivity_analysis_variables, name))\n",
    "\n",
    "    group[\"Evolutionary Scenario\"] = group[\"Scenario\"].apply(\n",
    "        lambda x: x.split(\"\\n\")[0],\n",
    "    )\n",
    "    group[\"variable\"] = group[\"variable\"].str.replace(\n",
    "        \"Lax\\nTriplet\\nDistance\",\n",
    "        \"Accuracy Error\\n(Lax Triplet)\",\n",
    "    ).str.replace(\n",
    "        \"Inner\\nNode\\nLoss\",\n",
    "        \"Precision Error\\n(Node Loss)\",\n",
    "    )\n",
    "    group[\"Chkpt\\nNum\\nBits\"] = group[\"Differentia\\nWidth\\n(bits)\"]\n",
    "    row_order = [\n",
    "        # \"Strict\\nTriplet\\nDistance\",\n",
    "        \"Accuracy Error\\n(Lax Triplet)\",\n",
    "        \"Precision Error\\n(Node Loss)\",\n",
    "    ]\n",
    "\n",
    "    with tp.teed(\n",
    "        pecking.peckplot,\n",
    "        data=group.reset_index(drop=True).rename(\n",
    "            columns={\"Implementation\": \"Impl\"},\n",
    "        ),\n",
    "        score=\"value\",\n",
    "        x=\"Evolutionary Scenario\",\n",
    "        y=\"value\",\n",
    "        # col=\"Num Generations\",\n",
    "        col=\"Policy\",\n",
    "        col_order=[\n",
    "            \"Tilted\",\n",
    "            # \"Hybrid\",\n",
    "            # \"Steady\",\n",
    "        ],\n",
    "        row=\"variable\",\n",
    "        row_order=row_order,\n",
    "        hue=\"Chkpt\\nNum\\nBits\",\n",
    "        x_group=\"outer\",\n",
    "        order=[\n",
    "            \"plain\",\n",
    "            \"mild\",\n",
    "            \"rich\",\n",
    "            \"drift\",\n",
    "        ],\n",
    "        skim_hatches=(\"*\",),\n",
    "        skim_labels=(\"Best\",),\n",
    "        skimmers=[pecking.skim_lowest],\n",
    "        margin_titles=True,\n",
    "        height=1.6,\n",
    "        aspect=1.6,\n",
    "        facet_kws={\n",
    "            \"ylim\": (-0.2, 1),\n",
    "        },\n",
    "        teeplot_outattrs={\n",
    "            slugify(k): str(v) for k, v in group_variables.items()\n",
    "        },\n",
    "        # clip_on=False,\n",
    "    ) as teed:\n",
    "        teed.set_titles(\n",
    "            col_template=\"\",\n",
    "            row_template=\"{row_name}\",\n",
    "        )\n",
    "        plt.tight_layout()\n",
    "        teed.figure.subplots_adjust(right=0.41)\n",
    "        teed.figure.subplots_adjust(hspace=0.1)\n",
    "        for ax in teed.axes.flat:\n",
    "            plt.setp(ax.get_xticklabels(), rotation=60)\n",
    "\n",
    "    display(group_variables)\n"
   ]
  },
  {
   "cell_type": "markdown",
   "metadata": {},
   "source": [
    "## Reproducibility\n"
   ]
  },
  {
   "cell_type": "code",
   "execution_count": null,
   "metadata": {},
   "outputs": [],
   "source": [
    "datetime.datetime.now().isoformat()\n"
   ]
  },
  {
   "cell_type": "code",
   "execution_count": null,
   "metadata": {},
   "outputs": [],
   "source": [
    "%load_ext watermark\n",
    "%watermark\n"
   ]
  },
  {
   "cell_type": "code",
   "execution_count": null,
   "metadata": {},
   "outputs": [],
   "source": [
    "!pip freeze\n"
   ]
  }
 ],
 "metadata": {
  "kernelspec": {
   "display_name": "env310",
   "language": "python",
   "name": "python3"
  },
  "language_info": {
   "codemirror_mode": {
    "name": "ipython",
    "version": 3
   },
   "file_extension": ".py",
   "mimetype": "text/x-python",
   "name": "python",
   "nbconvert_exporter": "python",
   "pygments_lexer": "ipython3"
  }
 },
 "nbformat": 4,
 "nbformat_minor": 2
}
