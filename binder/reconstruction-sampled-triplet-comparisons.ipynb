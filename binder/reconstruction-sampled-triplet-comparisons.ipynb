{
 "cells": [
  {
   "cell_type": "markdown",
   "metadata": {},
   "source": [
    "## Set Up Dependencies\n"
   ]
  },
  {
   "cell_type": "code",
   "execution_count": null,
   "metadata": {},
   "outputs": [],
   "source": [
    "import pandas as pd\n",
    "import seaborn as sns\n",
    "from slugify import slugify\n",
    "from teeplot import teeplot as tp\n"
   ]
  },
  {
   "cell_type": "markdown",
   "metadata": {},
   "source": [
    "## Fetch and Preprocess Data\n"
   ]
  },
  {
   "cell_type": "code",
   "execution_count": null,
   "metadata": {},
   "outputs": [],
   "source": [
    "df = pd.read_parquet(\"https://osf.io/k8zga/download\")\n"
   ]
  },
  {
   "cell_type": "code",
   "execution_count": null,
   "metadata": {},
   "outputs": [],
   "source": [
    "df = df.rename(\n",
    "    columns={\n",
    "        \"annotation_size_bits\": \"Annotation Size (bits)\",\n",
    "        \"algorithm\": \"Algorithm\",\n",
    "        \"population_size\": \"Population Size\",\n",
    "        \"num_generations\": \"Num Generations\",\n",
    "        \"num_islands\": \"Num Islands\",\n",
    "        \"num_niches\": \"Num Niches\",\n",
    "        \"tournament_size\": \"Tournament Size\",\n",
    "        \"replicate\": \"Replicate\",\n",
    "        \"downsample\": \"Downsample\",\n",
    "        \"differentia_width_bits\": \"Differentia Width (bits)\",\n",
    "    },\n",
    ")\n"
   ]
  },
  {
   "cell_type": "code",
   "execution_count": null,
   "metadata": {},
   "outputs": [],
   "source": [
    "df[\"Dynamics\"] = (\n",
    "    \"islands\"\n",
    "    + df[\"Num Islands\"].astype(str)\n",
    "    + \"-niches\"\n",
    "    + df[\"Num Niches\"].astype(str)\n",
    "    + \"-tsize\"\n",
    "    + df[\"Tournament Size\"].astype(str)\n",
    ")\n"
   ]
  },
  {
   "cell_type": "code",
   "execution_count": null,
   "metadata": {},
   "outputs": [],
   "source": [
    "df[\"Scenario\"] = df[\"Dynamics\"].map(\n",
    "    {\n",
    "        \"islands1-niches1-tsize2\": \"plain\",\n",
    "        \"islands1-niches1-tsize1\": \"drift\",\n",
    "        \"islands4-niches2-tsize2\": \"mild\",\n",
    "        \"islands64-niches8-tsize2\": \"rich\",\n",
    "    }\n",
    ")\n"
   ]
  },
  {
   "cell_type": "code",
   "execution_count": null,
   "metadata": {},
   "outputs": [],
   "source": [
    "df[\"algo\"] = df[\"Algorithm\"].map(\n",
    "    {\n",
    "        \"surf-steady\": \"surf\\nsteady\",\n",
    "        \"col-steady\": \"col\\nsteady\",\n",
    "        \"surf-hybrid\": \"surf\\nhybrid\",\n",
    "        \"surf-tilted\": \"surf\\ntilted\",\n",
    "        \"col-tilted\": \"col\\ntilted\",\n",
    "    },\n",
    ")\n"
   ]
  },
  {
   "cell_type": "code",
   "execution_count": null,
   "metadata": {},
   "outputs": [],
   "source": [
    "df[\"Scale\"] = (\n",
    "    \"npop\"\n",
    "    + df[\"Population Size\"].astype(str)\n",
    "    + \"-ngen\"\n",
    "    + df[\"Num Generations\"].astype(str)\n",
    ")\n"
   ]
  },
  {
   "cell_type": "code",
   "execution_count": null,
   "metadata": {},
   "outputs": [],
   "source": [
    "df[\"Outcome Code\"] = (\n",
    "    df[\"triplet match, strict\"] + 2 * df[\"triplet match, strict/lax\"]\n",
    ")\n"
   ]
  },
  {
   "cell_type": "code",
   "execution_count": null,
   "metadata": {},
   "outputs": [],
   "source": [
    "df[\"Outcome\"] = df[\"Outcome Code\"].map(\n",
    "    {\n",
    "        3: \"correct\",\n",
    "        2: \"unresolved\",\n",
    "        0: \"incorrect\",\n",
    "    },\n",
    ")\n"
   ]
  },
  {
   "cell_type": "markdown",
   "metadata": {},
   "source": [
    "## Plot Sampled Triplet Comparisons\n"
   ]
  },
  {
   "cell_type": "code",
   "execution_count": null,
   "metadata": {},
   "outputs": [],
   "source": [
    "row_order = [\n",
    "    # \"surf-steady\",\n",
    "    # \"col-steady\",\n",
    "    # \"surf-hybrid\",\n",
    "    # \"surf-tilted\",\n",
    "    # \"col-tilted\",\n",
    "    # \"surf\\nsteady\",\n",
    "    \"col\\nsteady\",\n",
    "    \"surf\\nhybrid\",\n",
    "    \"surf\\ntilted\",\n",
    "    # \"col\\ntilted\",\n",
    "]\n",
    "\n",
    "# col_order = [\n",
    "#     \"npop4096-ngen10000\",\n",
    "#     \"npop4096-ngen100000\",\n",
    "#     \"npop65536-ngen10000\",\n",
    "#     \"npop65536-ngen100000\",\n",
    "# ]\n",
    "col_order = [\n",
    "    \"plain\",\n",
    "    \"mild\",\n",
    "    \"rich\",\n",
    "    \"drift\",\n",
    "    # \"spatial/ecological mild\",\n",
    "    # \"spatial/ecological strong\",\n",
    "]\n",
    "\n",
    "sns.set_theme(\n",
    "    style=\"white\",\n",
    "    rc={\"axes.facecolor\": (0.8, 0.8, 0.8, 0.0)},\n",
    ")\n",
    "\n",
    "groupby = [\"Scale\", \"Annotation Size (bits)\", \"Differentia Width (bits)\"]\n",
    "for what, group in (\n",
    "    df[df[\"Downsample\"] == 500]\n",
    "    # .sample(\n",
    "    #     frac=0.02,\n",
    "    # )\n",
    "    .groupby(groupby)\n",
    "):\n",
    "    group[\"Time Ago\"] = group[\"origin_time\"].max() + 1 - group[\"origin_time\"]\n",
    "    print(what)\n",
    "    dosave, g = tp.tee(\n",
    "        sns.displot,\n",
    "        data=group,\n",
    "        x=\"Time Ago\",\n",
    "        row=\"algo\",\n",
    "        col=\"Scenario\",\n",
    "        hue=\"Outcome\",\n",
    "        bins=10,\n",
    "        multiple=\"fill\",\n",
    "        common_norm=False,\n",
    "        aspect=2,\n",
    "        height=1.3,\n",
    "        log_scale=(True, False),\n",
    "        kind=\"hist\",\n",
    "        hue_order=[\"incorrect\", \"unresolved\", \"correct\"],\n",
    "        row_order=row_order,\n",
    "        col_order=col_order,\n",
    "        facet_kws=dict(margin_titles=True, sharex=\"col\"),\n",
    "        teeplot_callback=True,\n",
    "        teeplot_outattrs=dict(\n",
    "            zip(map(slugify, groupby), map(str, what)),\n",
    "        ),\n",
    "    )\n",
    "    # g.figure.subplots_adjust(hspace=0.05)\n",
    "    g.set_titles(col_template=\"{col_name}\", row_template=\"{row_name}\")\n",
    "    g.set(yticks=[], ylabel=\"\")\n",
    "    g.despine(bottom=True, left=True)\n",
    "    dosave()\n"
   ]
  },
  {
   "cell_type": "markdown",
   "metadata": {},
   "source": [
    "## Reproducibility\n"
   ]
  },
  {
   "cell_type": "code",
   "execution_count": null,
   "metadata": {},
   "outputs": [],
   "source": [
    "import datetime\n",
    "\n",
    "datetime.datetime.now().isoformat()\n"
   ]
  },
  {
   "cell_type": "code",
   "execution_count": null,
   "metadata": {},
   "outputs": [],
   "source": [
    "%load_ext watermark\n",
    "%watermark\n"
   ]
  },
  {
   "cell_type": "code",
   "execution_count": null,
   "metadata": {},
   "outputs": [],
   "source": [
    "!pip freeze\n"
   ]
  }
 ],
 "metadata": {
  "kernelspec": {
   "display_name": "Python 3",
   "language": "python",
   "name": "python3"
  },
  "language_info": {
   "codemirror_mode": {
    "name": "ipython",
    "version": 3
   },
   "file_extension": ".py",
   "mimetype": "text/x-python",
   "name": "python",
   "nbconvert_exporter": "python",
   "pygments_lexer": "ipython3"
  }
 },
 "nbformat": 4,
 "nbformat_minor": 2
}
