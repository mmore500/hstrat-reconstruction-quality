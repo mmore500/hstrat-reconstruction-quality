{
 "cells": [
  {
   "cell_type": "markdown",
   "metadata": {},
   "source": [
    "## Set Up Dependencies\n"
   ]
  },
  {
   "cell_type": "code",
   "execution_count": null,
   "metadata": {},
   "outputs": [],
   "source": [
    "import datetime\n",
    "import os\n",
    "\n",
    "from cliffs_delta import cliffs_delta\n",
    "import pandas as pd\n",
    "import pecking\n",
    "import matplotlib as mpl\n",
    "from matplotlib import pyplot as plt\n",
    "import pecking\n",
    "import seaborn as sns\n",
    "from slugify import slugify\n",
    "from teeplot import teeplot as tp\n",
    "\n",
    "from pylib._describe_effect import describe_effect\n",
    "from pylib._styler_to_pdf import styler_to_pdf\n"
   ]
  },
  {
   "cell_type": "markdown",
   "metadata": {},
   "source": [
    "## Data Retrieval and Preprocessing\n"
   ]
  },
  {
   "cell_type": "code",
   "execution_count": null,
   "metadata": {},
   "outputs": [],
   "source": [
    "df = pd.read_parquet(\"https://osf.io/ah7v5/download\")\n"
   ]
  },
  {
   "cell_type": "code",
   "execution_count": null,
   "metadata": {},
   "outputs": [],
   "source": [
    "df[\"Num Reconstructed Inner Nodes\"] = df[\"num_reconstructed_inner_nodes\"]\n",
    "df[\"Num True Inner Nodes\"] = df[\"num_true_inner_nodes\"]\n",
    "df[\"Raw Triplet Distance\"] = df[\"triplet_distance_raw\"]\n",
    "df[\"Sampled Triplet Distance Strict Reconst\"] = df[\n",
    "    \"sampled_triplet_distance_strict_reconst\"\n",
    "]\n",
    "df[\"Strict Triplet Distance\"] = df[\"sampled_triplet_distance_strict\"]\n",
    "df[\"Lax Triplet Distance\"] = df[\"sampled_triplet_distance_lax\"]\n",
    "df[\"Differentia Width (bits)\"] = df[\"differentia_width_bits\"]\n",
    "df[\"Annotation Size (bits)\"] = df[\"annotation_size_bits\"]\n",
    "df[\"Algorithm\"] = df[\"algorithm\"]\n",
    "df[\"Population Size\"] = df[\"population_size\"]\n",
    "df[\"Num Generations\"] = df[\"num_generations\"]\n",
    "df[\"Num Islands\"] = df[\"num_islands\"]\n",
    "df[\"Num Niches\"] = df[\"num_niches\"]\n",
    "df[\"Tournament Size\"] = df[\"tournament_size\"]\n",
    "df[\"Replicate\"] = df[\"replicate\"]\n",
    "df[\"Downsample\"] = df[\"downsample\"]\n"
   ]
  },
  {
   "cell_type": "code",
   "execution_count": null,
   "metadata": {},
   "outputs": [],
   "source": [
    "df[\"Inner Node Resolution\"] = (\n",
    "    df[\"Num Reconstructed Inner Nodes\"] / df[\"Num True Inner Nodes\"]\n",
    ")\n",
    "df[\"Inner Node Loss\"] = 1 - df[\"Inner Node Resolution\"]\n"
   ]
  },
  {
   "cell_type": "code",
   "execution_count": null,
   "metadata": {},
   "outputs": [],
   "source": [
    "df[\"Dynamics\"] = (\n",
    "    \"islands\"\n",
    "    + df[\"Num Islands\"].astype(str)\n",
    "    + \"-niches\"\n",
    "    + df[\"Num Niches\"].astype(str)\n",
    "    + \"-tsize\"\n",
    "    + df[\"Tournament Size\"].astype(str)\n",
    ")\n"
   ]
  },
  {
   "cell_type": "code",
   "execution_count": null,
   "metadata": {},
   "outputs": [],
   "source": [
    "df[\"Scale\"] = (\n",
    "    \"npop\"\n",
    "    + df[\"Population Size\"].astype(str)\n",
    "    + \"-ngen\"\n",
    "    + df[\"Num Generations\"].astype(str)\n",
    ")\n"
   ]
  },
  {
   "cell_type": "code",
   "execution_count": null,
   "metadata": {},
   "outputs": [],
   "source": [
    "df[\"Scenario\"] = df[\"Dynamics\"].map(\n",
    "    {\n",
    "        \"islands1-niches1-tsize2\": \"plain\",\n",
    "        \"islands1-niches1-tsize1\": \"drift\",\n",
    "        \"islands4-niches2-tsize2\": \"mild\\nstructure\",\n",
    "        \"islands64-niches8-tsize2\": \"rich\\nstructure\",\n",
    "    }\n",
    ")\n"
   ]
  },
  {
   "cell_type": "code",
   "execution_count": null,
   "metadata": {},
   "outputs": [],
   "source": [
    "df[\"Policy\"] = df[\"Algorithm\"].map(\n",
    "    {\n",
    "        \"surf-tilted\": \"Tilted\",\n",
    "        \"col-tilted\": \"Tilted\",\n",
    "        \"surf-hybrid\": \"Hybrid\",\n",
    "        \"surf-steady\": \"Steady\",\n",
    "        \"col-steady\": \"Steady\",\n",
    "    }\n",
    ")\n"
   ]
  },
  {
   "cell_type": "code",
   "execution_count": null,
   "metadata": {},
   "outputs": [],
   "source": [
    "df[\"Implementation\"] = df[\"Algorithm\"].map(\n",
    "    {\n",
    "        \"surf-tilted\": \"Surface\",\n",
    "        \"col-tilted\": \"Column\",\n",
    "        \"surf-hybrid\": \"Surface\",\n",
    "        \"surf-steady\": \"Surface\",\n",
    "        \"col-steady\": \"Column\",\n",
    "    }\n",
    ")\n"
   ]
  },
  {
   "cell_type": "code",
   "execution_count": null,
   "metadata": {},
   "outputs": [],
   "source": [
    "for col in df.columns:\n",
    "    df[col.replace(\" \", \"\\n\")] = df[col]\n"
   ]
  },
  {
   "cell_type": "code",
   "execution_count": null,
   "metadata": {},
   "outputs": [],
   "source": [
    "sensitivity_analysis_variables = [\n",
    "    \"Differentia\\nWidth\\n(bits)\",\n",
    "    \"Population\\nSize\",\n",
    "    \"Downsample\",\n",
    "    \"Num\\nGenerations\",\n",
    "    \"Annotation\\nSize\\n(bits)\",\n",
    "]\n"
   ]
  },
  {
   "cell_type": "code",
   "execution_count": null,
   "metadata": {},
   "outputs": [],
   "source": [
    "dfx = df.melt(\n",
    "    id_vars=[\n",
    "        \"Algorithm\",\n",
    "        \"Annotation Size (bits)\",\n",
    "        \"Annotation\\nSize\\n(bits)\",\n",
    "        \"annotation_size_bits\",\n",
    "        \"Differentia Width (bits)\",\n",
    "        \"Differentia\\nWidth\\n(bits)\",\n",
    "        \"differentia_width_bits\",\n",
    "        \"Downsample\",\n",
    "        \"downsample\",\n",
    "        \"Dynamics\",\n",
    "        \"Implementation\",\n",
    "        \"Policy\",\n",
    "        \"Scenario\",\n",
    "        \"Scale\",\n",
    "        \"Population Size\",\n",
    "        \"Population\\nSize\",\n",
    "        \"population_size\",\n",
    "        \"Num Generations\",\n",
    "        \"Num\\nGenerations\",\n",
    "        \"num_generations\",\n",
    "        \"Num Islands\",\n",
    "        \"Num Niches\",\n",
    "        \"Tournament Size\",\n",
    "        \"Replicate\",\n",
    "    ],\n",
    "    value_vars=[\n",
    "        \"Strict\\nTriplet\\nDistance\",\n",
    "        # \"Lax\\nTriplet\\nDistance\",\n",
    "        \"Inner\\nNode\\nLoss\",\n",
    "    ],\n",
    ")\n",
    "dfx.head()\n"
   ]
  },
  {
   "cell_type": "markdown",
   "metadata": {},
   "source": [
    "## Visualize Main Metrics\n"
   ]
  },
  {
   "cell_type": "code",
   "execution_count": null,
   "metadata": {},
   "outputs": [],
   "source": [
    "for name, group in dfx.groupby(sensitivity_analysis_variables):\n",
    "    group_variables = dict(zip(sensitivity_analysis_variables, name))\n",
    "\n",
    "    group[\"Scenario\"] = group[\"Scenario\"].apply(\n",
    "        lambda x: x.split(\"\\n\")[0],\n",
    "    )\n",
    "    row_order = [\n",
    "        \"Strict\\nTriplet\\nDistance\",\n",
    "        \"Inner\\nNode\\nLoss\",\n",
    "    ]\n",
    "\n",
    "    tp.tee(\n",
    "        pecking.peckplot,\n",
    "        data=group.reset_index(drop=True).rename(\n",
    "            columns={\"Implementation\": \"Impl\"},\n",
    "        ),\n",
    "        score=\"value\",\n",
    "        x=\"Scenario\",\n",
    "        y=\"value\",\n",
    "        # col=\"Num Generations\",\n",
    "        col=\"Policy\",\n",
    "        col_order=[\n",
    "            \"Tilted\",\n",
    "            \"Steady\",\n",
    "        ],\n",
    "        row=\"variable\",\n",
    "        row_order=row_order,\n",
    "        hue=\"Impl\",\n",
    "        hue_order=[\n",
    "            \"Column\",\n",
    "            \"Surface\",\n",
    "        ],\n",
    "        x_group=\"outer\",\n",
    "        order=[\n",
    "            \"plain\",\n",
    "            \"mild\",\n",
    "            \"rich\",\n",
    "            \"drift\",\n",
    "        ],\n",
    "        skim_hatches=(\"*\",),\n",
    "        skim_labels=(\"Best\",),\n",
    "        skimmers=[pecking.skim_lowest],\n",
    "        margin_titles=True,\n",
    "        height=1.7,\n",
    "        aspect=2,\n",
    "        facet_kws={\n",
    "            \"ylim\": (0, 1),\n",
    "        },\n",
    "        teeplot_outattrs={\n",
    "            slugify(k): str(v) for k, v in group_variables.items()\n",
    "        },\n",
    "        teeplot_outexclude=[\"post\", \"teeplot_postprocess\"],\n",
    "        teeplot_postprocess=\"teed.figure.subplots_adjust(right=0.72); teed.set_titles(row_template='{row_name}')\",\n",
    "        # clip_on=False,\n",
    "    )\n",
    "    display(group_variables)\n"
   ]
  },
  {
   "cell_type": "markdown",
   "metadata": {},
   "source": [
    "## Make Stat Table\n"
   ]
  },
  {
   "cell_type": "code",
   "execution_count": null,
   "metadata": {},
   "outputs": [],
   "source": [
    "\n",
    "lookup_effect = {}\n",
    "\n",
    "\n",
    "def cached_delta(x, y):\n",
    "    d = cliffs_delta(x, y)[0]\n",
    "    lookup_effect[d] = describe_effect(x, y)\n",
    "    return d\n",
    "\n",
    "\n",
    "vars = [\n",
    "    \"Policy\",\n",
    "    \"Scenario\",\n",
    "    *sensitivity_analysis_variables,\n",
    "]\n",
    "\n",
    "records = []\n",
    "for name, group in df[df[\"Policy\"].isin([\"Steady\", \"Tilted\"])].reset_index().groupby(vars):\n",
    "    group_variables = dict(zip(vars, name))\n",
    "    records.append(\n",
    "        {\n",
    "            **group_variables,\n",
    "            **{\n",
    "                \"Strict<br/>Triplet<br/>Distance\": cached_delta(\n",
    "                    group[group[\"Implementation\"] == \"Column\"][\n",
    "                        \"Strict Triplet Distance\"\n",
    "                    ],\n",
    "                    group[group[\"Implementation\"] == \"Surface\"][\n",
    "                        \"Strict Triplet Distance\"\n",
    "                    ],\n",
    "                ),\n",
    "                \"Lax<br/>Triplet<br/>Distance\": cached_delta(\n",
    "                    group[group[\"Implementation\"] == \"Column\"][\n",
    "                        \"Lax Triplet Distance\"\n",
    "                    ],\n",
    "                    group[group[\"Implementation\"] == \"Surface\"][\n",
    "                        \"Lax Triplet Distance\"\n",
    "                    ],\n",
    "                ),\n",
    "                \"Inner<br/>Node<br/>Loss\": (\n",
    "                    cached_delta(\n",
    "                        group[group[\"Implementation\"] == \"Column\"][\n",
    "                            \"Inner Node Loss\"\n",
    "                        ],\n",
    "                        group[group[\"Implementation\"] == \"Surface\"][\n",
    "                            \"Inner Node Loss\"\n",
    "                        ],\n",
    "                    )\n",
    "                    # if group_variables[\"Differentia\\nWidth\\n(bits)\"] > 1\n",
    "                    # else float(\"nan\")\n",
    "                ),\n",
    "            },\n",
    "        }\n",
    "    )\n",
    "\n",
    "\n",
    "dfr = pd.DataFrame.from_records(records)\n",
    "dfr\n"
   ]
  },
  {
   "cell_type": "code",
   "execution_count": null,
   "metadata": {},
   "outputs": [],
   "source": [
    "cmap = mpl.colormaps.get_cmap(\"coolwarm\")\n",
    "cmap.set_bad(color=\"white\")\n"
   ]
  },
  {
   "cell_type": "code",
   "execution_count": null,
   "metadata": {},
   "outputs": [],
   "source": [
    "dfr[\"Pop Size\"] = dfr[\"Population\\nSize\"]\n",
    "dfr[\"Unit\"] = dfr[\"Differentia\\nWidth\\n(bits)\"].map({1: \"bit\", 8: \"byte\"})\n",
    "dfr[\"DSamp\"] = dfr[\"Downsample\"]\n",
    "dfr[\"Size<br/>(bits)\"] = dfr[\"Annotation\\nSize\\n(bits)\"]\n"
   ]
  },
  {
   "cell_type": "code",
   "execution_count": null,
   "metadata": {},
   "outputs": [],
   "source": [
    "vars = [\n",
    "    \"Policy\",\n",
    "    \"Scenario\",\n",
    "    \"Unit\",\n",
    "    \"Pop Size\",\n",
    "    \"DSamp\",\n",
    "    \"Size<br/>(bits)\",\n",
    "]\n",
    "dfs = (\n",
    "    dfr[(dfr[\"Num\\nGenerations\"] == 100000)]\n",
    "    .set_index(vars)\n",
    "    .unstack(level=0)[\n",
    "        [\n",
    "            \"Strict<br/>Triplet<br/>Distance\",\n",
    "            # \"Lax<br/>Triplet<br/>Distance\",\n",
    "            \"Inner<br/>Node<br/>Loss\",\n",
    "        ]\n",
    "    ]\n",
    "    .swaplevel(axis=\"columns\")\n",
    "    .sort_index(axis=1, level=0, ascending=False)\n",
    ")\n",
    "styled_dfs = (\n",
    "    dfs.style.background_gradient(cmap=cmap, vmin=-1, vmax=1, axis=None)\n",
    "    .format(lambda x: lookup_effect.get(x, \"n/a\"))\n",
    ")\n",
    "\n",
    "props = [\n",
    "    (\"cellpadding\", \"0px\"),\n",
    "    (\"cellspacing\", \"0px\"),\n",
    "    (\"border\", \"1px solid black\"),\n",
    "    (\"border-collapse\", \"collapse\"),\n",
    "    (\"max-width\", \"80px !important\"),\n",
    "    (\"word-wrap\", \"break-word\"),\n",
    "]\n",
    "moreprops = [\n",
    "    *props,\n",
    "    (\"padding-top\", \"0px\"),\n",
    "    (\"padding-bottom\", \"0px\"),\n",
    "    (\"margin\", \"0px\"),\n",
    "    (\"height\", \"0px\"),\n",
    "]\n",
    "smallprops = [*moreprops, (\"font-size\", \"9px\"), (\"text-align\", \"center\"), (\"width\", \"75px\")]\n",
    "bigprops = [\n",
    "    *moreprops,\n",
    "    (\"font-size\", \"11px\"),\n",
    "    (\"color\", \"white\"),\n",
    "    (\"background-color\", \"DimGray\"),\n",
    "]\n",
    "\n",
    "divider_style = [\n",
    "    # Header cell borders\n",
    "    {\"selector\": \"th\", \"props\": bigprops},\n",
    "    # Data cell borders\n",
    "    {\"selector\": \"td\", \"props\": smallprops},\n",
    "    # Row borders\n",
    "    {\"selector\": \"tr\", \"props\": smallprops},\n",
    "]\n",
    "styled_dfs = styled_dfs.set_table_styles(divider_style).set_table_attributes(\n",
    "    'style=\"cellspacing:0;border-collapse:collapse;font-family:sans-serif;\"'\n",
    ")\n",
    "\n",
    "styled_dfs\n"
   ]
  },
  {
   "cell_type": "code",
   "execution_count": null,
   "metadata": {},
   "outputs": [],
   "source": [
    "os.makedirs(\"outplots\", exist_ok=True)\n",
    "styler_to_pdf(styled_dfs, \"outplots/surf-vs-col-table.pdf\")\n"
   ]
  },
  {
   "cell_type": "markdown",
   "metadata": {},
   "source": [
    "## Make Table Summarization\n"
   ]
  },
  {
   "cell_type": "code",
   "execution_count": null,
   "metadata": {},
   "outputs": [],
   "source": [
    "import numpy as np\n",
    "\n",
    "dfp = dfs.stack(level=0).reset_index().copy()\n",
    "dfp[\"Strict Triplet Distance\"] = dfp[\"Strict<br/>Triplet<br/>Distance\"].apply(\n",
    "    lambda x: {\n",
    "        -1: \"column better\",\n",
    "        0: \"neutral\",\n",
    "        1: \"surface better\",\n",
    "    }[\n",
    "        (\"*\" in lookup_effect.get(x))\n",
    "        * np.sign(x)\n",
    "    ],\n",
    ")\n",
    "dfp[\"Inner Node Loss\"] = dfp[\"Inner<br/>Node<br/>Loss\"].apply(\n",
    "    lambda x: {\n",
    "        -1: \"column better\",\n",
    "        0: \"neutral\",\n",
    "        1: \"surface better\",\n",
    "    }[\n",
    "        (\"*\" in lookup_effect.get(x))\n",
    "        * np.sign(x)\n",
    "    ],\n",
    ")\n",
    "dfp\n"
   ]
  },
  {
   "cell_type": "code",
   "execution_count": null,
   "metadata": {},
   "outputs": [],
   "source": [
    "dfp = dfp.rename(\n",
    "    columns={\n",
    "        \"Inner<br/>Node<br/>Loss\": \"Inner Node Loss Numerical\",\n",
    "        \"Strict<br/>Triplet<br/>Distance\": \"Strict Triplet Distance Numerical\",\n",
    "    },\n",
    ")\n"
   ]
  },
  {
   "cell_type": "code",
   "execution_count": null,
   "metadata": {},
   "outputs": [],
   "source": [
    "id_vars = [\n",
    "    \"Policy\",\n",
    "    \"Scenario\",\n",
    "    \"Unit\",\n",
    "    \"Pop Size\",\n",
    "    \"DSamp\",\n",
    "    # \"Num Generations\",\n",
    "    \"Size<br/>(bits)\",\n",
    "]\n",
    "dfm = pd.DataFrame.merge(\n",
    "    dfp.melt(\n",
    "        id_vars=id_vars,\n",
    "        value_vars=[\n",
    "            \"Strict Triplet Distance\",\n",
    "            \"Inner Node Loss\",\n",
    "        ],\n",
    "    ),\n",
    "    dfp.melt(\n",
    "        id_vars=id_vars,\n",
    "        value_vars=[\n",
    "            \"Strict Triplet Distance Numerical\",\n",
    "            \"Inner Node Loss Numerical\",\n",
    "        ],\n",
    "    ),\n",
    "    on=id_vars,\n",
    ")\n"
   ]
  },
  {
   "cell_type": "code",
   "execution_count": null,
   "metadata": {},
   "outputs": [],
   "source": [
    "dfm = dfm[\n",
    "    (\n",
    "        dfm[\"variable_x\"].isin([\"Strict Triplet Distance\"])\n",
    "        & dfm[\"variable_y\"].isin([\"Strict Triplet Distance Numerical\"])\n",
    "    )\n",
    "    | (\n",
    "        dfm[\"variable_x\"].isin([\"Inner Node Loss\"])\n",
    "        & dfm[\"variable_y\"].isin([\"Inner Node Loss Numerical\"])\n",
    "    )\n",
    "].reset_index()\n"
   ]
  },
  {
   "cell_type": "code",
   "execution_count": null,
   "metadata": {},
   "outputs": [],
   "source": [
    "dfm[\"Scenario\"] = dfm[\"Scenario\"].apply(lambda x: x.split(\"\\n\")[0])\n"
   ]
  },
  {
   "cell_type": "code",
   "execution_count": null,
   "metadata": {},
   "outputs": [],
   "source": [
    "tp.tee(\n",
    "    sns.catplot,\n",
    "    dfm.rename(\n",
    "        {\n",
    "            \"variable_x\": \"Metric\",\n",
    "            \"value_y\": \"Cliff's Delta\",\n",
    "            \"value_x\": \"Relative Grade\",\n",
    "        },\n",
    "        axis=1,\n",
    "    ),\n",
    "    x=\"Cliff's Delta\",\n",
    "    # y=\"Policy\",\n",
    "    row=\"Policy\",\n",
    "    row_order=[\"Tilted\", \"Steady\"],\n",
    "    order=[\n",
    "        \"plain\",\n",
    "        \"mild\",\n",
    "        \"rich\",\n",
    "        \"drift\",\n",
    "    ],\n",
    "    hue=\"Relative Grade\",\n",
    "    hue_order=[\n",
    "        \"surface better\",\n",
    "        \"neutral\",\n",
    "        \"column better\",\n",
    "    ],\n",
    "    col=\"Metric\",\n",
    "    # row=\"Scenario\",\n",
    "    y=\"Scenario\",\n",
    "    margin_titles=True,\n",
    "    aspect=2,\n",
    "    height=1.5,\n",
    "    palette=sns.color_palette(\"hls\", 8)[:3][::-1],\n",
    "    alpha=0.3,\n",
    "    s=50,\n",
    "    kind=\"strip\",\n",
    "    teeplot_outexclude=[\"post\", \"teeplot_postprocess\"],\n",
    "    teeplot_postprocess=\"teed.set_titles(col_template='{col_name}', row_template='{row_name}')\",\n",
    ")\n",
    "plt.show()\n"
   ]
  },
  {
   "cell_type": "markdown",
   "metadata": {},
   "source": [
    "## Reproducibility\n"
   ]
  },
  {
   "cell_type": "code",
   "execution_count": null,
   "metadata": {},
   "outputs": [],
   "source": [
    "datetime.datetime.now().isoformat()\n"
   ]
  },
  {
   "cell_type": "code",
   "execution_count": null,
   "metadata": {},
   "outputs": [],
   "source": [
    "%load_ext watermark\n",
    "%watermark\n"
   ]
  },
  {
   "cell_type": "code",
   "execution_count": null,
   "metadata": {},
   "outputs": [],
   "source": [
    "!pip freeze\n"
   ]
  },
  {
   "cell_type": "code",
   "execution_count": null,
   "metadata": {},
   "outputs": [],
   "source": [
    "!inkscape --version\n"
   ]
  }
 ],
 "metadata": {
  "kernelspec": {
   "display_name": "Python 3",
   "language": "python",
   "name": "python3"
  },
  "language_info": {
   "codemirror_mode": {
    "name": "ipython",
    "version": 3
   },
   "file_extension": ".py",
   "mimetype": "text/x-python",
   "name": "python",
   "nbconvert_exporter": "python",
   "pygments_lexer": "ipython3"
  }
 },
 "nbformat": 4,
 "nbformat_minor": 2
}
