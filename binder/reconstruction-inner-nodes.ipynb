{
 "cells": [
  {
   "cell_type": "markdown",
   "metadata": {},
   "source": [
    "## Set Up Dependencies"
   ]
  },
  {
   "cell_type": "code",
   "execution_count": null,
   "metadata": {},
   "outputs": [],
   "source": [
    "import matplotlib as mpl\n",
    "from matplotlib import pyplot as plt\n",
    "import pandas as pd\n",
    "import seaborn as sns\n",
    "from slugify import slugify\n",
    "from teeplot import teeplot as tp\n"
   ]
  },
  {
   "cell_type": "markdown",
   "metadata": {},
   "source": [
    "## Fetch and Preprocess Data"
   ]
  },
  {
   "cell_type": "code",
   "execution_count": null,
   "metadata": {},
   "outputs": [],
   "source": [
    "df = pd.read_parquet(\"https://osf.io/wa32b/download\")\n"
   ]
  },
  {
   "cell_type": "code",
   "execution_count": null,
   "metadata": {},
   "outputs": [],
   "source": [
    "df = df.rename(\n",
    "    columns={\n",
    "        \"annotation_size_bits\": \"Annotation Size (bits)\",\n",
    "        \"algorithm\": \"Algorithm\",\n",
    "        \"population_size\": \"Population Size\",\n",
    "        \"num_generations\": \"Num Generations\",\n",
    "        \"num_islands\": \"Num Islands\",\n",
    "        \"num_niches\": \"Num Niches\",\n",
    "        \"tournament_size\": \"Tournament Size\",\n",
    "        \"replicate\": \"Replicate\",\n",
    "        \"downsample\": \"Downsample\",\n",
    "        \"differentia_width_bits\": \"Differentia Width (bits)\",\n",
    "    },\n",
    ")\n"
   ]
  },
  {
   "cell_type": "code",
   "execution_count": null,
   "metadata": {},
   "outputs": [],
   "source": [
    "df[\"Dynamics\"] = (\n",
    "    \"islands\"\n",
    "    + df[\"Num Islands\"].astype(str)\n",
    "    + \"-niches\"\n",
    "    + df[\"Num Niches\"].astype(str)\n",
    "    + \"-tsize\"\n",
    "    + df[\"Tournament Size\"].astype(str)\n",
    ")\n"
   ]
  },
  {
   "cell_type": "code",
   "execution_count": null,
   "metadata": {},
   "outputs": [],
   "source": [
    "df[\"Scenario\"] = df[\"Dynamics\"].map(\n",
    "    {\n",
    "        \"islands1-niches1-tsize2\": \"plain\",\n",
    "        \"islands1-niches1-tsize1\": \"drift\",\n",
    "        \"islands4-niches2-tsize2\": \"mild structure\",\n",
    "        \"islands64-niches8-tsize2\": \"rich structure\",\n",
    "    }\n",
    ")\n"
   ]
  },
  {
   "cell_type": "code",
   "execution_count": null,
   "metadata": {},
   "outputs": [],
   "source": [
    "df[\"algo\"] = df[\"Algorithm\"].map(\n",
    "    {\n",
    "        \"surf-steady\": \"\\nsurf\\nsteady\",\n",
    "        \"col-steady\": \"\\ncol\\nsteady\",\n",
    "        \"surf-hybrid\": \"\\nsurf\\nhybrid\",\n",
    "        \"surf-tilted\": \"\\nsurf\\ntilted\",\n",
    "        \"col-tilted\": \"\\ncol\\ntilted\",\n",
    "    },\n",
    ")\n"
   ]
  },
  {
   "cell_type": "code",
   "execution_count": null,
   "metadata": {},
   "outputs": [],
   "source": [
    "df[\"Scale\"] = (\n",
    "    \"npop\"\n",
    "    + df[\"Population Size\"].astype(str)\n",
    "    + \"-ngen\"\n",
    "    + df[\"Num Generations\"].astype(str)\n",
    ")\n"
   ]
  },
  {
   "cell_type": "code",
   "execution_count": null,
   "metadata": {},
   "outputs": [],
   "source": [
    "row_order = [\n",
    "    # \"surf-steady\",\n",
    "    # \"col-steady\",\n",
    "    # \"surf-hybrid\",\n",
    "    # \"surf-tilted\",\n",
    "    # \"col-tilted\",\n",
    "    # \"surf\\nsteady\",\n",
    "    \"\\ncol\\nsteady\",\n",
    "    \"\\nsurf\\nhybrid\",\n",
    "    \"\\nsurf\\ntilted\",\n",
    "    # \"col\\ntilted\",\n",
    "]\n",
    "\n",
    "\n",
    "def joyhist(*args, **kwargs):\n",
    "    sns.set_theme(style=\"white\", rc={\"axes.facecolor\": (0, 0, 0, 0)})\n",
    "\n",
    "    g = sns.displot(\n",
    "        *args,\n",
    "        **kwargs,\n",
    "        kind=\"hist\",\n",
    "        row_order=row_order,\n",
    "        hue_order=[\"true\", \"reconstructed\"],\n",
    "        multiple=\"fill\",\n",
    "        common_norm=False,\n",
    "        aspect=3,\n",
    "        height=1.1,\n",
    "        log_scale=(True, False),\n",
    "        bins=20,\n",
    "        element=\"step\",\n",
    "        palette=[\"none\", \"#1f77b4\"],\n",
    "        facet_kws=dict(margin_titles=True, sharex=\"col\"),\n",
    "        legend=False,\n",
    "    )\n",
    "    g.refline(y=0.5, linestyle=\"--\", linewidth=2, color=\"black\")\n",
    "    g.refline(y=0.0, linestyle=\"-\", linewidth=3, color=\"black\")\n",
    "\n",
    "    g.figure.subplots_adjust(hspace=-0.4)\n",
    "\n",
    "    g.set_titles(\"\")\n",
    "    g.set(yticks=[], ylabel=\"\")\n",
    "    g.despine(bottom=True, left=True)\n",
    "    g.set_titles(col_template=\"{col_name}\", row_template=\"{row_name}\")\n",
    "\n",
    "    for r, arr in enumerate(g.axes):\n",
    "        for c, ax in enumerate(arr):\n",
    "            color = plt.get_cmap(\"tab10_r\")(r)\n",
    "            for patch in ax.get_children():\n",
    "                try:\n",
    "                    if isinstance(patch, mpl.collections.PolyCollection):\n",
    "                        patch.set_facecolor(color)\n",
    "                        patch.set_alpha(0.5)\n",
    "                        break\n",
    "                except AttributeError:\n",
    "                    pass\n",
    "\n",
    "            # adapted from https://cduvallet.github.io/posts/2018/11/facetgrid-ylabel-access\n",
    "            # Rotate facet labels\n",
    "            if ax.texts:\n",
    "                # This contains the right ylabel text\n",
    "                txt = ax.texts[0]\n",
    "                ax.text(\n",
    "                    txt.get_unitless_position()[0],\n",
    "                    txt.get_unitless_position()[1],\n",
    "                    txt.get_text(),\n",
    "                    transform=ax.transAxes,\n",
    "                    va=\"center\",\n",
    "                    # fontsize=\"large\",\n",
    "                )\n",
    "                # Remove the original text\n",
    "                ax.texts[0].remove()\n",
    "    return g\n"
   ]
  },
  {
   "cell_type": "code",
   "execution_count": null,
   "metadata": {},
   "outputs": [],
   "source": [
    "groupby = [\"Scale\", \"Annotation Size (bits)\", \"Differentia Width (bits)\"]\n",
    "for what, group in df[df[\"Downsample\"] == 500].groupby(groupby):\n",
    "    group[\"Time Ago\"] = group[\"origin_time\"].max() + 1 - group[\"origin_time\"]\n",
    "    tp.tee(\n",
    "        joyhist,\n",
    "        data=group,\n",
    "        x=\"Time Ago\",\n",
    "        row=\"algo\",\n",
    "        col=\"Scenario\",\n",
    "        col_order=[\n",
    "            \"plain\",\n",
    "            \"mild structure\",\n",
    "            \"rich structure\",\n",
    "            \"drift\",\n",
    "        ],\n",
    "        hue=\"kind\",\n",
    "        teeplot_outattrs=dict(\n",
    "            zip(map(slugify, groupby), map(str, what)),\n",
    "        ),\n",
    "    )\n"
   ]
  },
  {
   "cell_type": "markdown",
   "metadata": {},
   "source": [
    "## Reproducibility"
   ]
  },
  {
   "cell_type": "code",
   "execution_count": null,
   "metadata": {},
   "outputs": [],
   "source": [
    "import datetime\n",
    "datetime.datetime.now().isoformat()"
   ]
  },
  {
   "cell_type": "code",
   "execution_count": null,
   "metadata": {},
   "outputs": [],
   "source": [
    "%load_ext watermark\n",
    "%watermark"
   ]
  },
  {
   "cell_type": "code",
   "execution_count": null,
   "metadata": {},
   "outputs": [],
   "source": [
    "!pip freeze"
   ]
  }
 ],
 "metadata": {
  "kernelspec": {
   "display_name": "Python 3",
   "language": "python",
   "name": "python3"
  },
  "language_info": {
   "codemirror_mode": {
    "name": "ipython",
    "version": 3
   },
   "file_extension": ".py",
   "mimetype": "text/x-python",
   "name": "python",
   "nbconvert_exporter": "python",
   "pygments_lexer": "ipython3"
  }
 },
 "nbformat": 4,
 "nbformat_minor": 2
}
