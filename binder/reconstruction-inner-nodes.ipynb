{
 "cells": [
  {
   "cell_type": "markdown",
   "metadata": {},
   "source": [
    "## Set Up Dependencies"
   ]
  },
  {
   "cell_type": "code",
   "execution_count": 1,
   "metadata": {
    "execution": {
     "iopub.execute_input": "2024-03-11T02:49:19.836830Z",
     "iopub.status.busy": "2024-03-11T02:49:19.836656Z",
     "iopub.status.idle": "2024-03-11T02:49:21.196572Z",
     "shell.execute_reply": "2024-03-11T02:49:21.196029Z"
    }
   },
   "outputs": [],
   "source": [
    "import matplotlib as mpl\n",
    "from matplotlib import pyplot as plt\n",
    "import pandas as pd\n",
    "import seaborn as sns\n",
    "from teeplot import teeplot as tp\n"
   ]
  },
  {
   "cell_type": "markdown",
   "metadata": {},
   "source": [
    "## Fetch and Preprocess Data"
   ]
  },
  {
   "cell_type": "code",
   "execution_count": 2,
   "metadata": {
    "execution": {
     "iopub.execute_input": "2024-03-11T02:49:21.199724Z",
     "iopub.status.busy": "2024-03-11T02:49:21.199267Z",
     "iopub.status.idle": "2024-03-11T02:49:23.545275Z",
     "shell.execute_reply": "2024-03-11T02:49:23.544610Z"
    }
   },
   "outputs": [],
   "source": [
    "df = pd.read_parquet(\"https://osf.io/trz42/download\")\n"
   ]
  },
  {
   "cell_type": "code",
   "execution_count": 3,
   "metadata": {
    "execution": {
     "iopub.execute_input": "2024-03-11T02:49:23.548307Z",
     "iopub.status.busy": "2024-03-11T02:49:23.547857Z",
     "iopub.status.idle": "2024-03-11T02:49:23.603600Z",
     "shell.execute_reply": "2024-03-11T02:49:23.603045Z"
    }
   },
   "outputs": [],
   "source": [
    "df = df.rename(\n",
    "    columns={\n",
    "        \"annotation_size_bits\": \"Annotation Size (bits)\",\n",
    "        \"algorithm\": \"Algorithm\",\n",
    "        \"population_size\": \"Population Size\",\n",
    "        \"num_generations\": \"Num Generations\",\n",
    "        \"num_islands\": \"Num Islands\",\n",
    "        \"num_niches\": \"Num Niches\",\n",
    "        \"tournament_size\": \"Tournament Size\",\n",
    "        \"replicate\": \"Replicate\"\n",
    "    },\n",
    ")\n"
   ]
  },
  {
   "cell_type": "code",
   "execution_count": 4,
   "metadata": {
    "execution": {
     "iopub.execute_input": "2024-03-11T02:49:23.606337Z",
     "iopub.status.busy": "2024-03-11T02:49:23.606146Z",
     "iopub.status.idle": "2024-03-11T02:49:24.734609Z",
     "shell.execute_reply": "2024-03-11T02:49:24.733965Z"
    }
   },
   "outputs": [],
   "source": [
    "df[\"Dynamics\"] = (\n",
    "    \"islands\"\n",
    "    + df[\"Num Islands\"].astype(str)\n",
    "    + \"-niches\"\n",
    "    + df[\"Num Niches\"].astype(str)\n",
    "    + \"-tsize\"\n",
    "    + df[\"Tournament Size\"].astype(str)\n",
    ")\n"
   ]
  },
  {
   "cell_type": "code",
   "execution_count": 5,
   "metadata": {
    "execution": {
     "iopub.execute_input": "2024-03-11T02:49:24.737654Z",
     "iopub.status.busy": "2024-03-11T02:49:24.737254Z",
     "iopub.status.idle": "2024-03-11T02:49:24.802222Z",
     "shell.execute_reply": "2024-03-11T02:49:24.801620Z"
    }
   },
   "outputs": [],
   "source": [
    "df[\"Scenario\"] = df[\"Dynamics\"].map(\n",
    "    {\n",
    "        \"islands1-niches1-tsize2\": \"plain\",\n",
    "        \"islands1-niches1-tsize1\": \"drift\",\n",
    "        \"islands4-niches2-tsize2\": \"spatial/ecological mild\",\n",
    "        \"islands64-niches8-tsize2\": \"spatial/ecological strong\",\n",
    "    }\n",
    ")"
   ]
  },
  {
   "cell_type": "code",
   "execution_count": 6,
   "metadata": {
    "execution": {
     "iopub.execute_input": "2024-03-11T02:49:24.805037Z",
     "iopub.status.busy": "2024-03-11T02:49:24.804629Z",
     "iopub.status.idle": "2024-03-11T02:49:24.908326Z",
     "shell.execute_reply": "2024-03-11T02:49:24.907748Z"
    }
   },
   "outputs": [],
   "source": [
    "df[\"algo\"] = df[\"Algorithm\"].map(\n",
    "    {\n",
    "        \"new-steady\": \"new\\nsteady\",\n",
    "        \"old-steady\": \"old\\nsteady\",\n",
    "        \"new-hybrid\": \"new\\nhybrid\",\n",
    "        \"new-tilted\": \"new\\ntilted\",\n",
    "        \"old-tilted\": \"old\\ntilted\",\n",
    "    },\n",
    ")"
   ]
  },
  {
   "cell_type": "code",
   "execution_count": 7,
   "metadata": {
    "execution": {
     "iopub.execute_input": "2024-03-11T02:49:24.911066Z",
     "iopub.status.busy": "2024-03-11T02:49:24.910702Z",
     "iopub.status.idle": "2024-03-11T02:49:25.640739Z",
     "shell.execute_reply": "2024-03-11T02:49:25.640149Z"
    }
   },
   "outputs": [],
   "source": [
    "df[\"Scale\"] = (\n",
    "    \"npop\"\n",
    "    + df[\"Population Size\"].astype(str)\n",
    "    + \"-ngen\"\n",
    "    + df[\"Num Generations\"].astype(str)\n",
    ")"
   ]
  },
  {
   "cell_type": "code",
   "execution_count": 8,
   "metadata": {
    "execution": {
     "iopub.execute_input": "2024-03-11T02:49:25.643583Z",
     "iopub.status.busy": "2024-03-11T02:49:25.643183Z",
     "iopub.status.idle": "2024-03-11T02:49:25.649339Z",
     "shell.execute_reply": "2024-03-11T02:49:25.648861Z"
    }
   },
   "outputs": [],
   "source": [
    "row_order=[\n",
    "    # \"new-steady\",\n",
    "    # \"old-steady\",\n",
    "    # \"new-hybrid\",\n",
    "    # \"new-tilted\",\n",
    "    # \"old-tilted\",\n",
    "    \"new\\nsteady\",\n",
    "    \"old\\nsteady\",\n",
    "    \"new\\nhybrid\",\n",
    "    \"new\\ntilted\",\n",
    "    \"old\\ntilted\",\n",
    "]\n",
    "\n",
    "def joyhist(*args, **kwargs):\n",
    "    sns.set_theme(style=\"white\", rc={\"axes.facecolor\": (0, 0, 0, 0)})\n",
    "\n",
    "    g = sns.displot(\n",
    "        *args,\n",
    "        **kwargs,\n",
    "        kind=\"hist\",\n",
    "        row_order=row_order,\n",
    "        hue_order=[\"true\", \"reconstructed\"],\n",
    "        multiple=\"fill\",\n",
    "        common_norm=False,\n",
    "        aspect=3,\n",
    "        height=1,\n",
    "        log_scale=(True, False),\n",
    "        bins=20,\n",
    "        element=\"step\",\n",
    "        palette=[\"none\", \"#1f77b4\"],\n",
    "        facet_kws=dict(margin_titles=True),\n",
    "        legend=False,\n",
    "    )\n",
    "    g.refline(y=0.5, linestyle=\"--\", linewidth=2, color=\"black\")\n",
    "    g.refline(y=0.0, linestyle=\"-\", linewidth=3, color=\"black\")\n",
    "\n",
    "    g.figure.subplots_adjust(hspace=-0.4)\n",
    "\n",
    "    g.set_titles(\"\")\n",
    "    g.set(yticks=[], ylabel=\"\")\n",
    "    g.despine(bottom=True, left=True)\n",
    "    g.set_titles(col_template=\"{col_name}\", row_template=\"{row_name}\")\n",
    "\n",
    "    for r, arr in enumerate(g.axes):\n",
    "        for c, ax in enumerate(arr):\n",
    "            color = plt.get_cmap('tab10')(r)\n",
    "            for patch in ax.get_children():\n",
    "                try:\n",
    "                    if isinstance(patch, mpl.collections.PolyCollection):\n",
    "                        patch.set_facecolor(color)\n",
    "                        patch.set_alpha(0.5)\n",
    "                        break\n",
    "                except AttributeError:\n",
    "                    pass\n",
    "    return g"
   ]
  },
  {
   "cell_type": "code",
   "execution_count": 9,
   "metadata": {
    "execution": {
     "iopub.execute_input": "2024-03-11T02:49:25.651565Z",
     "iopub.status.busy": "2024-03-11T02:49:25.651143Z",
     "iopub.status.idle": "2024-03-11T02:49:45.964370Z",
     "shell.execute_reply": "2024-03-11T02:49:45.963729Z"
    }
   },
   "outputs": [
    {
     "name": "stderr",
     "output_type": "stream",
     "text": [
      "/home/runner/.local/lib/python3.10/site-packages/seaborn/axisgrid.py:123: UserWarning: Tight layout not applied. tight_layout cannot make axes height small enough to accommodate all axes decorations.\n",
      "  self._figure.tight_layout(*args, **kwargs)\n"
     ]
    },
    {
     "name": "stdout",
     "output_type": "stream",
     "text": [
      "teeplots/col=scenario+hue=kind+row=algo+viz=joyhist+x=time-ago+ext=.pdf\n"
     ]
    },
    {
     "name": "stdout",
     "output_type": "stream",
     "text": [
      "teeplots/col=scenario+hue=kind+row=algo+viz=joyhist+x=time-ago+ext=.png\n"
     ]
    },
    {
     "data": {
      "image/png": "[encoded data removed]",
      "text/plain": [
       "<Figure size 1200x500 with 20 Axes>"
      ]
     },
     "metadata": {},
     "output_type": "display_data"
    }
   ],
   "source": [
    "for __, group in df.groupby(\"Scale\"):\n",
    "    group[\"Time Ago\"] = group[\"origin_time\"].max() + 1 - group[\"origin_time\"]\n",
    "    tp.tee(\n",
    "        joyhist,\n",
    "        data=group,\n",
    "        x=\"Time Ago\",\n",
    "        row=\"algo\",\n",
    "        col=\"Scenario\",\n",
    "        hue=\"kind\",\n",
    "    )"
   ]
  },
  {
   "cell_type": "markdown",
   "metadata": {},
   "source": [
    "## Reproducibility"
   ]
  },
  {
   "cell_type": "code",
   "execution_count": 10,
   "metadata": {
    "execution": {
     "iopub.execute_input": "2024-03-11T02:49:45.966948Z",
     "iopub.status.busy": "2024-03-11T02:49:45.966750Z",
     "iopub.status.idle": "2024-03-11T02:49:45.971072Z",
     "shell.execute_reply": "2024-03-11T02:49:45.970437Z"
    }
   },
   "outputs": [
    {
     "data": {
      "text/plain": [
       "'2024-03-11T02:49:45.967735'"
      ]
     },
     "execution_count": 10,
     "metadata": {},
     "output_type": "execute_result"
    }
   ],
   "source": [
    "import datetime\n",
    "datetime.datetime.now().isoformat()"
   ]
  },
  {
   "cell_type": "code",
   "execution_count": 11,
   "metadata": {
    "execution": {
     "iopub.execute_input": "2024-03-11T02:49:45.973174Z",
     "iopub.status.busy": "2024-03-11T02:49:45.973000Z",
     "iopub.status.idle": "2024-03-11T02:49:45.991080Z",
     "shell.execute_reply": "2024-03-11T02:49:45.990541Z"
    }
   },
   "outputs": [
    {
     "name": "stdout",
     "output_type": "stream",
     "text": [
      "Last updated: 2024-03-11T02:49:45.980826+00:00\n",
      "\n",
      "Python implementation: CPython\n",
      "Python version       : 3.10.12\n",
      "IPython version      : 8.22.1\n",
      "\n",
      "Compiler    : GCC 11.4.0\n",
      "OS          : Linux\n",
      "Release     : 6.5.0-1015-azure\n",
      "Machine     : x86_64\n",
      "Processor   : x86_64\n",
      "CPU cores   : 4\n",
      "Architecture: 64bit\n",
      "\n"
     ]
    }
   ],
   "source": [
    "%load_ext watermark\n",
    "%watermark"
   ]
  },
  {
   "cell_type": "code",
   "execution_count": 12,
   "metadata": {
    "execution": {
     "iopub.execute_input": "2024-03-11T02:49:45.993295Z",
     "iopub.status.busy": "2024-03-11T02:49:45.992950Z",
     "iopub.status.idle": "2024-03-11T02:49:46.551959Z",
     "shell.execute_reply": "2024-03-11T02:49:46.551188Z"
    }
   },
   "outputs": [
    {
     "name": "stdout",
     "output_type": "stream",
     "text": [
      "alifedata-phyloinformatics-convert==0.16.2\r\n",
      "annotated-types==0.6.0\r\n",
      "anytree==2.12.1\r\n",
      "argcomplete==3.2.2\r\n",
      "argon2-cffi==23.1.0\r\n",
      "argon2-cffi-bindings==21.2.0\r\n",
      "asttokens==2.4.1\r\n",
      "attrs==23.2.0\r\n",
      "Automat==20.2.0\r\n",
      "Babel==2.8.0\r\n",
      "backstrip==0.2.4\r\n",
      "bcrypt==3.2.0\r\n",
      "beautifulsoup4==4.12.3\r\n",
      "biopython==1.83\r\n",
      "bitarray==2.9.2\r\n",
      "bitstring==4.1.4\r\n",
      "black==22.10.0\r\n",
      "bleach==6.1.0\r\n",
      "blinker==1.4\r\n",
      "certifi==2024.2.2\r\n",
      "cffi==1.16.0\r\n",
      "chardet==4.0.0\r\n",
      "charset-normalizer==3.3.2\r\n",
      "click==8.1.7\r\n",
      "cloud-init==23.4.4\r\n",
      "colorama==0.4.4\r\n",
      "comm==0.2.1\r\n",
      "command-not-found==0.3\r\n",
      "configobj==5.0.6\r\n",
      "constantly==15.1.0\r\n",
      "contourpy==1.2.0\r\n",
      "cryptography==3.4.8\r\n",
      "cycler==0.12.1\r\n",
      "dataclasses==0.6\r\n",
      "dbus-python==1.2.18\r\n",
      "debugpy==1.8.1\r\n",
      "decorator==5.1.1\r\n",
      "defusedxml==0.7.1\r\n",
      "DendroPy==4.6.1\r\n",
      "Deprecated==1.2.14\r\n",
      "distro==1.7.0\r\n",
      "distro-info==1.1+ubuntu0.2\r\n",
      "distutils-strtobool==0.1.0\r\n",
      "entrypoints==0.4\r\n",
      "ete3==3.1.3\r\n",
      "exceptiongroup==1.2.0\r\n",
      "executing==2.0.1\r\n",
      "fastjsonschema==2.19.1\r\n",
      "fonttools==4.49.0\r\n",
      "frozendict==2.4.0\r\n",
      "gitdb==4.0.11\r\n",
      "GitPython==3.1.42\r\n",
      "hstrat==1.11.4\r\n",
      "hsurf @ git+https://github.com/mmore500/hstrat-surface-concept.git@34ce8f989ce942657478067b2509fe389167e29d\r\n",
      "httplib2==0.20.2\r\n",
      "hyperlink==21.0.0\r\n",
      "idna==3.6\r\n",
      "importlib-metadata==7.0.1\r\n",
      "incremental==21.3.0\r\n",
      "iniconfig==2.0.0\r\n",
      "interval-search==0.5.2\r\n",
      "ipykernel==6.23.3\r\n",
      "ipython==8.22.1\r\n",
      "ipython-genutils==0.2.0\r\n",
      "ipywidgets==7.8.1\r\n",
      "iterpop==0.4.1\r\n",
      "jedi==0.19.1\r\n",
      "jeepney==0.7.1\r\n",
      "Jinja2==3.1.3\r\n",
      "joinem==0.1.5\r\n",
      "jsonpatch==1.32\r\n",
      "jsonpointer==2.0\r\n",
      "jsonschema==4.21.1\r\n",
      "jsonschema-specifications==2023.12.1\r\n",
      "jupyter==1.0.0\r\n",
      "jupyter-console==6.6.3\r\n",
      "jupyter_client==8.6.0\r\n",
      "jupyter_core==5.7.1\r\n",
      "jupyterlab-widgets==1.1.7\r\n",
      "jupyterlab_pygments==0.3.0\r\n",
      "keyname==0.6.0\r\n",
      "keyring==23.5.0\r\n",
      "kiwisolver==1.4.5\r\n",
      "launchpadlib==1.10.16\r\n",
      "lazr.restfulclient==0.14.4\r\n",
      "lazr.uri==1.0.6\r\n",
      "lru-dict==1.3.0\r\n",
      "lyncs_setuptools==0.3.1\r\n",
      "lyncs_utils==0.4.5\r\n",
      "MarkupSafe==2.1.5\r\n",
      "matplotlib==3.8.2\r\n",
      "matplotlib-inline==0.1.6\r\n",
      "mercurial==6.1.1\r\n",
      "mistune==3.0.2\r\n",
      "mmh3==4.1.0\r\n",
      "more-itertools==10.2.0\r\n",
      "mpmath==1.3.0\r\n",
      "multidict==6.0.5\r\n",
      "multimethod==1.11.1\r\n",
      "mypy-extensions==1.0.0\r\n",
      "nanto==0.1.1\r\n",
      "nb-clean==3.2.0\r\n",
      "nbclient==0.9.0\r\n",
      "nbconvert==7.16.1\r\n",
      "nbformat==5.9.2\r\n",
      "nest-asyncio==1.6.0\r\n",
      "netifaces==0.11.0\r\n",
      "networkx==3.2.1\r\n",
      "notebook==6.4.10\r\n",
      "numpy==1.26.4\r\n",
      "oauthlib==3.2.0\r\n",
      "opytional==0.1.0\r\n",
      "ordered-set==4.1.0\r\n",
      "packaging==23.2\r\n",
      "pandas==1.5.3\r\n",
      "pandera==0.18.0\r\n",
      "pandocfilters==1.5.1\r\n",
      "papermill==2.5.0\r\n",
      "parso==0.8.3\r\n",
      "pathspec==0.12.1\r\n",
      "patsy==0.5.6\r\n",
      "pecking==0.2.0\r\n",
      "pexpect==4.9.0\r\n",
      "phylotrackpy==0.1.18\r\n",
      "pillow==10.2.0\r\n",
      "pipx==1.4.3\r\n",
      "platformdirs==4.2.0\r\n",
      "pluggy==1.4.0\r\n",
      "polars==0.20.14\r\n",
      "prettytable==3.10.0\r\n",
      "prometheus_client==0.20.0\r\n",
      "prompt-toolkit==3.0.43\r\n",
      "psutil==5.9.8\r\n",
      "ptyprocess==0.7.0\r\n",
      "pure-eval==0.2.2\r\n",
      "py==1.11.0\r\n",
      "pyarrow==15.0.0\r\n",
      "pyasn1==0.4.8\r\n",
      "pyasn1-modules==0.2.1\r\n",
      "pycparser==2.21\r\n",
      "pydantic==2.6.2\r\n",
      "pydantic_core==2.16.3\r\n",
      "Pygments==2.17.2\r\n",
      "PyGObject==3.42.1\r\n",
      "PyHamcrest==2.0.2\r\n",
      "PyJWT==2.3.0\r\n",
      "pyOpenSSL==21.0.0\r\n",
      "pyparsing==3.1.1\r\n",
      "pyparted==3.11.7\r\n",
      "pyrsistent==0.18.1\r\n",
      "pyserial==3.5\r\n",
      "pytest==8.0.2\r\n",
      "python-apt==2.4.0+ubuntu3\r\n",
      "python-dateutil==2.8.2\r\n",
      "python-debian==0.1.43+ubuntu1.1\r\n",
      "python-magic==0.4.24\r\n",
      "python-slugify==8.0.4\r\n",
      "pytz==2024.1\r\n",
      "PyYAML==6.0.1\r\n",
      "pyzmq==25.1.2\r\n",
      "qtconsole==5.5.1\r\n",
      "QtPy==2.4.1\r\n",
      "referencing==0.33.0\r\n",
      "requests==2.31.0\r\n",
      "retry==0.9.2\r\n",
      "rpds-py==0.18.0\r\n",
      "ruff==0.2.2\r\n",
      "safe-assert==0.4.0\r\n",
      "scipy==1.12.0\r\n",
      "seaborn==0.13.2\r\n",
      "SecretStorage==3.3.1\r\n",
      "Send2Trash==1.8.2\r\n",
      "service-identity==18.1.0\r\n",
      "six==1.16.0\r\n",
      "smmap==5.0.1\r\n",
      "sortedcontainers==2.4.0\r\n",
      "sos==4.5.6\r\n",
      "soupsieve==2.5\r\n",
      "ssh-import-id==5.11\r\n",
      "stack-data==0.6.3\r\n",
      "statsmodels==0.14.1\r\n",
      "systemd-python==234\r\n",
      "teeplot==1.0.1\r\n",
      "tenacity==8.2.3\r\n",
      "terminado==0.18.0\r\n",
      "text-unidecode==1.3\r\n",
      "tinycss2==1.2.1\r\n",
      "tomli==2.0.1\r\n",
      "tornado==6.4\r\n",
      "tqdist==1.0\r\n",
      "tqdm==4.66.1\r\n",
      "traitlets==5.14.1\r\n",
      "Twisted==22.1.0\r\n",
      "typeguard==4.1.5\r\n",
      "typing-inspect==0.9.0\r\n",
      "typing_extensions==4.9.0\r\n",
      "ubuntu-advantage-tools==8001\r\n",
      "ufw==0.36.1\r\n",
      "urllib3==2.2.1\r\n",
      "userpath==1.9.2\r\n",
      "validators==0.22.0\r\n",
      "wadllib==1.3.6\r\n",
      "WALinuxAgent==2.2.46\r\n",
      "watermark==2.4.3\r\n",
      "wcwidth==0.2.13\r\n",
      "webencodings==0.5.1\r\n",
      "widgetsnbextension==3.6.6\r\n",
      "wrapt==1.16.0\r\n",
      "yarl==1.9.4\r\n",
      "zipp==3.17.0\r\n",
      "zope.interface==5.4.0\r\n"
     ]
    }
   ],
   "source": [
    "!pip freeze"
   ]
  }
 ],
 "metadata": {
  "kernelspec": {
   "display_name": "Python 3",
   "language": "python",
   "name": "python3"
  },
  "language_info": {
   "codemirror_mode": {
    "name": "ipython",
    "version": 3
   },
   "file_extension": ".py",
   "mimetype": "text/x-python",
   "name": "python",
   "nbconvert_exporter": "python",
   "pygments_lexer": "ipython3",
   "version": "3.10.12"
  }
 },
 "nbformat": 4,
 "nbformat_minor": 2
}
