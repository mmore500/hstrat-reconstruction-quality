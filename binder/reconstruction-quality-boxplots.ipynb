{
 "cells": [
  {
   "cell_type": "markdown",
   "metadata": {},
   "source": [
    "## Set Up Dependencies\n"
   ]
  },
  {
   "cell_type": "code",
   "execution_count": null,
   "metadata": {},
   "outputs": [],
   "source": [
    "import seaborn as sns\n",
    "import pandas as pd\n",
    "import pecking\n",
    "import numpy as np\n",
    "import matplotlib.pyplot as plt\n",
    "import matplotlib\n",
    "import pecking\n",
    "from teeplot import teeplot as tp"
   ]
  },
  {
   "cell_type": "markdown",
   "metadata": {},
   "source": [
    "## Data Retrieval and Preprocessing"
   ]
  },
  {
   "cell_type": "code",
   "execution_count": null,
   "metadata": {},
   "outputs": [],
   "source": [
    "df = pd.read_parquet(\"https://osf.io/ah7v5/download\")\n"
   ]
  },
  {
   "cell_type": "code",
   "execution_count": null,
   "metadata": {},
   "outputs": [],
   "source": [
    "df[\"Num Reconstructed Inner Nodes\"] = df[\"num_reconstructed_inner_nodes\"]\n",
    "df[\"Num True Inner Nodes\"] = df[\"num_true_inner_nodes\"]\n",
    "df[\"Raw Triplet Distance\"] = df[\"triplet_distance_raw\"]\n",
    "df[\"Sampled Triplet Distance Strict Reconst\"] = df[\n",
    "    \"sampled_triplet_distance_strict_reconst\"\n",
    "]\n",
    "df[\"Sampled Triplet Distance Strict\"] = df[\"sampled_triplet_distance_strict\"]\n",
    "df[\"Sampled Triplet Distance Lax\"] = df[\"sampled_triplet_distance_lax\"]\n",
    "df[\"Differentia Width (bits)\"] = df[\"differentia_width_bits\"]\n",
    "df[\"Annotation Size (bits)\"] = df[\"annotation_size_bits\"]\n",
    "df[\"Algorithm\"] = df[\"algorithm\"]\n",
    "df[\"Population Size\"] = df[\"population_size\"]\n",
    "df[\"Num Generations\"] = df[\"num_generations\"]\n",
    "df[\"Num Islands\"] = df[\"num_islands\"]\n",
    "df[\"Num Niches\"] = df[\"num_niches\"]\n",
    "df[\"Tournament Size\"] = df[\"tournament_size\"]\n",
    "df[\"Replicate\"] = df[\"replicate\"]\n",
    "df[\"Downsample\"] = df[\"downsample\"]\n"
   ]
  },
  {
   "cell_type": "code",
   "execution_count": null,
   "metadata": {},
   "outputs": [],
   "source": [
    "df[\"Inner Node Resolution\"] = (\n",
    "    df[\"Num Reconstructed Inner Nodes\"] / df[\"Num True Inner Nodes\"]\n",
    ")\n",
    "df[\"Inner Node Loss\"] = 1 - df[\"Inner Node Resolution\"]\n"
   ]
  },
  {
   "cell_type": "code",
   "execution_count": null,
   "metadata": {},
   "outputs": [],
   "source": [
    "df[\"Dynamics\"] = (\n",
    "    \"islands\"\n",
    "    + df[\"Num Islands\"].astype(str)\n",
    "    + \"-niches\"\n",
    "    + df[\"Num Niches\"].astype(str)\n",
    "    + \"-tsize\"\n",
    "    + df[\"Tournament Size\"].astype(str)\n",
    ")\n"
   ]
  },
  {
   "cell_type": "code",
   "execution_count": null,
   "metadata": {},
   "outputs": [],
   "source": [
    "df[\"Scale\"] = (\n",
    "    \"npop\"\n",
    "    + df[\"Population Size\"].astype(str)\n",
    "    + \"-ngen\"\n",
    "    + df[\"Num Generations\"].astype(str)\n",
    ")\n"
   ]
  },
  {
   "cell_type": "code",
   "execution_count": null,
   "metadata": {},
   "outputs": [],
   "source": [
    "df[\"Triplet\\nDistance\"] = df[\"Raw Triplet Distance\"]\n",
    "df[\"Sampled\\nTriplet\\nDistance\\nStrict\"] = df[\"Sampled Triplet Distance Strict\"]\n",
    "df[\"Sampled\\nTriplet\\nDistance\\nStrict Reconst\"] = df[\n",
    "    \"Sampled Triplet Distance Strict Reconst\"\n",
    "]\n",
    "df[\"Sampled\\nTriplet\\nDistance\\nLax\"] = df[\"Sampled Triplet Distance Lax\"]\n",
    "df[\"Inner\\nNode\\nResolution\"] = df[\"Inner Node Resolution\"]\n",
    "df[\"Inner\\nNode\\nLoss\"] = df[\"Inner Node Loss\"]\n",
    "df[\"Num\\nReconstructed\\nInner\\nNodes\"] = df[\"Num Reconstructed Inner Nodes\"]\n",
    "df[\"Num\\nTrue\\nInner\\nNodes\"] = df[\"Num True Inner Nodes\"]\n"
   ]
  },
  {
   "cell_type": "code",
   "execution_count": null,
   "metadata": {},
   "outputs": [],
   "source": [
    "df[\"Scenario\"] = df[\"Dynamics\"].map(\n",
    "    {\n",
    "        \"islands1-niches1-tsize2\": \"plain\",\n",
    "        \"islands1-niches1-tsize1\": \"drift\",\n",
    "        \"islands4-niches2-tsize2\": \"spatial/ecological mild\",\n",
    "        \"islands64-niches8-tsize2\": \"spatial/ecological strong\",\n",
    "    }\n",
    ")"
   ]
  },
  {
   "cell_type": "code",
   "execution_count": null,
   "metadata": {},
   "outputs": [],
   "source": [
    "dfx = df.melt(\n",
    "    id_vars=[\n",
    "        \"Algorithm\",\n",
    "        \"Annotation Size (bits)\",\n",
    "        \"Differentia Width (bits)\",\n",
    "        \"Downsample\",\n",
    "        \"Dynamics\",\n",
    "        \"Scenario\",\n",
    "        \"Scale\",\n",
    "        \"Population Size\",\n",
    "        \"Num Generations\",\n",
    "        \"Num Islands\",\n",
    "        \"Num Niches\",\n",
    "        \"Tournament Size\",\n",
    "        \"Replicate\",\n",
    "    ],\n",
    "    value_vars=[\n",
    "        # \"Triplet\\nDistance\",\n",
    "        \"Sampled\\nTriplet\\nDistance\\nStrict\",\n",
    "        \"Sampled\\nTriplet\\nDistance\\nStrict Reconst\",\n",
    "        # \"Sampled\\nTriplet\\nDistance\\nLax\",\n",
    "        \"Inner\\nNode\\nLoss\",\n",
    "    ],\n",
    ")\n",
    "dfx.head()\n"
   ]
  },
  {
   "cell_type": "markdown",
   "metadata": {},
   "source": [
    "## Visualize Main Metrics"
   ]
  },
  {
   "cell_type": "code",
   "execution_count": null,
   "metadata": {},
   "outputs": [],
   "source": [
    "hue_order = [\n",
    "    \"surf-steady\",\n",
    "    \"col-steady\",\n",
    "    \"surf-hybrid\",\n",
    "    \"surf-tilted\",\n",
    "    \"col-tilted\",\n",
    "]\n",
    "\n",
    "\n",
    "for sizebits, group in dfx.groupby(\"Annotation Size (bits)\"):\n",
    "    tp.tee(\n",
    "        pecking.peckplot,\n",
    "        data=group.reset_index(drop=True),\n",
    "        score=\"value\",\n",
    "        x=\"variable\",\n",
    "        y=\"value\",\n",
    "        col=\"Scenario\",\n",
    "        row=\"Scale\",\n",
    "        hue=\"Algorithm\",\n",
    "        x_group=\"outer\",\n",
    "        order=[\"Triplet\\nDistance\", \"Inner\\nNode\\nLoss\"],\n",
    "        hue_order=hue_order,\n",
    "        skim_hatches=(\"..OO\", \"*\"),\n",
    "        skim_labels=(\"Worst\", \"Best\"),\n",
    "        # skimmers=[pecking.skim_highest],\n",
    "        margin_titles=True,\n",
    "        legend_width_inches=3,\n",
    "        teeplot_outattrs={\"a\": \"focal\", \"sizebits\": sizebits},\n",
    "        teeplot_outexclude=[\"post\", \"teeplot_postprocess\"],\n",
    "        teeplot_postprocess=\"teed.figure.subplots_adjust(right=0.84)\",\n",
    "    )\n"
   ]
  },
  {
   "cell_type": "markdown",
   "metadata": {},
   "source": [
    "## Visualize All Metrics"
   ]
  },
  {
   "cell_type": "code",
   "execution_count": null,
   "metadata": {},
   "outputs": [],
   "source": [
    "hue_order = [\n",
    "    \"surf-steady\",\n",
    "    \"col-steady\",\n",
    "    \"surf-hybrid\",\n",
    "    \"surf-tilted\",\n",
    "    \"col-tilted\",\n",
    "]\n",
    "\n",
    "\n",
    "for sizebits, group in dfx.groupby(\"Annotation Size (bits)\"):\n",
    "    tp.tee(\n",
    "        pecking.peckplot,\n",
    "        data=group.reset_index(drop=True),\n",
    "        score=\"value\",\n",
    "        x=\"variable\",\n",
    "        y=\"value\",\n",
    "        col=\"Scenario\",\n",
    "        row=\"Scale\",\n",
    "        hue=\"Algorithm\",\n",
    "        x_group=\"outer\",\n",
    "        hue_order=hue_order,\n",
    "        skim_hatches=(\"..OO\", \"*\"),\n",
    "        skim_labels=(\"Worst\", \"Best\"),\n",
    "        margin_titles=True,\n",
    "        legend_width_inches=3,\n",
    "        teeplot_outattrs={\"a\": \"all\", \"sizebits\": sizebits},\n",
    "        teeplot_outexclude=[\"post\", \"teeplot_postprocess\"],\n",
    "        teeplot_postprocess=\"teed.figure.subplots_adjust(right=0.84)\",\n",
    "    )\n"
   ]
  },
  {
   "cell_type": "markdown",
   "metadata": {},
   "source": [
    "## Comparison Between Population Sizes\n"
   ]
  },
  {
   "cell_type": "code",
   "execution_count": null,
   "metadata": {},
   "outputs": [],
   "source": [
    "x_order = [\n",
    "    \"surf-steady\",\n",
    "    # \"col-steady\",\n",
    "    \"surf-hybrid\",\n",
    "    \"surf-tilted\",\n",
    "    # \"col-tilted\",\n",
    "]\n",
    "hue_order = [\n",
    "    \"npop4096-ngen100000\",\n",
    "    \"npop65536-ngen100000\",\n",
    "]\n",
    "\n",
    "\n",
    "for (sizebits, diffwidth, dsamp), group in dfx.groupby(\n",
    "    [\n",
    "        \"Annotation Size (bits)\",\n",
    "        \"Differentia Width (bits)\",\n",
    "        \"Downsample\",\n",
    "    ],\n",
    "):\n",
    "    tp.tee(\n",
    "        pecking.peckplot,\n",
    "        data=group,\n",
    "        score=\"value\",\n",
    "        x=\"Algorithm\",\n",
    "        y=\"value\",\n",
    "        col=\"Scenario\",\n",
    "        row=\"variable\",\n",
    "        hue=\"Scale\",\n",
    "        x_group=\"outer\",\n",
    "        y_group=\"ignore\",\n",
    "        hue_group=\"inner\",\n",
    "        order=x_order,\n",
    "        hue_order=hue_order,\n",
    "        skim_hatches=(\"*\",),\n",
    "        skim_labels=(\"Best\",),\n",
    "        skimmers=[pecking.skim_lowest],\n",
    "        margin_titles=True,\n",
    "        legend_width_inches=3,\n",
    "        teeplot_outattrs={\n",
    "            \"a\": \"all\",\n",
    "            \"sizebits\": sizebits,\n",
    "            \"diffwidth\": diffwidth,\n",
    "            \"dsamp\": dsamp,\n",
    "        },\n",
    "        teeplot_outexclude=[\"post\", \"teeplot_postprocess\"],\n",
    "        teeplot_postprocess=\"teed.figure.subplots_adjust(right=0.84)\",\n",
    "    )\n"
   ]
  },
  {
   "cell_type": "markdown",
   "metadata": {},
   "source": [
    "## Reproducibility Information"
   ]
  },
  {
   "cell_type": "code",
   "execution_count": null,
   "metadata": {},
   "outputs": [],
   "source": [
    "import datetime\n",
    "\n",
    "datetime.datetime.now().isoformat()"
   ]
  },
  {
   "cell_type": "code",
   "execution_count": null,
   "metadata": {},
   "outputs": [],
   "source": [
    "%load_ext watermark\n",
    "%watermark"
   ]
  },
  {
   "cell_type": "code",
   "execution_count": null,
   "metadata": {},
   "outputs": [],
   "source": [
    "!pip freeze"
   ]
  }
 ],
 "metadata": {
  "kernelspec": {
   "display_name": "Python 3",
   "language": "python",
   "name": "python3"
  },
  "language_info": {
   "codemirror_mode": {
    "name": "ipython",
    "version": 3
   },
   "file_extension": ".py",
   "mimetype": "text/x-python",
   "name": "python",
   "nbconvert_exporter": "python",
   "pygments_lexer": "ipython3"
  }
 },
 "nbformat": 4,
 "nbformat_minor": 2
}
