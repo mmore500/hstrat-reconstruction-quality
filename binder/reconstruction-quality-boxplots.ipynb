{
 "cells": [
  {
   "cell_type": "markdown",
   "metadata": {},
   "source": [
    "## Set Up Dependencies"
   ]
  },
  {
   "cell_type": "code",
   "execution_count": null,
   "metadata": {},
   "outputs": [],
   "source": [
    "!pip install \"pecking==0.2.0\" \"teeplot==1.0.1\" \"watermark==2.4.3\""
   ]
  },
  {
   "cell_type": "code",
   "execution_count": null,
   "metadata": {},
   "outputs": [],
   "source": [
    "import seaborn as sns\n",
    "import pandas as pd\n",
    "import pecking\n",
    "import numpy as np\n",
    "import matplotlib.pyplot as plt\n",
    "import matplotlib\n",
    "import pecking\n",
    "from teeplot import teeplot as tp"
   ]
  },
  {
   "cell_type": "markdown",
   "metadata": {},
   "source": [
    "## Data Retrieval and Preprocessing"
   ]
  },
  {
   "cell_type": "code",
   "execution_count": null,
   "metadata": {},
   "outputs": [],
   "source": [
    "df = pd.read_parquet(\"https://osf.io/ah7v5/download\")\n"
   ]
  },
  {
   "cell_type": "code",
   "execution_count": null,
   "metadata": {},
   "outputs": [],
   "source": [
    "df[\"Num Reconstructed Inner Nodes\"] = df[\"num_reconstructed_inner_nodes\"]\n",
    "df[\"Num True Inner Nodes\"] = df[\"num_true_inner_nodes\"]\n",
    "df[\"Raw Triplet Distance\"] = df[\"triplet_distance_raw\"]\n",
    "df[\"Sampled Triplet Distance Strict\"] = df[\"sampled_triplet_distance_strict\"]\n",
    "df[\"Sampled Triplet Distance Lax\"] = df[\"sampled_triplet_distance_lax\"]\n",
    "df[\"Annotation Size (bits)\"] = df[\"annotation_size_bits\"]\n",
    "df[\"Algorithm\"] = df[\"algorithm\"]\n",
    "df[\"Population Size\"] = df[\"population_size\"]\n",
    "df[\"Num Generations\"] = df[\"num_generations\"]\n",
    "df[\"Num Islands\"] = df[\"num_islands\"]\n",
    "df[\"Num Niches\"] = df[\"num_niches\"]\n",
    "df[\"Tournament Size\"] = df[\"tournament_size\"]\n",
    "df[\"Replicate\"] = df[\"replicate\"]\n"
   ]
  },
  {
   "cell_type": "code",
   "execution_count": null,
   "metadata": {},
   "outputs": [],
   "source": [
    "df[\"Inner Node Resolution\"] = df[\"Num Reconstructed Inner Nodes\"] / df[\"Num True Inner Nodes\"]\n",
    "df[\"Inner Node Loss\"] = 1 - df[\"Inner Node Resolution\"]"
   ]
  },
  {
   "cell_type": "code",
   "execution_count": null,
   "metadata": {},
   "outputs": [],
   "source": [
    "df[\"Dynamics\"] = \"islands\" + df[\"Num Islands\"].astype(str) + \"-niches\" + df[\"Num Niches\"].astype(str) + \"-tsize\" + df[\"Tournament Size\"].astype(str)"
   ]
  },
  {
   "cell_type": "code",
   "execution_count": null,
   "metadata": {},
   "outputs": [],
   "source": [
    "df[\"Scale\"] = \"npop\" + df[\"Population Size\"].astype(str) + \"-ngen\" + df[\"Num Generations\"].astype(str)"
   ]
  },
  {
   "cell_type": "code",
   "execution_count": null,
   "metadata": {},
   "outputs": [],
   "source": [
    "df[\"Triplet\\nDistance\"] = df[\"Raw Triplet Distance\"]\n",
    "df[\"Sampled\\nTriplet\\nDistance\\nStrict\"] = df[\"Sampled Triplet Distance Strict\"]\n",
    "df[\"Sampled\\nTriplet\\nDistance\\nLax\"] = df[\"Sampled Triplet Distance Lax\"]\n",
    "df[\"Inner\\nNode\\nResolution\"] = df[\"Inner Node Resolution\"]\n",
    "df[\"Inner\\nNode\\nLoss\"] = df[\"Inner Node Loss\"]\n",
    "df[\"Num\\nReconstructed\\nInner\\nNodes\"] = df[\"Num Reconstructed Inner Nodes\"]\n",
    "df[\"Num\\nTrue\\nInner\\nNodes\"] = df[\"Num True Inner Nodes\"]"
   ]
  },
  {
   "cell_type": "code",
   "execution_count": null,
   "metadata": {},
   "outputs": [],
   "source": [
    "df[\"Scenario\"] = df[\"Dynamics\"].map(\n",
    "    {\n",
    "        \"islands1-niches1-tsize2\": \"plain\",\n",
    "        \"islands1-niches1-tsize1\": \"drift\",\n",
    "        \"islands4-niches2-tsize2\": \"spatial/ecological mild\",\n",
    "        \"islands64-niches8-tsize2\": \"spatial/ecological strong\",\n",
    "    }\n",
    ")"
   ]
  },
  {
   "cell_type": "code",
   "execution_count": null,
   "metadata": {},
   "outputs": [],
   "source": [
    "dfx = df.melt(\n",
    "    id_vars=[\"Algorithm\", \"Annotation Size (bits)\", \"Dynamics\", \"Scenario\", \"Scale\", \"Population Size\", \"Num Generations\", \"Num Islands\", \"Num Niches\", \"Tournament Size\", \"Replicate\"],\n",
    "    value_vars=[\"Triplet\\nDistance\", \"Sampled\\nTriplet\\nDistance\\nStrict\", \"Sampled\\nTriplet\\nDistance\\nLax\", \"Inner\\nNode\\nLoss\"],\n",
    ")\n",
    "dfx.head()\n"
   ]
  },
  {
   "cell_type": "markdown",
   "metadata": {},
   "source": [
    "## Visualize Main Metrics"
   ]
  },
  {
   "cell_type": "code",
   "execution_count": null,
   "metadata": {},
   "outputs": [],
   "source": [
    "hue_order=[\n",
    "    \"surf-steady\",\n",
    "    \"col-steady\",\n",
    "    \"surf-hybrid\",\n",
    "    \"surf-tilted\",\n",
    "    \"col-tilted\",\n",
    "]\n",
    "\n",
    "\n",
    "for sizebits, group in dfx.groupby(\"Annotation Size (bits)\"):\n",
    "    tp.tee(\n",
    "        sns.catplot,\n",
    "        kind=\"box\",\n",
    "        data=group,\n",
    "        # score=\"value\",\n",
    "        x=\"variable\",\n",
    "        y=\"value\",\n",
    "        col=\"Scenario\",\n",
    "        row=\"Scale\",\n",
    "        hue=\"Algorithm\",\n",
    "        # x_group=\"outer\",\n",
    "        order=[\"Triplet\\nDistance\", \"Inner\\nNode\\nLoss\"],\n",
    "        hue_order=hue_order,\n",
    "        # skim_hatches=(\".O\", \"*\"),\n",
    "        # skim_labels=(\"Worst\", \"Best\"),\n",
    "        margin_titles=True,\n",
    "        # legend_width_inches=3,\n",
    "        teeplot_outattrs={\"a\": \"focal\", \"sizebits\": sizebits},\n",
    "        teeplot_postprocess=\"teed.figure.subplots_adjust(right=0.84)\",\n",
    "    )\n"
   ]
  },
  {
   "cell_type": "markdown",
   "metadata": {},
   "source": [
    "## Visualize All Metrics"
   ]
  },
  {
   "cell_type": "code",
   "execution_count": null,
   "metadata": {},
   "outputs": [],
   "source": [
    "hue_order=[\n",
    "    \"surf-steady\",\n",
    "    \"col-steady\",\n",
    "    \"surf-hybrid\",\n",
    "    \"surf-tilted\",\n",
    "    \"col-tilted\",\n",
    "]\n",
    "\n",
    "\n",
    "for sizebits, group in dfx.groupby(\"Annotation Size (bits)\"):\n",
    "    tp.tee(\n",
    "        pecking.peckplot,\n",
    "        data=group,\n",
    "        score=\"value\",\n",
    "        x=\"variable\",\n",
    "        y=\"value\",\n",
    "        col=\"Scenario\",\n",
    "        row=\"Scale\",\n",
    "        hue=\"Algorithm\",\n",
    "        x_group=\"outer\",\n",
    "        hue_order=hue_order,\n",
    "        skim_hatches=(\".O\", \"*\"),\n",
    "        skim_labels=(\"Worst\", \"Best\"),\n",
    "        margin_titles=True,\n",
    "        legend_width_inches=3,\n",
    "        teeplot_outattrs={\"a\": \"all\", \"sizebits\": sizebits},\n",
    "        teeplot_postprocess=\"teed.figure.subplots_adjust(right=0.84)\",\n",
    "    )\n"
   ]
  },
  {
   "cell_type": "markdown",
   "metadata": {},
   "source": [
    "## Reproducibility Information"
   ]
  },
  {
   "cell_type": "code",
   "execution_count": null,
   "metadata": {},
   "outputs": [],
   "source": [
    "import datetime\n",
    "\n",
    "datetime.datetime.now().isoformat()"
   ]
  },
  {
   "cell_type": "code",
   "execution_count": null,
   "metadata": {},
   "outputs": [],
   "source": [
    "%load_ext watermark\n",
    "%watermark"
   ]
  },
  {
   "cell_type": "code",
   "execution_count": null,
   "metadata": {},
   "outputs": [],
   "source": [
    "!pip freeze"
   ]
  }
 ],
 "metadata": {
  "kernelspec": {
   "display_name": "Python 3",
   "language": "python",
   "name": "python3"
  },
  "language_info": {
   "codemirror_mode": {
    "name": "ipython",
    "version": 3
   },
   "file_extension": ".py",
   "mimetype": "text/x-python",
   "name": "python",
   "nbconvert_exporter": "python",
   "pygments_lexer": "ipython3"
  }
 },
 "nbformat": 4,
 "nbformat_minor": 2
}
