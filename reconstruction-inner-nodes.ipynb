{
 "cells": [
  {
   "cell_type": "markdown",
   "metadata": {},
   "source": [
    "## Set Up Dependencies"
   ]
  },
  {
   "cell_type": "code",
   "execution_count": null,
   "metadata": {},
   "outputs": [],
   "source": [
    "import matplotlib as mpl\n",
    "from matplotlib import pyplot as plt\n",
    "import pandas as pd\n",
    "import seaborn as sns\n",
    "from teeplot import teeplot as tp\n"
   ]
  },
  {
   "cell_type": "markdown",
   "metadata": {},
   "source": [
    "## Fetch and Preprocess Data"
   ]
  },
  {
   "cell_type": "code",
   "execution_count": null,
   "metadata": {},
   "outputs": [],
   "source": [
    "df = pd.read_parquet(\"https://osf.io/trz42/download\")\n"
   ]
  },
  {
   "cell_type": "code",
   "execution_count": null,
   "metadata": {},
   "outputs": [],
   "source": [
    "df = df.rename(\n",
    "    columns={\n",
    "        \"annotation_size_bits\": \"Annotation Size (bits)\",\n",
    "        \"algorithm\": \"Algorithm\",\n",
    "        \"population_size\": \"Population Size\",\n",
    "        \"num_generations\": \"Num Generations\",\n",
    "        \"num_islands\": \"Num Islands\",\n",
    "        \"num_niches\": \"Num Niches\",\n",
    "        \"tournament_size\": \"Tournament Size\",\n",
    "        \"replicate\": \"Replicate\"\n",
    "    },\n",
    ")\n"
   ]
  },
  {
   "cell_type": "code",
   "execution_count": null,
   "metadata": {},
   "outputs": [],
   "source": [
    "df[\"Dynamics\"] = (\n",
    "    \"islands\"\n",
    "    + df[\"Num Islands\"].astype(str)\n",
    "    + \"-niches\"\n",
    "    + df[\"Num Niches\"].astype(str)\n",
    "    + \"-tsize\"\n",
    "    + df[\"Tournament Size\"].astype(str)\n",
    ")\n"
   ]
  },
  {
   "cell_type": "code",
   "execution_count": null,
   "metadata": {},
   "outputs": [],
   "source": [
    "df[\"Scenario\"] = df[\"Dynamics\"].map(\n",
    "    {\n",
    "        \"islands1-niches1-tsize2\": \"plain\",\n",
    "        \"islands1-niches1-tsize1\": \"drift\",\n",
    "        \"islands4-niches2-tsize2\": \"spatial/ecological mild\",\n",
    "        \"islands64-niches8-tsize2\": \"spatial/ecological strong\",\n",
    "    }\n",
    ")"
   ]
  },
  {
   "cell_type": "code",
   "execution_count": null,
   "metadata": {},
   "outputs": [],
   "source": [
    "df[\"algo\"] = df[\"Algorithm\"].map(\n",
    "    {\n",
    "        \"new-steady\": \"new\\nsteady\",\n",
    "        \"old-steady\": \"old\\nsteady\",\n",
    "        \"new-hybrid\": \"new\\nhybrid\",\n",
    "        \"new-tilted\": \"new\\ntilted\",\n",
    "        \"old-tilted\": \"old\\ntilted\",\n",
    "    },\n",
    ")"
   ]
  },
  {
   "cell_type": "code",
   "execution_count": null,
   "metadata": {},
   "outputs": [],
   "source": [
    "df[\"Scale\"] = (\n",
    "    \"npop\"\n",
    "    + df[\"Population Size\"].astype(str)\n",
    "    + \"-ngen\"\n",
    "    + df[\"Num Generations\"].astype(str)\n",
    ")"
   ]
  },
  {
   "cell_type": "code",
   "execution_count": null,
   "metadata": {},
   "outputs": [],
   "source": [
    "row_order=[\n",
    "    # \"new-steady\",\n",
    "    # \"old-steady\",\n",
    "    # \"new-hybrid\",\n",
    "    # \"new-tilted\",\n",
    "    # \"old-tilted\",\n",
    "    \"new\\nsteady\",\n",
    "    \"old\\nsteady\",\n",
    "    \"new\\nhybrid\",\n",
    "    \"new\\ntilted\",\n",
    "    \"old\\ntilted\",\n",
    "]\n",
    "\n",
    "def joyhist(*args, **kwargs):\n",
    "    sns.set_theme(style=\"white\", rc={\"axes.facecolor\": (0, 0, 0, 0)})\n",
    "\n",
    "    g = sns.displot(\n",
    "        *args,\n",
    "        **kwargs,\n",
    "        kind=\"hist\",\n",
    "        row_order=row_order,\n",
    "        hue_order=[\"true\", \"reconstructed\"],\n",
    "        multiple=\"fill\",\n",
    "        common_norm=False,\n",
    "        aspect=3,\n",
    "        height=1,\n",
    "        log_scale=(True, False),\n",
    "        bins=20,\n",
    "        element=\"step\",\n",
    "        palette=[\"none\", \"#1f77b4\"],\n",
    "        facet_kws=dict(margin_titles=True),\n",
    "        legend=False,\n",
    "    )\n",
    "    g.refline(y=0.5, linestyle=\"--\", linewidth=2, color=\"black\")\n",
    "    g.refline(y=0.0, linestyle=\"-\", linewidth=3, color=\"black\")\n",
    "\n",
    "    g.figure.subplots_adjust(hspace=-0.4)\n",
    "\n",
    "    g.set_titles(\"\")\n",
    "    g.set(yticks=[], ylabel=\"\")\n",
    "    g.despine(bottom=True, left=True)\n",
    "    g.set_titles(col_template=\"{col_name}\", row_template=\"{row_name}\")\n",
    "\n",
    "    for r, arr in enumerate(g.axes):\n",
    "        for c, ax in enumerate(arr):\n",
    "            color = plt.get_cmap('tab10')(r)\n",
    "            for patch in ax.get_children():\n",
    "                try:\n",
    "                    if isinstance(patch, mpl.collections.PolyCollection):\n",
    "                        patch.set_facecolor(color)\n",
    "                        patch.set_alpha(0.5)\n",
    "                        break\n",
    "                except AttributeError:\n",
    "                    pass\n",
    "    return g"
   ]
  },
  {
   "cell_type": "code",
   "execution_count": null,
   "metadata": {},
   "outputs": [],
   "source": [
    "for __, group in df.groupby(\"Scale\"):\n",
    "    group[\"Time Ago\"] = group[\"origin_time\"].max() + 1 - group[\"origin_time\"]\n",
    "    tp.tee(\n",
    "        joyhist,\n",
    "        data=group,\n",
    "        x=\"Time Ago\",\n",
    "        row=\"algo\",\n",
    "        col=\"Scenario\",\n",
    "        hue=\"kind\",\n",
    "    )"
   ]
  },
  {
   "cell_type": "markdown",
   "metadata": {},
   "source": [
    "## Reproducibility"
   ]
  },
  {
   "cell_type": "code",
   "execution_count": null,
   "metadata": {},
   "outputs": [],
   "source": [
    "import datetime\n",
    "datetime.datetime.now().isoformat()"
   ]
  },
  {
   "cell_type": "code",
   "execution_count": null,
   "metadata": {},
   "outputs": [],
   "source": [
    "%load_ext watermark\n",
    "%watermark"
   ]
  },
  {
   "cell_type": "code",
   "execution_count": null,
   "metadata": {},
   "outputs": [],
   "source": [
    "!pip freeze"
   ]
  }
 ],
 "metadata": {
  "kernelspec": {
   "display_name": "Python 3",
   "language": "python",
   "name": "python3"
  },
  "language_info": {
   "codemirror_mode": {
    "name": "ipython",
    "version": 3
   },
   "file_extension": ".py",
   "mimetype": "text/x-python",
   "name": "python",
   "nbconvert_exporter": "python",
   "pygments_lexer": "ipython3"
  }
 },
 "nbformat": 4,
 "nbformat_minor": 2
}
