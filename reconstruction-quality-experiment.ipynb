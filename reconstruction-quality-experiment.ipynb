{
  "nbformat": 4,
  "nbformat_minor": 0,
  "metadata": {
    "colab": {
      "provenance": [],
      "include_colab_link": true
    },
    "kernelspec": {
      "name": "python3",
      "display_name": "Python 3"
    },
    "language_info": {
      "name": "python"
    }
  },
  "cells": [
    {
      "cell_type": "markdown",
      "metadata": {
        "id": "view-in-github",
        "colab_type": "text"
      },
      "source": [
        "<a href=\"https://colab.research.google.com/gist/mmore500/a2e88e7c239935c362ec59c6b5a3f7b5/reconstruction-quality-experiment.ipynb\" target=\"_parent\"><img src=\"https://colab.research.google.com/assets/colab-badge.svg\" alt=\"Open In Colab\"/></a>"
      ]
    },
    {
      "cell_type": "markdown",
      "source": [
        "## Procedure:\n",
        "\n",
        "For each experimental replicate per treatment,\n",
        "- Navigate to <https://colab.research.google.com/gist/mmore500/a2e88e7c239935c362ec59c6b5a3f7b5> to open a fresh copy of the experiment notebook. **Open a fresh notebook copy for each treatment.**\n",
        "- Click on filename on the top left of the Colab page(`a2e88e7c239935c362ec59c6b5a3f7b5`) and rename according to template\n",
        "  - `evo=island{num_islands}-niche{num_niches}-ngen{num_generations}-popsize{population_size}-tournsize{tournament_size}+instrument={\"steady\"|\"tilted\"}-{\"old\"|\"new\"}-bits{annotation_size_bits}-diff{differentia_width}+replicate={replicate}+ext=.ipynb`.\n",
        "  - For example, `evo=island1-niche1-ngen10000-popsize1024-tournsize2+instrument=steady-old-bits64-diff1+replicate=0+ext=.ipynb`.\n",
        "- Configure variables in \"Configure Experment\" section.\n",
        "- On the top menu, click `Runtime > Restart sesson and run all` if available, otherwise `Runtime > Run all`.\n",
        "- Wait for final cell's execution to complete.\n",
        "- Record configured variables and results from \"Evaluate Reconstruction\" section in [results spreadsheet](https://docs.google.com/spreadsheets/d/1ZhS4NDTDyBiwmwtWrZO5L06MGB3lhmp2-5ZzClhEwPU/edit?usp=sharing).\n",
        "- On the top menu, click `File > Download > Download .ipynb`.\n",
        "- Upload ipynb file to treatment directory at <https://osf.io/n4b2g/>, named same as notebook, except excluding `+replicate={replicate}+ext=.ipynb`.\n",
        "  - Treatment directory should contain notebooks for each replicate of notebook.\n"
      ],
      "metadata": {
        "id": "lhNERG3shuFb"
      }
    },
    {
      "cell_type": "markdown",
      "source": [
        "## Set Up Environment"
      ],
      "metadata": {
        "id": "pzVsZRrQEgVa"
      }
    },
    {
      "cell_type": "code",
      "source": [
        "!python3 -m pip install \\\n",
        "    \"alifedata_phyloinformatics_convert==0.15.1\" \\\n",
        "    \"biopython==1.83\" \\\n",
        "    \"dendropy==4.6.1\" \\\n",
        "    \"git+https://github.com/mmore500/hstrat-surface-concept.git@v0.1.0#egg=hsurf\" \\\n",
        "    \"hstrat==1.9.0\" \\\n",
        "    \"matplotlib==3.8.2\" \\\n",
        "    \"pandas==1.5.3\" \\\n",
        "    \"tqdist==1.0\" \\\n",
        "    \"tqdm==4.66.1\" \\\n",
        "    \"typing_extensions>=4.9.0\" \\\n",
        "    \"watermark==2.4.3\""
      ],
      "metadata": {
        "id": "yGzTyOj4EfuD",
        "colab": {
          "base_uri": "https://localhost:8080/"
        },
        "outputId": "1cf847ae-2973-48a8-b0d7-ddd50827e8a7"
      },
      "execution_count": 1,
      "outputs": [
        {
          "output_type": "stream",
          "name": "stdout",
          "text": [
            "Collecting hsurf\n",
            "  Cloning https://github.com/mmore500/hstrat-surface-concept.git (to revision v0.1.0) to /tmp/pip-install-woobafb8/hsurf_5bf18acec5524186a6d2acbf5bbb70c8\n",
            "  Running command git clone --filter=blob:none --quiet https://github.com/mmore500/hstrat-surface-concept.git /tmp/pip-install-woobafb8/hsurf_5bf18acec5524186a6d2acbf5bbb70c8\n",
            "  Running command git checkout -q 0873dcb9281393fc952925fe35debec6a05c5f1e\n",
            "  Resolved https://github.com/mmore500/hstrat-surface-concept.git to commit 0873dcb9281393fc952925fe35debec6a05c5f1e\n",
            "  Running command git submodule update --init --recursive -q\n",
            "  Installing build dependencies ... \u001b[?25l\u001b[?25hdone\n",
            "  Getting requirements to build wheel ... \u001b[?25l\u001b[?25hdone\n",
            "  Installing backend dependencies ... \u001b[?25l\u001b[?25hdone\n",
            "  Preparing metadata (pyproject.toml) ... \u001b[?25l\u001b[?25hdone\n",
            "Collecting alifedata_phyloinformatics_convert==0.15.1\n",
            "  Downloading alifedata_phyloinformatics_convert-0.15.1-py2.py3-none-any.whl (33 kB)\n",
            "Collecting biopython==1.83\n",
            "  Downloading biopython-1.83-cp310-cp310-manylinux_2_17_x86_64.manylinux2014_x86_64.whl (3.1 MB)\n",
            "\u001b[2K     \u001b[90m━━━━━━━━━━━━━━━━━━━━━━━━━━━━━━━━━━━━━━━━\u001b[0m \u001b[32m3.1/3.1 MB\u001b[0m \u001b[31m15.8 MB/s\u001b[0m eta \u001b[36m0:00:00\u001b[0m\n",
            "\u001b[?25hCollecting dendropy==4.6.1\n",
            "  Downloading DendroPy-4.6.1-py3-none-any.whl (458 kB)\n",
            "\u001b[2K     \u001b[90m━━━━━━━━━━━━━━━━━━━━━━━━━━━━━━━━━━━━━━━━\u001b[0m \u001b[32m458.6/458.6 kB\u001b[0m \u001b[31m44.5 MB/s\u001b[0m eta \u001b[36m0:00:00\u001b[0m\n",
            "\u001b[?25hCollecting hstrat==1.8.7\n",
            "  Downloading hstrat-1.8.7-py2.py3-none-any.whl (547 kB)\n",
            "\u001b[2K     \u001b[90m━━━━━━━━━━━━━━━━━━━━━━━━━━━━━━━━━━━━━━━━\u001b[0m \u001b[32m547.4/547.4 kB\u001b[0m \u001b[31m49.0 MB/s\u001b[0m eta \u001b[36m0:00:00\u001b[0m\n",
            "\u001b[?25hCollecting matplotlib==3.8.2\n",
            "  Downloading matplotlib-3.8.2-cp310-cp310-manylinux_2_17_x86_64.manylinux2014_x86_64.whl (11.6 MB)\n",
            "\u001b[2K     \u001b[90m━━━━━━━━━━━━━━━━━━━━━━━━━━━━━━━━━━━━━━━━\u001b[0m \u001b[32m11.6/11.6 MB\u001b[0m \u001b[31m56.0 MB/s\u001b[0m eta \u001b[36m0:00:00\u001b[0m\n",
            "\u001b[?25hRequirement already satisfied: pandas==1.5.3 in /usr/local/lib/python3.10/dist-packages (1.5.3)\n",
            "Collecting tqdist==1.0\n",
            "  Downloading tqdist-1.0.tar.gz (28 kB)\n",
            "  Preparing metadata (setup.py) ... \u001b[?25l\u001b[?25hdone\n",
            "Requirement already satisfied: tqdm==4.66.1 in /usr/local/lib/python3.10/dist-packages (4.66.1)\n",
            "Collecting typing_extensions>=4.9.0\n",
            "  Downloading typing_extensions-4.9.0-py3-none-any.whl (32 kB)\n",
            "Collecting watermark==2.4.3\n",
            "  Downloading watermark-2.4.3-py2.py3-none-any.whl (7.6 kB)\n",
            "Collecting anytree>=2.8.0 (from alifedata_phyloinformatics_convert==0.15.1)\n",
            "  Downloading anytree-2.12.1-py3-none-any.whl (44 kB)\n",
            "\u001b[2K     \u001b[90m━━━━━━━━━━━━━━━━━━━━━━━━━━━━━━━━━━━━━━━━\u001b[0m \u001b[32m44.9/44.9 kB\u001b[0m \u001b[31m5.5 MB/s\u001b[0m eta \u001b[36m0:00:00\u001b[0m\n",
            "\u001b[?25hRequirement already satisfied: click>=7.0 in /usr/local/lib/python3.10/dist-packages (from alifedata_phyloinformatics_convert==0.15.1) (8.1.7)\n",
            "Collecting Deprecated>=1.2.13 (from alifedata_phyloinformatics_convert==0.15.1)\n",
            "  Downloading Deprecated-1.2.14-py2.py3-none-any.whl (9.6 kB)\n",
            "Collecting ete3>=3.0.0 (from alifedata_phyloinformatics_convert==0.15.1)\n",
            "  Downloading ete3-3.1.3.tar.gz (4.8 MB)\n",
            "\u001b[2K     \u001b[90m━━━━━━━━━━━━━━━━━━━━━━━━━━━━━━━━━━━━━━━━\u001b[0m \u001b[32m4.8/4.8 MB\u001b[0m \u001b[31m69.1 MB/s\u001b[0m eta \u001b[36m0:00:00\u001b[0m\n",
            "\u001b[?25h  Preparing metadata (setup.py) ... \u001b[?25l\u001b[?25hdone\n",
            "Collecting iterpop>=0.4.0 (from alifedata_phyloinformatics_convert==0.15.1)\n",
            "  Downloading iterpop-0.4.1-py2.py3-none-any.whl (4.2 kB)\n",
            "Collecting lyncs-utils>=0.3.2 (from alifedata_phyloinformatics_convert==0.15.1)\n",
            "  Downloading lyncs_utils-0.4.5.tar.gz (26 kB)\n",
            "  Installing build dependencies ... \u001b[?25l\u001b[?25hdone\n",
            "  Getting requirements to build wheel ... \u001b[?25l\u001b[?25hdone\n",
            "  Preparing metadata (pyproject.toml) ... \u001b[?25l\u001b[?25hdone\n",
            "Collecting nanto>=0.1.1 (from alifedata_phyloinformatics_convert==0.15.1)\n",
            "  Downloading nanto-0.1.1-py2.py3-none-any.whl (4.4 kB)\n",
            "Requirement already satisfied: networkx>=2.5 in /usr/local/lib/python3.10/dist-packages (from alifedata_phyloinformatics_convert==0.15.1) (3.2.1)\n",
            "Requirement already satisfied: numpy>=1.21.5 in /usr/local/lib/python3.10/dist-packages (from alifedata_phyloinformatics_convert==0.15.1) (1.23.5)\n",
            "Collecting opytional>=0.1.0 (from alifedata_phyloinformatics_convert==0.15.1)\n",
            "  Downloading opytional-0.1.0-py2.py3-none-any.whl (5.8 kB)\n",
            "Collecting phylotrackpy>=0.1.16 (from alifedata_phyloinformatics_convert==0.15.1)\n",
            "  Downloading phylotrackpy-0.1.18-cp310-cp310-manylinux_2_17_x86_64.manylinux2014_x86_64.whl (274 kB)\n",
            "\u001b[2K     \u001b[90m━━━━━━━━━━━━━━━━━━━━━━━━━━━━━━━━━━━━━━━━\u001b[0m \u001b[32m274.5/274.5 kB\u001b[0m \u001b[31m27.1 MB/s\u001b[0m eta \u001b[36m0:00:00\u001b[0m\n",
            "\u001b[?25hRequirement already satisfied: sortedcontainers>=2.4.0 in /usr/local/lib/python3.10/dist-packages (from alifedata_phyloinformatics_convert==0.15.1) (2.4.0)\n",
            "Collecting validators>=0.20.0 (from alifedata_phyloinformatics_convert==0.15.1)\n",
            "  Downloading validators-0.22.0-py3-none-any.whl (26 kB)\n",
            "Requirement already satisfied: yarl>=1.9.3 in /usr/local/lib/python3.10/dist-packages (from alifedata_phyloinformatics_convert==0.15.1) (1.9.4)\n",
            "Requirement already satisfied: setuptools in /usr/local/lib/python3.10/dist-packages (from dendropy==4.6.1) (67.7.2)\n",
            "Collecting bitarray>=2.6.2 (from hstrat==1.8.7)\n",
            "  Downloading bitarray-2.9.2-cp310-cp310-manylinux_2_17_x86_64.manylinux2014_x86_64.whl (288 kB)\n",
            "\u001b[2K     \u001b[90m━━━━━━━━━━━━━━━━━━━━━━━━━━━━━━━━━━━━━━━━\u001b[0m \u001b[32m288.3/288.3 kB\u001b[0m \u001b[31m26.6 MB/s\u001b[0m eta \u001b[36m0:00:00\u001b[0m\n",
            "\u001b[?25hCollecting bitstring>=3.1.9 (from hstrat==1.8.7)\n",
            "  Downloading bitstring-4.1.4-py3-none-any.whl (60 kB)\n",
            "\u001b[2K     \u001b[90m━━━━━━━━━━━━━━━━━━━━━━━━━━━━━━━━━━━━━━━━\u001b[0m \u001b[32m61.0/61.0 kB\u001b[0m \u001b[31m8.1 MB/s\u001b[0m eta \u001b[36m0:00:00\u001b[0m\n",
            "\u001b[?25hCollecting interval-search>=0.3.1 (from hstrat==1.8.7)\n",
            "  Downloading interval_search-0.5.2-py2.py3-none-any.whl (9.6 kB)\n",
            "Collecting keyname>=0.4.1 (from hstrat==1.8.7)\n",
            "  Downloading keyname-0.6.0-py2.py3-none-any.whl (8.0 kB)\n",
            "Collecting lru-dict>=1.1.7 (from hstrat==1.8.7)\n",
            "  Downloading lru_dict-1.3.0-cp310-cp310-manylinux_2_5_x86_64.manylinux1_x86_64.manylinux_2_17_x86_64.manylinux2014_x86_64.whl (30 kB)\n",
            "Collecting mmh3>=3.0.0 (from hstrat==1.8.7)\n",
            "  Downloading mmh3-4.1.0-cp310-cp310-manylinux_2_5_x86_64.manylinux1_x86_64.manylinux_2_17_x86_64.manylinux2014_x86_64.whl (67 kB)\n",
            "\u001b[2K     \u001b[90m━━━━━━━━━━━━━━━━━━━━━━━━━━━━━━━━━━━━━━━━\u001b[0m \u001b[32m67.6/67.6 kB\u001b[0m \u001b[31m9.3 MB/s\u001b[0m eta \u001b[36m0:00:00\u001b[0m\n",
            "\u001b[?25hRequirement already satisfied: more-itertools>=8.13.0 in /usr/local/lib/python3.10/dist-packages (from hstrat==1.8.7) (10.1.0)\n",
            "Requirement already satisfied: mpmath>=1.1.0 in /usr/local/lib/python3.10/dist-packages (from hstrat==1.8.7) (1.3.0)\n",
            "Collecting ordered-set>=4.1.0 (from hstrat==1.8.7)\n",
            "  Downloading ordered_set-4.1.0-py3-none-any.whl (7.6 kB)\n",
            "Requirement already satisfied: packaging>=23.0 in /usr/local/lib/python3.10/dist-packages (from hstrat==1.8.7) (23.2)\n",
            "Collecting pandera>=0.13.4 (from hstrat==1.8.7)\n",
            "  Downloading pandera-0.18.0-py3-none-any.whl (209 kB)\n",
            "\u001b[2K     \u001b[90m━━━━━━━━━━━━━━━━━━━━━━━━━━━━━━━━━━━━━━━━\u001b[0m \u001b[32m209.0/209.0 kB\u001b[0m \u001b[31m25.1 MB/s\u001b[0m eta \u001b[36m0:00:00\u001b[0m\n",
            "\u001b[?25hRequirement already satisfied: prettytable>=3.5.0 in /usr/local/lib/python3.10/dist-packages (from hstrat==1.8.7) (3.9.0)\n",
            "Requirement already satisfied: python-slugify>=6.1.2 in /usr/local/lib/python3.10/dist-packages (from hstrat==1.8.7) (8.0.1)\n",
            "Collecting safe-assert>=0.2.0 (from hstrat==1.8.7)\n",
            "  Downloading safe_assert-0.4.0-py3-none-any.whl (4.3 kB)\n",
            "Requirement already satisfied: seaborn>=0.11.0 in /usr/local/lib/python3.10/dist-packages (from hstrat==1.8.7) (0.13.1)\n",
            "Requirement already satisfied: contourpy>=1.0.1 in /usr/local/lib/python3.10/dist-packages (from matplotlib==3.8.2) (1.2.0)\n",
            "Requirement already satisfied: cycler>=0.10 in /usr/local/lib/python3.10/dist-packages (from matplotlib==3.8.2) (0.12.1)\n",
            "Requirement already satisfied: fonttools>=4.22.0 in /usr/local/lib/python3.10/dist-packages (from matplotlib==3.8.2) (4.47.2)\n",
            "Requirement already satisfied: kiwisolver>=1.3.1 in /usr/local/lib/python3.10/dist-packages (from matplotlib==3.8.2) (1.4.5)\n",
            "Requirement already satisfied: pillow>=8 in /usr/local/lib/python3.10/dist-packages (from matplotlib==3.8.2) (9.4.0)\n",
            "Requirement already satisfied: pyparsing>=2.3.1 in /usr/local/lib/python3.10/dist-packages (from matplotlib==3.8.2) (3.1.1)\n",
            "Requirement already satisfied: python-dateutil>=2.7 in /usr/local/lib/python3.10/dist-packages (from matplotlib==3.8.2) (2.8.2)\n",
            "Requirement already satisfied: pytz>=2020.1 in /usr/local/lib/python3.10/dist-packages (from pandas==1.5.3) (2023.3.post1)\n",
            "Requirement already satisfied: ipython>=6.0 in /usr/local/lib/python3.10/dist-packages (from watermark==2.4.3) (7.34.0)\n",
            "Requirement already satisfied: importlib-metadata>=1.4 in /usr/local/lib/python3.10/dist-packages (from watermark==2.4.3) (7.0.1)\n",
            "Requirement already satisfied: scipy in /usr/local/lib/python3.10/dist-packages (from hsurf) (1.11.4)\n",
            "Collecting teeplot>=0.5.0 (from hsurf)\n",
            "  Downloading teeplot-1.0.1-py2.py3-none-any.whl (11 kB)\n",
            "Requirement already satisfied: six in /usr/local/lib/python3.10/dist-packages (from anytree>=2.8.0->alifedata_phyloinformatics_convert==0.15.1) (1.16.0)\n",
            "Requirement already satisfied: wrapt<2,>=1.10 in /usr/local/lib/python3.10/dist-packages (from Deprecated>=1.2.13->alifedata_phyloinformatics_convert==0.15.1) (1.14.1)\n",
            "Requirement already satisfied: zipp>=0.5 in /usr/local/lib/python3.10/dist-packages (from importlib-metadata>=1.4->watermark==2.4.3) (3.17.0)\n",
            "Collecting jedi>=0.16 (from ipython>=6.0->watermark==2.4.3)\n",
            "  Downloading jedi-0.19.1-py2.py3-none-any.whl (1.6 MB)\n",
            "\u001b[2K     \u001b[90m━━━━━━━━━━━━━━━━━━━━━━━━━━━━━━━━━━━━━━━━\u001b[0m \u001b[32m1.6/1.6 MB\u001b[0m \u001b[31m64.6 MB/s\u001b[0m eta \u001b[36m0:00:00\u001b[0m\n",
            "\u001b[?25hRequirement already satisfied: decorator in /usr/local/lib/python3.10/dist-packages (from ipython>=6.0->watermark==2.4.3) (4.4.2)\n",
            "Requirement already satisfied: pickleshare in /usr/local/lib/python3.10/dist-packages (from ipython>=6.0->watermark==2.4.3) (0.7.5)\n",
            "Requirement already satisfied: traitlets>=4.2 in /usr/local/lib/python3.10/dist-packages (from ipython>=6.0->watermark==2.4.3) (5.7.1)\n",
            "Requirement already satisfied: prompt-toolkit!=3.0.0,!=3.0.1,<3.1.0,>=2.0.0 in /usr/local/lib/python3.10/dist-packages (from ipython>=6.0->watermark==2.4.3) (3.0.43)\n",
            "Requirement already satisfied: pygments in /usr/local/lib/python3.10/dist-packages (from ipython>=6.0->watermark==2.4.3) (2.16.1)\n",
            "Requirement already satisfied: backcall in /usr/local/lib/python3.10/dist-packages (from ipython>=6.0->watermark==2.4.3) (0.2.0)\n",
            "Requirement already satisfied: matplotlib-inline in /usr/local/lib/python3.10/dist-packages (from ipython>=6.0->watermark==2.4.3) (0.1.6)\n",
            "Requirement already satisfied: pexpect>4.3 in /usr/local/lib/python3.10/dist-packages (from ipython>=6.0->watermark==2.4.3) (4.9.0)\n",
            "Collecting retry>=0.9.2 (from keyname>=0.4.1->hstrat==1.8.7)\n",
            "  Downloading retry-0.9.2-py2.py3-none-any.whl (8.0 kB)\n",
            "Collecting dataclasses (from lyncs-utils>=0.3.2->alifedata_phyloinformatics_convert==0.15.1)\n",
            "  Downloading dataclasses-0.6-py3-none-any.whl (14 kB)\n",
            "Collecting lyncs-setuptools (from lyncs-utils>=0.3.2->alifedata_phyloinformatics_convert==0.15.1)\n",
            "  Using cached lyncs_setuptools-0.3.1-py3-none-any.whl\n",
            "Collecting multimethod (from pandera>=0.13.4->hstrat==1.8.7)\n",
            "  Downloading multimethod-1.10-py3-none-any.whl (9.9 kB)\n",
            "Requirement already satisfied: pydantic in /usr/local/lib/python3.10/dist-packages (from pandera>=0.13.4->hstrat==1.8.7) (1.10.14)\n",
            "Collecting typeguard>=3.0.2 (from pandera>=0.13.4->hstrat==1.8.7)\n",
            "  Downloading typeguard-4.1.5-py3-none-any.whl (34 kB)\n",
            "Collecting typing-inspect>=0.6.0 (from pandera>=0.13.4->hstrat==1.8.7)\n",
            "  Downloading typing_inspect-0.9.0-py3-none-any.whl (8.8 kB)\n",
            "Requirement already satisfied: wcwidth in /usr/local/lib/python3.10/dist-packages (from prettytable>=3.5.0->hstrat==1.8.7) (0.2.13)\n",
            "Requirement already satisfied: text-unidecode>=1.3 in /usr/local/lib/python3.10/dist-packages (from python-slugify>=6.1.2->hstrat==1.8.7) (1.3)\n",
            "Collecting distutils-strtobool (from teeplot>=0.5.0->hsurf)\n",
            "  Downloading distutils-strtobool-0.1.0.tar.gz (1.3 kB)\n",
            "  Preparing metadata (setup.py) ... \u001b[?25l\u001b[?25hdone\n",
            "Requirement already satisfied: idna>=2.0 in /usr/local/lib/python3.10/dist-packages (from yarl>=1.9.3->alifedata_phyloinformatics_convert==0.15.1) (3.6)\n",
            "Requirement already satisfied: multidict>=4.0 in /usr/local/lib/python3.10/dist-packages (from yarl>=1.9.3->alifedata_phyloinformatics_convert==0.15.1) (6.0.4)\n",
            "Requirement already satisfied: parso<0.9.0,>=0.8.3 in /usr/local/lib/python3.10/dist-packages (from jedi>=0.16->ipython>=6.0->watermark==2.4.3) (0.8.3)\n",
            "Requirement already satisfied: ptyprocess>=0.5 in /usr/local/lib/python3.10/dist-packages (from pexpect>4.3->ipython>=6.0->watermark==2.4.3) (0.7.0)\n",
            "Collecting py<2.0.0,>=1.4.26 (from retry>=0.9.2->keyname>=0.4.1->hstrat==1.8.7)\n",
            "  Downloading py-1.11.0-py2.py3-none-any.whl (98 kB)\n",
            "\u001b[2K     \u001b[90m━━━━━━━━━━━━━━━━━━━━━━━━━━━━━━━━━━━━━━━━\u001b[0m \u001b[32m98.7/98.7 kB\u001b[0m \u001b[31m12.2 MB/s\u001b[0m eta \u001b[36m0:00:00\u001b[0m\n",
            "\u001b[?25hCollecting mypy-extensions>=0.3.0 (from typing-inspect>=0.6.0->pandera>=0.13.4->hstrat==1.8.7)\n",
            "  Downloading mypy_extensions-1.0.0-py3-none-any.whl (4.7 kB)\n",
            "Collecting gitpython (from lyncs-setuptools->lyncs-utils>=0.3.2->alifedata_phyloinformatics_convert==0.15.1)\n",
            "  Using cached GitPython-3.1.41-py3-none-any.whl (196 kB)\n",
            "Requirement already satisfied: pip in /usr/local/lib/python3.10/dist-packages (from lyncs-setuptools->lyncs-utils>=0.3.2->alifedata_phyloinformatics_convert==0.15.1) (23.1.2)\n",
            "Collecting gitdb<5,>=4.0.1 (from gitpython->lyncs-setuptools->lyncs-utils>=0.3.2->alifedata_phyloinformatics_convert==0.15.1)\n",
            "  Using cached gitdb-4.0.11-py3-none-any.whl (62 kB)\n",
            "Collecting smmap<6,>=3.0.1 (from gitdb<5,>=4.0.1->gitpython->lyncs-setuptools->lyncs-utils>=0.3.2->alifedata_phyloinformatics_convert==0.15.1)\n",
            "  Using cached smmap-5.0.1-py3-none-any.whl (24 kB)\n",
            "Building wheels for collected packages: tqdist, hsurf, ete3, lyncs-utils, distutils-strtobool\n",
            "  Building wheel for tqdist (setup.py) ... \u001b[?25l\u001b[?25hdone\n",
            "  Created wheel for tqdist: filename=tqdist-1.0-cp310-cp310-linux_x86_64.whl size=702770 sha256=b1ac3e0df8811838d44051a4ee5ef89ca6dbca557f93ff3922858cba808a0e95\n",
            "  Stored in directory: /root/.cache/pip/wheels/6e/e7/f8/b376ff01feedcff6d23f1d77511a0e97433910b6d4cd96543f\n",
            "  Building wheel for hsurf (pyproject.toml) ... \u001b[?25l\u001b[?25hdone\n",
            "  Created wheel for hsurf: filename=hsurf-0.1.0-py2.py3-none-any.whl size=313513 sha256=b15f34889f785a1b7f04255b632be29823c037d3ccd21e7899bed9a053aea855\n",
            "  Stored in directory: /tmp/pip-ephem-wheel-cache-qftoa27b/wheels/1b/4f/7d/d95fa1a4b7c2b7d2d66a3afcd88cdf5f3ff97efb148e8b8334\n",
            "  Building wheel for ete3 (setup.py) ... \u001b[?25l\u001b[?25hdone\n",
            "  Created wheel for ete3: filename=ete3-3.1.3-py3-none-any.whl size=2273785 sha256=2372e8b44f19bfcb9bda8dab01ed0cd7f919d067570431fce2aa84b342ffddb5\n",
            "  Stored in directory: /root/.cache/pip/wheels/a0/72/00/1982bd848e52b03079dbf800900120bc1c20e92e9a1216e525\n",
            "  Building wheel for lyncs-utils (pyproject.toml) ... \u001b[?25l\u001b[?25hdone\n",
            "  Created wheel for lyncs-utils: filename=lyncs_utils-0.4.5-py3-none-any.whl size=24513 sha256=3431d4cda7eff375ee451bd212eabd737a7066e5c853f8fe0ff2bb2fd8b123a0\n",
            "  Stored in directory: /root/.cache/pip/wheels/a1/b1/51/7ceb0e99e1035a2196b4cf9020b5f6f1073c9697cbc78f0136\n",
            "  Building wheel for distutils-strtobool (setup.py) ... \u001b[?25l\u001b[?25hdone\n",
            "  Created wheel for distutils-strtobool: filename=distutils_strtobool-0.1.0-py3-none-any.whl size=1663 sha256=248b40c4c84eb940672cf28d614ea4c08334fcb2101aba63a244be28475caa5b\n",
            "  Stored in directory: /root/.cache/pip/wheels/d4/30/ef/4f6c63edc5f665c88a38996c197d25bd5a539e95f9c38aa18a\n",
            "Successfully built tqdist hsurf ete3 lyncs-utils distutils-strtobool\n",
            "Installing collected packages: tqdist, mmh3, ete3, distutils-strtobool, dataclasses, bitarray, validators, typing_extensions, smmap, safe-assert, py, phylotrackpy, ordered-set, opytional, nanto, mypy-extensions, multimethod, lru-dict, jedi, iterpop, interval-search, Deprecated, dendropy, bitstring, biopython, anytree, typing-inspect, typeguard, retry, matplotlib, gitdb, watermark, pandera, keyname, gitpython, teeplot, lyncs-setuptools, lyncs-utils, alifedata_phyloinformatics_convert, hstrat, hsurf\n",
            "  Attempting uninstall: typing_extensions\n",
            "    Found existing installation: typing_extensions 4.5.0\n",
            "    Uninstalling typing_extensions-4.5.0:\n",
            "      Successfully uninstalled typing_extensions-4.5.0\n",
            "  Attempting uninstall: matplotlib\n",
            "    Found existing installation: matplotlib 3.7.1\n",
            "    Uninstalling matplotlib-3.7.1:\n",
            "      Successfully uninstalled matplotlib-3.7.1\n",
            "\u001b[31mERROR: pip's dependency resolver does not currently take into account all the packages that are installed. This behaviour is the source of the following dependency conflicts.\n",
            "lida 0.0.10 requires fastapi, which is not installed.\n",
            "lida 0.0.10 requires kaleido, which is not installed.\n",
            "lida 0.0.10 requires python-multipart, which is not installed.\n",
            "lida 0.0.10 requires uvicorn, which is not installed.\n",
            "tensorflow-probability 0.22.0 requires typing-extensions<4.6.0, but you have typing-extensions 4.9.0 which is incompatible.\u001b[0m\u001b[31m\n",
            "\u001b[0mSuccessfully installed Deprecated-1.2.14 alifedata_phyloinformatics_convert-0.15.1 anytree-2.12.1 biopython-1.83 bitarray-2.9.2 bitstring-4.1.4 dataclasses-0.6 dendropy-4.6.1 distutils-strtobool-0.1.0 ete3-3.1.3 gitdb-4.0.11 gitpython-3.1.41 hstrat-1.8.7 hsurf-0.1.0 interval-search-0.5.2 iterpop-0.4.1 jedi-0.19.1 keyname-0.6.0 lru-dict-1.3.0 lyncs-setuptools-0.3.1 lyncs-utils-0.4.5 matplotlib-3.8.2 mmh3-4.1.0 multimethod-1.10 mypy-extensions-1.0.0 nanto-0.1.1 opytional-0.1.0 ordered-set-4.1.0 pandera-0.18.0 phylotrackpy-0.1.18 py-1.11.0 retry-0.9.2 safe-assert-0.4.0 smmap-5.0.1 teeplot-1.0.1 tqdist-1.0 typeguard-4.1.5 typing-inspect-0.9.0 typing_extensions-4.9.0 validators-0.22.0 watermark-2.4.3\n"
          ]
        }
      ]
    },
    {
      "cell_type": "code",
      "source": [
        "from collections import Counter\n",
        "import typing\n",
        "\n",
        "import alifedata_phyloinformatics_convert as apc\n",
        "from Bio import Phylo\n",
        "import dendropy as dp\n",
        "from hstrat import hstrat\n",
        "from hstrat import _auxiliary_lib as hstrat_aux\n",
        "from hsurf import hsurf\n",
        "from matplotlib import pyplot as plt\n",
        "import pandas as pd\n",
        "import tqdist\n",
        "from tqdm import tqdm"
      ],
      "metadata": {
        "id": "cIrNBKme_8Ey"
      },
      "execution_count": 2,
      "outputs": []
    },
    {
      "cell_type": "markdown",
      "source": [
        "## Configure Experiment"
      ],
      "metadata": {
        "id": "H0US4pJ6Cpz4"
      }
    },
    {
      "cell_type": "markdown",
      "source": [
        "Configure instrumentation. **Edit me**"
      ],
      "metadata": {
        "id": "hgSx_K65JBqH"
      }
    },
    {
      "cell_type": "code",
      "source": [
        "# TODO Uncomment one...\n",
        "# annotation_size_bits = 64\n",
        "annotation_size_bits = 256\n",
        "# annotation_size_bits = 1024\n",
        "assert annotation_size_bits.bit_count() == 1, \"must be power of 2 (1, 2, 4, 8, etc.)\"\n",
        "\n",
        "# TODO Uncomment one...\n",
        "differentia_width_bits = 1\n",
        "# differentia_width_bits = 8\n",
        "assert differentia_width_bits.bit_count() == 1, \"must be power of 2 (1, 2, 4, 8, etc.)\"\n",
        "\n",
        "# TODO Uncomment one...\n",
        "stratum_retention_algo = hstrat.depth_proportional_resolution_tapered_algo  # old impl/steady behavior\n",
        "# stratum_retention_algo = hstrat.recency_proportional_resolution_curbed_algo  # old impl/tilted behavior\n",
        "# stratum_retention_algo = hsurf.stratum_retention_interop_steady_algo  # new impl/steady behavior\n",
        "# stratum_retention_algo = hsurf.stratum_retention_interop_tilted_sticky_algo  # new impl/tilted behavior"
      ],
      "metadata": {
        "id": "mWGLaLxyJEf8"
      },
      "execution_count": 3,
      "outputs": []
    },
    {
      "cell_type": "markdown",
      "source": [
        "Configure evolutionary scale. **Edit me**"
      ],
      "metadata": {
        "id": "VhnKN1ktJHYp"
      }
    },
    {
      "cell_type": "code",
      "source": [
        "# TODO Uncomment one...\n",
        "# population_size = 1024  # default condition\n",
        "population_size = 65536  # alternate condition\n",
        "assert population_size.bit_count() == 1, \"must be power of 2 (1, 2, 4, 8, etc.)\"\n",
        "\n",
        "# TODO Uncomment one...\n",
        "num_generations = 10000  # default condition\n",
        "# num_generations = 100000  # alternate condition\n"
      ],
      "metadata": {
        "id": "xQ21R33LCplC"
      },
      "execution_count": 4,
      "outputs": []
    },
    {
      "cell_type": "markdown",
      "source": [
        "Configure evolutionary conditions.  **Edit me**"
      ],
      "metadata": {
        "id": "vtNMCtNcJPLw"
      }
    },
    {
      "cell_type": "code",
      "source": [
        "# TODO Uncomment one...\n",
        "num_islands=1  # default condition\n",
        "# num_islands=64  # alternate condition\n",
        "assert num_islands.bit_count() == 1, \"must be power of 2 (1, 2, 4, 8, etc.)\"\n",
        "\n",
        "# TODO Uncomment one...\n",
        "num_niches=1  # default condition\n",
        "# num_niches=8  # alternate condition\n",
        "assert num_niches.bit_count() == 1, \"must be power of 2 (1, 2, 4, 8, etc.)\"\n",
        "\n",
        "# TODO Uncomment one...\n",
        "tournament_size=2  # default condition\n",
        "# tournament_size=1  # alternate condition\n",
        "# tournament_size=8  # alternate condition\n"
      ],
      "metadata": {
        "id": "v5nvGaCJJNaI"
      },
      "execution_count": 5,
      "outputs": []
    },
    {
      "cell_type": "markdown",
      "source": [
        "Configure experimental replicate. **Edit me**"
      ],
      "metadata": {
        "id": "cIrbQgJ_cLhf"
      }
    },
    {
      "cell_type": "code",
      "source": [
        "replicate = 0 # TODO set to a number, 0 through 19"
      ],
      "metadata": {
        "id": "g8vC-VBLcKt1"
      },
      "execution_count": 6,
      "outputs": []
    },
    {
      "cell_type": "markdown",
      "source": [
        "Set up random number generator. (Do not edit.)"
      ],
      "metadata": {
        "id": "pqY6ejDEJgZA"
      }
    },
    {
      "cell_type": "code",
      "source": [
        "seed = hash(\n",
        "  (\n",
        "      replicate,\n",
        "      population_size,\n",
        "      num_generations,\n",
        "      num_islands,\n",
        "      num_niches,\n",
        "      tournament_size,\n",
        "  )\n",
        ") % 2 ** 32\n",
        "\n",
        "seed"
      ],
      "metadata": {
        "id": "naUfe9mNCcsV",
        "colab": {
          "base_uri": "https://localhost:8080/"
        },
        "outputId": "a3d727f9-fd36-41a4-b67e-77a3526e139f"
      },
      "execution_count": 7,
      "outputs": [
        {
          "output_type": "execute_result",
          "data": {
            "text/plain": [
              "3263141568"
            ]
          },
          "metadata": {},
          "execution_count": 7
        }
      ]
    },
    {
      "cell_type": "code",
      "source": [
        "from hstrat._auxiliary_lib import seed_random\n",
        "\n",
        "seed_random(seed)\n"
      ],
      "metadata": {
        "id": "em_mdO9-ENsr"
      },
      "execution_count": 8,
      "outputs": []
    },
    {
      "cell_type": "markdown",
      "source": [
        "Parametrize instrumentation. (Do not edit.)"
      ],
      "metadata": {
        "id": "nzxql5RHXlrU"
      }
    },
    {
      "cell_type": "code",
      "source": [
        "annotation_capacity_strata = annotation_size_bits // differentia_width_bits\n",
        "assert annotation_capacity_strata.bit_count() == 1, \"must be power of 2 (1, 2, 4, 8, etc.)\"\n",
        "print(f\"{annotation_capacity_strata=}\")\n",
        "\n",
        "parametrized_policy = stratum_retention_algo.Policy(\n",
        "  parameterizer=hstrat.PropertyAtMostParameterizer(\n",
        "    target_value=annotation_capacity_strata,\n",
        "    policy_evaluator=hstrat.NumStrataRetainedUpperBoundEvaluator(\n",
        "      at_num_strata_deposited=num_generations,\n",
        "    ),\n",
        "    param_lower_bound=2,\n",
        "    param_upper_bound=1024,\n",
        "  ),\n",
        ")\n",
        "\n",
        "print(f\"{parametrized_policy=}\")\n",
        "print(f\"num strata retained upper bound {parametrized_policy.CalcNumStrataRetainedUpperBound(num_generations)}\")\n"
      ],
      "metadata": {
        "id": "tUkf_biLXsrm",
        "colab": {
          "base_uri": "https://localhost:8080/"
        },
        "outputId": "e6ccf026-5cc6-4429-97ec-5e319961ad57"
      },
      "execution_count": 9,
      "outputs": [
        {
          "output_type": "stream",
          "name": "stdout",
          "text": [
            "annotation_capacity_strata=256\n",
            "parametrized_policy=depth_proportional_resolution_tapered_algo.Policy(policy_spec=depth_proportional_resolution_tapered_algo.PolicySpec(depth_proportional_resolution=127))\n",
            "num strata retained upper bound 255\n"
          ]
        }
      ]
    },
    {
      "cell_type": "markdown",
      "source": [
        "## Setup"
      ],
      "metadata": {
        "id": "rGLUHFxxARm4"
      }
    },
    {
      "cell_type": "markdown",
      "source": [
        "Helper functions."
      ],
      "metadata": {
        "id": "PA-DX12UHqqN"
      }
    },
    {
      "cell_type": "code",
      "source": [
        "def calc_tqdist_distance(\n",
        "    x,\n",
        "    y,\n",
        "    progress_wrap: typing.Callable = lambda x: x,\n",
        "  ) -> float:\n",
        "    \"\"\"Calculate dissimilarity between two trees. Used to measure how accurate\n",
        "    tree reconstructions are.\"\"\"\n",
        "    tree_a = apc.RosettaTree(x).as_dendropy\n",
        "    tree_b = apc.RosettaTree(y).as_dendropy\n",
        "\n",
        "    # must suppress root unifurcations or tqdist barfs\n",
        "    # see https://github.com/uym2/tripVote/issues/15\n",
        "    tree_a.unassign_taxa(exclude_leaves=True)\n",
        "    tree_a.suppress_unifurcations()\n",
        "    tree_b.unassign_taxa(exclude_leaves=True)\n",
        "    tree_b.suppress_unifurcations()\n",
        "\n",
        "    tree_a_taxon_labels = [\n",
        "        leaf.taxon.label for leaf in progress_wrap(tree_a.leaf_node_iter())\n",
        "    ]\n",
        "    tree_b_taxon_labels = [\n",
        "        leaf.taxon.label for leaf in progress_wrap(tree_b.leaf_node_iter())\n",
        "    ]\n",
        "    all(\n",
        "        progress_wrap(\n",
        "          zip(tree_a.leaf_node_iter(), tree_b.leaf_node_iter(), strict=True),\n",
        "        ),\n",
        "    )\n",
        "    assert sorted(tree_a_taxon_labels) == sorted(tree_b_taxon_labels), (\n",
        "        tree_a_taxon_labels,\n",
        "        tree_b_taxon_labels,\n",
        "    )\n",
        "    for taxon_label in progress_wrap(tree_a_taxon_labels):\n",
        "        assert taxon_label\n",
        "        assert taxon_label.strip()\n",
        "\n",
        "    newick_a = tree_a.as_string(schema=\"newick\").strip()\n",
        "    newick_b = tree_b.as_string(schema=\"newick\").strip()\n",
        "\n",
        "    return {\n",
        "        \"triplet_distance\": tqdist.triplet_distance(newick_a, newick_b),\n",
        "        \"raw_triplet_distance\": tqdist.raw_triplet_distance(newick_a, newick_b),\n",
        "        \"quartet_distance\": tqdist.quartet_distance(newick_a, newick_b),\n",
        "        \"raw_quartet_distance\": tqdist.raw_quartet_distance(newick_a, newick_b),\n",
        "    }\n"
      ],
      "metadata": {
        "id": "es5aIEGi9-UG"
      },
      "execution_count": 10,
      "outputs": []
    },
    {
      "cell_type": "code",
      "source": [
        "def count_inner_nodes(df: pd.DataFrame) -> int:\n",
        "  \"\"\"Count how many non-leaf nodes are contained in phylogeny.\"\"\"\n",
        "  df = hstrat_aux.alifestd_collapse_unifurcations(df)\n",
        "  num_leaves = len(hstrat_aux.alifestd_find_leaf_ids(df))\n",
        "  res = len(df) - num_leaves\n",
        "  assert 0 <= res < num_leaves\n",
        "  return res"
      ],
      "metadata": {
        "id": "FvRXdEHcC6Ic"
      },
      "execution_count": 11,
      "outputs": []
    },
    {
      "cell_type": "code",
      "source": [
        "def calc_polytomic_index(df: pd.DataFrame) -> int:\n",
        "  \"\"\"Count how many fewer inner nodes are contained in phylogeny than expected\n",
        "  if strictly bifurcationg.\"\"\"\n",
        "  df = hstrat_aux.alifestd_collapse_unifurcations(df)\n",
        "  num_leaves = len(hstrat_aux.alifestd_find_leaf_ids(df))\n",
        "  expected_rows_if_bifurcating = 2 * num_leaves - 1\n",
        "  res = expected_rows_if_bifurcating - len(df)\n",
        "  assert 0 <= res < num_leaves\n",
        "  return res"
      ],
      "metadata": {
        "id": "MULWRuUXBGSv"
      },
      "execution_count": null,
      "outputs": []
    },
    {
      "cell_type": "code",
      "source": [
        "def count_polytomies(df: pd.DataFrame) -> int:\n",
        "  \"\"\"Count how many inner nodes have more than two descendant nodes.\"\"\"\n",
        "  df = hstrat_aux.alifestd_collapse_unifurcations(df)\n",
        "  ancestor_counts = Counter(df[\"ancestor_id\"])\n",
        "  return sum(\n",
        "      v > 2 for v in ancestor_counts.values()\n",
        "  )\n"
      ],
      "metadata": {
        "id": "R4QxjvEbZaP_"
      },
      "execution_count": null,
      "outputs": []
    },
    {
      "cell_type": "markdown",
      "source": [
        "## Generate Phylogeny\n",
        "\n",
        "Use simple evolutionary simulation to generate a phylogenetic history to test reconstruction process on."
      ],
      "metadata": {
        "id": "X9hDnZb4BvX1"
      }
    },
    {
      "cell_type": "code",
      "source": [
        "true_phylogeny_df = hstrat.evolve_fitness_trait_population(\n",
        "    num_islands=num_islands,\n",
        "    num_niches=num_niches,\n",
        "    num_generations=num_generations,\n",
        "    population_size=population_size,\n",
        "    tournament_size=tournament_size,\n",
        "    progress_wrap=tqdm,\n",
        ")\n",
        "true_phylogeny_df[\"taxon_label\"] = true_phylogeny_df[\"loc\"].astype(str)\n",
        "true_phylogeny_df"
      ],
      "metadata": {
        "id": "JNhgAvB8Bu5p",
        "colab": {
          "base_uri": "https://localhost:8080/",
          "height": 463
        },
        "outputId": "a97d3eb1-67f1-4e12-d6c4-c6a32f7f6776"
      },
      "execution_count": 12,
      "outputs": [
        {
          "output_type": "stream",
          "name": "stderr",
          "text": [
            "100%|██████████| 10000/10000 [01:35<00:00, 105.03it/s]\n",
            "100%|██████████| 212065/212065 [00:02<00:00, 83432.70it/s]\n"
          ]
        },
        {
          "output_type": "execute_result",
          "data": {
            "text/plain": [
              "            id ancestor_list    loc         trait  origin_time  island  niche  \\\n",
              "0            0        [None]      0           NaN            0       0      0   \n",
              "1            1           [0]  12734      0.000000            1       0      0   \n",
              "2            2           [1]  54082      2.316256            2       0      0   \n",
              "3            3           [2]  41704      4.521688            3       0      0   \n",
              "4            4           [3]   2263      5.110847            4       0      0   \n",
              "...        ...           ...    ...           ...          ...     ...    ...   \n",
              "212060  212060      [119406]  65531  11401.050781        10001       0      0   \n",
              "212061  212061      [143933]  65532  11397.212891        10001       0      0   \n",
              "212062  212062      [110569]  65533  11399.445312        10001       0      0   \n",
              "212063  212063      [120372]  65534  11395.846680        10001       0      0   \n",
              "212064  212064      [123212]  65535  11395.155273        10001       0      0   \n",
              "\n",
              "       taxon_label  \n",
              "0                0  \n",
              "1            12734  \n",
              "2            54082  \n",
              "3            41704  \n",
              "4             2263  \n",
              "...            ...  \n",
              "212060       65531  \n",
              "212061       65532  \n",
              "212062       65533  \n",
              "212063       65534  \n",
              "212064       65535  \n",
              "\n",
              "[212065 rows x 8 columns]"
            ],
            "text/html": [
              "\n",
              "  <div id=\"df-9a9c71ba-888c-4202-99a3-cebc3ec2ce95\" class=\"colab-df-container\">\n",
              "    <div>\n",
              "<style scoped>\n",
              "    .dataframe tbody tr th:only-of-type {\n",
              "        vertical-align: middle;\n",
              "    }\n",
              "\n",
              "    .dataframe tbody tr th {\n",
              "        vertical-align: top;\n",
              "    }\n",
              "\n",
              "    .dataframe thead th {\n",
              "        text-align: right;\n",
              "    }\n",
              "</style>\n",
              "<table border=\"1\" class=\"dataframe\">\n",
              "  <thead>\n",
              "    <tr style=\"text-align: right;\">\n",
              "      <th></th>\n",
              "      <th>id</th>\n",
              "      <th>ancestor_list</th>\n",
              "      <th>loc</th>\n",
              "      <th>trait</th>\n",
              "      <th>origin_time</th>\n",
              "      <th>island</th>\n",
              "      <th>niche</th>\n",
              "      <th>taxon_label</th>\n",
              "    </tr>\n",
              "  </thead>\n",
              "  <tbody>\n",
              "    <tr>\n",
              "      <th>0</th>\n",
              "      <td>0</td>\n",
              "      <td>[None]</td>\n",
              "      <td>0</td>\n",
              "      <td>NaN</td>\n",
              "      <td>0</td>\n",
              "      <td>0</td>\n",
              "      <td>0</td>\n",
              "      <td>0</td>\n",
              "    </tr>\n",
              "    <tr>\n",
              "      <th>1</th>\n",
              "      <td>1</td>\n",
              "      <td>[0]</td>\n",
              "      <td>12734</td>\n",
              "      <td>0.000000</td>\n",
              "      <td>1</td>\n",
              "      <td>0</td>\n",
              "      <td>0</td>\n",
              "      <td>12734</td>\n",
              "    </tr>\n",
              "    <tr>\n",
              "      <th>2</th>\n",
              "      <td>2</td>\n",
              "      <td>[1]</td>\n",
              "      <td>54082</td>\n",
              "      <td>2.316256</td>\n",
              "      <td>2</td>\n",
              "      <td>0</td>\n",
              "      <td>0</td>\n",
              "      <td>54082</td>\n",
              "    </tr>\n",
              "    <tr>\n",
              "      <th>3</th>\n",
              "      <td>3</td>\n",
              "      <td>[2]</td>\n",
              "      <td>41704</td>\n",
              "      <td>4.521688</td>\n",
              "      <td>3</td>\n",
              "      <td>0</td>\n",
              "      <td>0</td>\n",
              "      <td>41704</td>\n",
              "    </tr>\n",
              "    <tr>\n",
              "      <th>4</th>\n",
              "      <td>4</td>\n",
              "      <td>[3]</td>\n",
              "      <td>2263</td>\n",
              "      <td>5.110847</td>\n",
              "      <td>4</td>\n",
              "      <td>0</td>\n",
              "      <td>0</td>\n",
              "      <td>2263</td>\n",
              "    </tr>\n",
              "    <tr>\n",
              "      <th>...</th>\n",
              "      <td>...</td>\n",
              "      <td>...</td>\n",
              "      <td>...</td>\n",
              "      <td>...</td>\n",
              "      <td>...</td>\n",
              "      <td>...</td>\n",
              "      <td>...</td>\n",
              "      <td>...</td>\n",
              "    </tr>\n",
              "    <tr>\n",
              "      <th>212060</th>\n",
              "      <td>212060</td>\n",
              "      <td>[119406]</td>\n",
              "      <td>65531</td>\n",
              "      <td>11401.050781</td>\n",
              "      <td>10001</td>\n",
              "      <td>0</td>\n",
              "      <td>0</td>\n",
              "      <td>65531</td>\n",
              "    </tr>\n",
              "    <tr>\n",
              "      <th>212061</th>\n",
              "      <td>212061</td>\n",
              "      <td>[143933]</td>\n",
              "      <td>65532</td>\n",
              "      <td>11397.212891</td>\n",
              "      <td>10001</td>\n",
              "      <td>0</td>\n",
              "      <td>0</td>\n",
              "      <td>65532</td>\n",
              "    </tr>\n",
              "    <tr>\n",
              "      <th>212062</th>\n",
              "      <td>212062</td>\n",
              "      <td>[110569]</td>\n",
              "      <td>65533</td>\n",
              "      <td>11399.445312</td>\n",
              "      <td>10001</td>\n",
              "      <td>0</td>\n",
              "      <td>0</td>\n",
              "      <td>65533</td>\n",
              "    </tr>\n",
              "    <tr>\n",
              "      <th>212063</th>\n",
              "      <td>212063</td>\n",
              "      <td>[120372]</td>\n",
              "      <td>65534</td>\n",
              "      <td>11395.846680</td>\n",
              "      <td>10001</td>\n",
              "      <td>0</td>\n",
              "      <td>0</td>\n",
              "      <td>65534</td>\n",
              "    </tr>\n",
              "    <tr>\n",
              "      <th>212064</th>\n",
              "      <td>212064</td>\n",
              "      <td>[123212]</td>\n",
              "      <td>65535</td>\n",
              "      <td>11395.155273</td>\n",
              "      <td>10001</td>\n",
              "      <td>0</td>\n",
              "      <td>0</td>\n",
              "      <td>65535</td>\n",
              "    </tr>\n",
              "  </tbody>\n",
              "</table>\n",
              "<p>212065 rows × 8 columns</p>\n",
              "</div>\n",
              "    <div class=\"colab-df-buttons\">\n",
              "\n",
              "  <div class=\"colab-df-container\">\n",
              "    <button class=\"colab-df-convert\" onclick=\"convertToInteractive('df-9a9c71ba-888c-4202-99a3-cebc3ec2ce95')\"\n",
              "            title=\"Convert this dataframe to an interactive table.\"\n",
              "            style=\"display:none;\">\n",
              "\n",
              "  <svg xmlns=\"http://www.w3.org/2000/svg\" height=\"24px\" viewBox=\"0 -960 960 960\">\n",
              "    <path d=\"M120-120v-720h720v720H120Zm60-500h600v-160H180v160Zm220 220h160v-160H400v160Zm0 220h160v-160H400v160ZM180-400h160v-160H180v160Zm440 0h160v-160H620v160ZM180-180h160v-160H180v160Zm440 0h160v-160H620v160Z\"/>\n",
              "  </svg>\n",
              "    </button>\n",
              "\n",
              "  <style>\n",
              "    .colab-df-container {\n",
              "      display:flex;\n",
              "      gap: 12px;\n",
              "    }\n",
              "\n",
              "    .colab-df-convert {\n",
              "      background-color: #E8F0FE;\n",
              "      border: none;\n",
              "      border-radius: 50%;\n",
              "      cursor: pointer;\n",
              "      display: none;\n",
              "      fill: #1967D2;\n",
              "      height: 32px;\n",
              "      padding: 0 0 0 0;\n",
              "      width: 32px;\n",
              "    }\n",
              "\n",
              "    .colab-df-convert:hover {\n",
              "      background-color: #E2EBFA;\n",
              "      box-shadow: 0px 1px 2px rgba(60, 64, 67, 0.3), 0px 1px 3px 1px rgba(60, 64, 67, 0.15);\n",
              "      fill: #174EA6;\n",
              "    }\n",
              "\n",
              "    .colab-df-buttons div {\n",
              "      margin-bottom: 4px;\n",
              "    }\n",
              "\n",
              "    [theme=dark] .colab-df-convert {\n",
              "      background-color: #3B4455;\n",
              "      fill: #D2E3FC;\n",
              "    }\n",
              "\n",
              "    [theme=dark] .colab-df-convert:hover {\n",
              "      background-color: #434B5C;\n",
              "      box-shadow: 0px 1px 3px 1px rgba(0, 0, 0, 0.15);\n",
              "      filter: drop-shadow(0px 1px 2px rgba(0, 0, 0, 0.3));\n",
              "      fill: #FFFFFF;\n",
              "    }\n",
              "  </style>\n",
              "\n",
              "    <script>\n",
              "      const buttonEl =\n",
              "        document.querySelector('#df-9a9c71ba-888c-4202-99a3-cebc3ec2ce95 button.colab-df-convert');\n",
              "      buttonEl.style.display =\n",
              "        google.colab.kernel.accessAllowed ? 'block' : 'none';\n",
              "\n",
              "      async function convertToInteractive(key) {\n",
              "        const element = document.querySelector('#df-9a9c71ba-888c-4202-99a3-cebc3ec2ce95');\n",
              "        const dataTable =\n",
              "          await google.colab.kernel.invokeFunction('convertToInteractive',\n",
              "                                                    [key], {});\n",
              "        if (!dataTable) return;\n",
              "\n",
              "        const docLinkHtml = 'Like what you see? Visit the ' +\n",
              "          '<a target=\"_blank\" href=https://colab.research.google.com/notebooks/data_table.ipynb>data table notebook</a>'\n",
              "          + ' to learn more about interactive tables.';\n",
              "        element.innerHTML = '';\n",
              "        dataTable['output_type'] = 'display_data';\n",
              "        await google.colab.output.renderOutput(dataTable, element);\n",
              "        const docLink = document.createElement('div');\n",
              "        docLink.innerHTML = docLinkHtml;\n",
              "        element.appendChild(docLink);\n",
              "      }\n",
              "    </script>\n",
              "  </div>\n",
              "\n",
              "\n",
              "<div id=\"df-4bd482ae-84e9-4077-ad24-55adbe5091e5\">\n",
              "  <button class=\"colab-df-quickchart\" onclick=\"quickchart('df-4bd482ae-84e9-4077-ad24-55adbe5091e5')\"\n",
              "            title=\"Suggest charts\"\n",
              "            style=\"display:none;\">\n",
              "\n",
              "<svg xmlns=\"http://www.w3.org/2000/svg\" height=\"24px\"viewBox=\"0 0 24 24\"\n",
              "     width=\"24px\">\n",
              "    <g>\n",
              "        <path d=\"M19 3H5c-1.1 0-2 .9-2 2v14c0 1.1.9 2 2 2h14c1.1 0 2-.9 2-2V5c0-1.1-.9-2-2-2zM9 17H7v-7h2v7zm4 0h-2V7h2v10zm4 0h-2v-4h2v4z\"/>\n",
              "    </g>\n",
              "</svg>\n",
              "  </button>\n",
              "\n",
              "<style>\n",
              "  .colab-df-quickchart {\n",
              "      --bg-color: #E8F0FE;\n",
              "      --fill-color: #1967D2;\n",
              "      --hover-bg-color: #E2EBFA;\n",
              "      --hover-fill-color: #174EA6;\n",
              "      --disabled-fill-color: #AAA;\n",
              "      --disabled-bg-color: #DDD;\n",
              "  }\n",
              "\n",
              "  [theme=dark] .colab-df-quickchart {\n",
              "      --bg-color: #3B4455;\n",
              "      --fill-color: #D2E3FC;\n",
              "      --hover-bg-color: #434B5C;\n",
              "      --hover-fill-color: #FFFFFF;\n",
              "      --disabled-bg-color: #3B4455;\n",
              "      --disabled-fill-color: #666;\n",
              "  }\n",
              "\n",
              "  .colab-df-quickchart {\n",
              "    background-color: var(--bg-color);\n",
              "    border: none;\n",
              "    border-radius: 50%;\n",
              "    cursor: pointer;\n",
              "    display: none;\n",
              "    fill: var(--fill-color);\n",
              "    height: 32px;\n",
              "    padding: 0;\n",
              "    width: 32px;\n",
              "  }\n",
              "\n",
              "  .colab-df-quickchart:hover {\n",
              "    background-color: var(--hover-bg-color);\n",
              "    box-shadow: 0 1px 2px rgba(60, 64, 67, 0.3), 0 1px 3px 1px rgba(60, 64, 67, 0.15);\n",
              "    fill: var(--button-hover-fill-color);\n",
              "  }\n",
              "\n",
              "  .colab-df-quickchart-complete:disabled,\n",
              "  .colab-df-quickchart-complete:disabled:hover {\n",
              "    background-color: var(--disabled-bg-color);\n",
              "    fill: var(--disabled-fill-color);\n",
              "    box-shadow: none;\n",
              "  }\n",
              "\n",
              "  .colab-df-spinner {\n",
              "    border: 2px solid var(--fill-color);\n",
              "    border-color: transparent;\n",
              "    border-bottom-color: var(--fill-color);\n",
              "    animation:\n",
              "      spin 1s steps(1) infinite;\n",
              "  }\n",
              "\n",
              "  @keyframes spin {\n",
              "    0% {\n",
              "      border-color: transparent;\n",
              "      border-bottom-color: var(--fill-color);\n",
              "      border-left-color: var(--fill-color);\n",
              "    }\n",
              "    20% {\n",
              "      border-color: transparent;\n",
              "      border-left-color: var(--fill-color);\n",
              "      border-top-color: var(--fill-color);\n",
              "    }\n",
              "    30% {\n",
              "      border-color: transparent;\n",
              "      border-left-color: var(--fill-color);\n",
              "      border-top-color: var(--fill-color);\n",
              "      border-right-color: var(--fill-color);\n",
              "    }\n",
              "    40% {\n",
              "      border-color: transparent;\n",
              "      border-right-color: var(--fill-color);\n",
              "      border-top-color: var(--fill-color);\n",
              "    }\n",
              "    60% {\n",
              "      border-color: transparent;\n",
              "      border-right-color: var(--fill-color);\n",
              "    }\n",
              "    80% {\n",
              "      border-color: transparent;\n",
              "      border-right-color: var(--fill-color);\n",
              "      border-bottom-color: var(--fill-color);\n",
              "    }\n",
              "    90% {\n",
              "      border-color: transparent;\n",
              "      border-bottom-color: var(--fill-color);\n",
              "    }\n",
              "  }\n",
              "</style>\n",
              "\n",
              "  <script>\n",
              "    async function quickchart(key) {\n",
              "      const quickchartButtonEl =\n",
              "        document.querySelector('#' + key + ' button');\n",
              "      quickchartButtonEl.disabled = true;  // To prevent multiple clicks.\n",
              "      quickchartButtonEl.classList.add('colab-df-spinner');\n",
              "      try {\n",
              "        const charts = await google.colab.kernel.invokeFunction(\n",
              "            'suggestCharts', [key], {});\n",
              "      } catch (error) {\n",
              "        console.error('Error during call to suggestCharts:', error);\n",
              "      }\n",
              "      quickchartButtonEl.classList.remove('colab-df-spinner');\n",
              "      quickchartButtonEl.classList.add('colab-df-quickchart-complete');\n",
              "    }\n",
              "    (() => {\n",
              "      let quickchartButtonEl =\n",
              "        document.querySelector('#df-4bd482ae-84e9-4077-ad24-55adbe5091e5 button');\n",
              "      quickchartButtonEl.style.display =\n",
              "        google.colab.kernel.accessAllowed ? 'block' : 'none';\n",
              "    })();\n",
              "  </script>\n",
              "</div>\n",
              "\n",
              "  <div id=\"id_2c30b434-41c2-4135-a3b8-d11f4b5e3cef\">\n",
              "    <style>\n",
              "      .colab-df-generate {\n",
              "        background-color: #E8F0FE;\n",
              "        border: none;\n",
              "        border-radius: 50%;\n",
              "        cursor: pointer;\n",
              "        display: none;\n",
              "        fill: #1967D2;\n",
              "        height: 32px;\n",
              "        padding: 0 0 0 0;\n",
              "        width: 32px;\n",
              "      }\n",
              "\n",
              "      .colab-df-generate:hover {\n",
              "        background-color: #E2EBFA;\n",
              "        box-shadow: 0px 1px 2px rgba(60, 64, 67, 0.3), 0px 1px 3px 1px rgba(60, 64, 67, 0.15);\n",
              "        fill: #174EA6;\n",
              "      }\n",
              "\n",
              "      [theme=dark] .colab-df-generate {\n",
              "        background-color: #3B4455;\n",
              "        fill: #D2E3FC;\n",
              "      }\n",
              "\n",
              "      [theme=dark] .colab-df-generate:hover {\n",
              "        background-color: #434B5C;\n",
              "        box-shadow: 0px 1px 3px 1px rgba(0, 0, 0, 0.15);\n",
              "        filter: drop-shadow(0px 1px 2px rgba(0, 0, 0, 0.3));\n",
              "        fill: #FFFFFF;\n",
              "      }\n",
              "    </style>\n",
              "    <button class=\"colab-df-generate\" onclick=\"generateWithVariable('true_phylogeny_df')\"\n",
              "            title=\"Generate code using this dataframe.\"\n",
              "            style=\"display:none;\">\n",
              "\n",
              "  <svg xmlns=\"http://www.w3.org/2000/svg\" height=\"24px\"viewBox=\"0 0 24 24\"\n",
              "       width=\"24px\">\n",
              "    <path d=\"M7,19H8.4L18.45,9,17,7.55,7,17.6ZM5,21V16.75L18.45,3.32a2,2,0,0,1,2.83,0l1.4,1.43a1.91,1.91,0,0,1,.58,1.4,1.91,1.91,0,0,1-.58,1.4L9.25,21ZM18.45,9,17,7.55Zm-12,3A5.31,5.31,0,0,0,4.9,8.1,5.31,5.31,0,0,0,1,6.5,5.31,5.31,0,0,0,4.9,4.9,5.31,5.31,0,0,0,6.5,1,5.31,5.31,0,0,0,8.1,4.9,5.31,5.31,0,0,0,12,6.5,5.46,5.46,0,0,0,6.5,12Z\"/>\n",
              "  </svg>\n",
              "    </button>\n",
              "    <script>\n",
              "      (() => {\n",
              "      const buttonEl =\n",
              "        document.querySelector('#id_2c30b434-41c2-4135-a3b8-d11f4b5e3cef button.colab-df-generate');\n",
              "      buttonEl.style.display =\n",
              "        google.colab.kernel.accessAllowed ? 'block' : 'none';\n",
              "\n",
              "      buttonEl.onclick = () => {\n",
              "        google.colab.notebook.generateWithVariable('true_phylogeny_df');\n",
              "      }\n",
              "      })();\n",
              "    </script>\n",
              "  </div>\n",
              "\n",
              "    </div>\n",
              "  </div>\n"
            ]
          },
          "metadata": {},
          "execution_count": 12
        }
      ]
    },
    {
      "cell_type": "markdown",
      "source": [
        "## Generate Reconstruction\n",
        "\n",
        "Generate genome annotations as if tracking phylogeny in distributed environment.\n",
        "Then run reconstruction proess to estimate true phylogeny from generated annotations."
      ],
      "metadata": {
        "id": "kscgdxYbB19z"
      }
    },
    {
      "cell_type": "code",
      "source": [
        "extant_annotations = hstrat.descend_template_phylogeny_alifestd(\n",
        "    hstrat_aux.alifestd_collapse_unifurcations(true_phylogeny_df),\n",
        "    seed_column=hstrat.HereditaryStratigraphicColumn(parametrized_policy),\n",
        "    progress_wrap=tqdm,\n",
        ")\n",
        "\n",
        "len(extant_annotations)"
      ],
      "metadata": {
        "id": "zIDeuWorB1W8",
        "colab": {
          "base_uri": "https://localhost:8080/"
        },
        "outputId": "9e301aea-e527-4c4b-cdf1-68e3d155c813"
      },
      "execution_count": 13,
      "outputs": [
        {
          "output_type": "stream",
          "name": "stderr",
          "text": [
            "100%|██████████| 110198/110198 [00:04<00:00, 22388.04it/s]\n",
            "100%|██████████| 65536/65536 [00:20<00:00, 3267.38it/s]\n"
          ]
        },
        {
          "output_type": "execute_result",
          "data": {
            "text/plain": [
              "65536"
            ]
          },
          "metadata": {},
          "execution_count": 13
        }
      ]
    },
    {
      "cell_type": "code",
      "source": [
        "reconstructed_phylogeny_df = hstrat.build_tree(\n",
        "  extant_annotations,\n",
        "  progress_wrap=tqdm,\n",
        "  version_pin=hstrat.__version__,\n",
        ")\n",
        "reconstructed_phylogeny_df"
      ],
      "metadata": {
        "id": "QFCunjmBj9EH",
        "colab": {
          "base_uri": "https://localhost:8080/",
          "height": 501
        },
        "outputId": "dcb2e90f-bd90-4966-9511-6cc2ebfe5b6d"
      },
      "execution_count": 14,
      "outputs": [
        {
          "output_type": "stream",
          "name": "stderr",
          "text": [
            "100%|██████████| 65536/65536 [01:04<00:00, 1009.06it/s]\n",
            "65536it [00:00, 167496.65it/s]\n",
            "132211it [00:01, 72435.48it/s]\n",
            "132211it [00:02, 44549.83it/s]\n"
          ]
        },
        {
          "output_type": "execute_result",
          "data": {
            "text/plain": [
              "            id ancestor_list  origin_time  \\\n",
              "0            0        [none]          0.0   \n",
              "248        248           [0]       9839.5   \n",
              "249        249         [248]       9871.5   \n",
              "252        252         [249]       9903.5   \n",
              "261        261         [248]       9903.5   \n",
              "...        ...           ...          ...   \n",
              "132206  132206        [1137]      10001.0   \n",
              "132207  132207        [1137]      10001.0   \n",
              "132208  132208        [1137]      10001.0   \n",
              "132209  132209        [1137]      10001.0   \n",
              "132210  132210         [261]      10001.0   \n",
              "\n",
              "                                              taxon_label  ancestor_id  \n",
              "0                                                    Root            0  \n",
              "248     Inner+r=9824+d=NkI3l5X27iz+uid=Bv6lHKT64s9c4z3...            0  \n",
              "249     Inner+r=9856+d=1dFc4yggBA+uid=DCNEcvW1h5aq1hGj...          248  \n",
              "252     Inner+r=9888+d=G0SbfjEYqqS+uid=COkD_ZNDO2DGHkB...          249  \n",
              "261     Inner+r=9888+d=KQeB_rWCy0n+uid=D80m2t_NLPHrZOF...          248  \n",
              "...                                                   ...          ...  \n",
              "132206                                              27237         1137  \n",
              "132207                                              34504         1137  \n",
              "132208                                              44508         1137  \n",
              "132209                                              50809         1137  \n",
              "132210                                              47798          261  \n",
              "\n",
              "[66328 rows x 5 columns]"
            ],
            "text/html": [
              "\n",
              "  <div id=\"df-cf649772-3325-44bd-8b32-a665cde7365d\" class=\"colab-df-container\">\n",
              "    <div>\n",
              "<style scoped>\n",
              "    .dataframe tbody tr th:only-of-type {\n",
              "        vertical-align: middle;\n",
              "    }\n",
              "\n",
              "    .dataframe tbody tr th {\n",
              "        vertical-align: top;\n",
              "    }\n",
              "\n",
              "    .dataframe thead th {\n",
              "        text-align: right;\n",
              "    }\n",
              "</style>\n",
              "<table border=\"1\" class=\"dataframe\">\n",
              "  <thead>\n",
              "    <tr style=\"text-align: right;\">\n",
              "      <th></th>\n",
              "      <th>id</th>\n",
              "      <th>ancestor_list</th>\n",
              "      <th>origin_time</th>\n",
              "      <th>taxon_label</th>\n",
              "      <th>ancestor_id</th>\n",
              "    </tr>\n",
              "  </thead>\n",
              "  <tbody>\n",
              "    <tr>\n",
              "      <th>0</th>\n",
              "      <td>0</td>\n",
              "      <td>[none]</td>\n",
              "      <td>0.0</td>\n",
              "      <td>Root</td>\n",
              "      <td>0</td>\n",
              "    </tr>\n",
              "    <tr>\n",
              "      <th>248</th>\n",
              "      <td>248</td>\n",
              "      <td>[0]</td>\n",
              "      <td>9839.5</td>\n",
              "      <td>Inner+r=9824+d=NkI3l5X27iz+uid=Bv6lHKT64s9c4z3...</td>\n",
              "      <td>0</td>\n",
              "    </tr>\n",
              "    <tr>\n",
              "      <th>249</th>\n",
              "      <td>249</td>\n",
              "      <td>[248]</td>\n",
              "      <td>9871.5</td>\n",
              "      <td>Inner+r=9856+d=1dFc4yggBA+uid=DCNEcvW1h5aq1hGj...</td>\n",
              "      <td>248</td>\n",
              "    </tr>\n",
              "    <tr>\n",
              "      <th>252</th>\n",
              "      <td>252</td>\n",
              "      <td>[249]</td>\n",
              "      <td>9903.5</td>\n",
              "      <td>Inner+r=9888+d=G0SbfjEYqqS+uid=COkD_ZNDO2DGHkB...</td>\n",
              "      <td>249</td>\n",
              "    </tr>\n",
              "    <tr>\n",
              "      <th>261</th>\n",
              "      <td>261</td>\n",
              "      <td>[248]</td>\n",
              "      <td>9903.5</td>\n",
              "      <td>Inner+r=9888+d=KQeB_rWCy0n+uid=D80m2t_NLPHrZOF...</td>\n",
              "      <td>248</td>\n",
              "    </tr>\n",
              "    <tr>\n",
              "      <th>...</th>\n",
              "      <td>...</td>\n",
              "      <td>...</td>\n",
              "      <td>...</td>\n",
              "      <td>...</td>\n",
              "      <td>...</td>\n",
              "    </tr>\n",
              "    <tr>\n",
              "      <th>132206</th>\n",
              "      <td>132206</td>\n",
              "      <td>[1137]</td>\n",
              "      <td>10001.0</td>\n",
              "      <td>27237</td>\n",
              "      <td>1137</td>\n",
              "    </tr>\n",
              "    <tr>\n",
              "      <th>132207</th>\n",
              "      <td>132207</td>\n",
              "      <td>[1137]</td>\n",
              "      <td>10001.0</td>\n",
              "      <td>34504</td>\n",
              "      <td>1137</td>\n",
              "    </tr>\n",
              "    <tr>\n",
              "      <th>132208</th>\n",
              "      <td>132208</td>\n",
              "      <td>[1137]</td>\n",
              "      <td>10001.0</td>\n",
              "      <td>44508</td>\n",
              "      <td>1137</td>\n",
              "    </tr>\n",
              "    <tr>\n",
              "      <th>132209</th>\n",
              "      <td>132209</td>\n",
              "      <td>[1137]</td>\n",
              "      <td>10001.0</td>\n",
              "      <td>50809</td>\n",
              "      <td>1137</td>\n",
              "    </tr>\n",
              "    <tr>\n",
              "      <th>132210</th>\n",
              "      <td>132210</td>\n",
              "      <td>[261]</td>\n",
              "      <td>10001.0</td>\n",
              "      <td>47798</td>\n",
              "      <td>261</td>\n",
              "    </tr>\n",
              "  </tbody>\n",
              "</table>\n",
              "<p>66328 rows × 5 columns</p>\n",
              "</div>\n",
              "    <div class=\"colab-df-buttons\">\n",
              "\n",
              "  <div class=\"colab-df-container\">\n",
              "    <button class=\"colab-df-convert\" onclick=\"convertToInteractive('df-cf649772-3325-44bd-8b32-a665cde7365d')\"\n",
              "            title=\"Convert this dataframe to an interactive table.\"\n",
              "            style=\"display:none;\">\n",
              "\n",
              "  <svg xmlns=\"http://www.w3.org/2000/svg\" height=\"24px\" viewBox=\"0 -960 960 960\">\n",
              "    <path d=\"M120-120v-720h720v720H120Zm60-500h600v-160H180v160Zm220 220h160v-160H400v160Zm0 220h160v-160H400v160ZM180-400h160v-160H180v160Zm440 0h160v-160H620v160ZM180-180h160v-160H180v160Zm440 0h160v-160H620v160Z\"/>\n",
              "  </svg>\n",
              "    </button>\n",
              "\n",
              "  <style>\n",
              "    .colab-df-container {\n",
              "      display:flex;\n",
              "      gap: 12px;\n",
              "    }\n",
              "\n",
              "    .colab-df-convert {\n",
              "      background-color: #E8F0FE;\n",
              "      border: none;\n",
              "      border-radius: 50%;\n",
              "      cursor: pointer;\n",
              "      display: none;\n",
              "      fill: #1967D2;\n",
              "      height: 32px;\n",
              "      padding: 0 0 0 0;\n",
              "      width: 32px;\n",
              "    }\n",
              "\n",
              "    .colab-df-convert:hover {\n",
              "      background-color: #E2EBFA;\n",
              "      box-shadow: 0px 1px 2px rgba(60, 64, 67, 0.3), 0px 1px 3px 1px rgba(60, 64, 67, 0.15);\n",
              "      fill: #174EA6;\n",
              "    }\n",
              "\n",
              "    .colab-df-buttons div {\n",
              "      margin-bottom: 4px;\n",
              "    }\n",
              "\n",
              "    [theme=dark] .colab-df-convert {\n",
              "      background-color: #3B4455;\n",
              "      fill: #D2E3FC;\n",
              "    }\n",
              "\n",
              "    [theme=dark] .colab-df-convert:hover {\n",
              "      background-color: #434B5C;\n",
              "      box-shadow: 0px 1px 3px 1px rgba(0, 0, 0, 0.15);\n",
              "      filter: drop-shadow(0px 1px 2px rgba(0, 0, 0, 0.3));\n",
              "      fill: #FFFFFF;\n",
              "    }\n",
              "  </style>\n",
              "\n",
              "    <script>\n",
              "      const buttonEl =\n",
              "        document.querySelector('#df-cf649772-3325-44bd-8b32-a665cde7365d button.colab-df-convert');\n",
              "      buttonEl.style.display =\n",
              "        google.colab.kernel.accessAllowed ? 'block' : 'none';\n",
              "\n",
              "      async function convertToInteractive(key) {\n",
              "        const element = document.querySelector('#df-cf649772-3325-44bd-8b32-a665cde7365d');\n",
              "        const dataTable =\n",
              "          await google.colab.kernel.invokeFunction('convertToInteractive',\n",
              "                                                    [key], {});\n",
              "        if (!dataTable) return;\n",
              "\n",
              "        const docLinkHtml = 'Like what you see? Visit the ' +\n",
              "          '<a target=\"_blank\" href=https://colab.research.google.com/notebooks/data_table.ipynb>data table notebook</a>'\n",
              "          + ' to learn more about interactive tables.';\n",
              "        element.innerHTML = '';\n",
              "        dataTable['output_type'] = 'display_data';\n",
              "        await google.colab.output.renderOutput(dataTable, element);\n",
              "        const docLink = document.createElement('div');\n",
              "        docLink.innerHTML = docLinkHtml;\n",
              "        element.appendChild(docLink);\n",
              "      }\n",
              "    </script>\n",
              "  </div>\n",
              "\n",
              "\n",
              "<div id=\"df-4215c2a4-e8d5-4548-8bdd-760a5e708bd4\">\n",
              "  <button class=\"colab-df-quickchart\" onclick=\"quickchart('df-4215c2a4-e8d5-4548-8bdd-760a5e708bd4')\"\n",
              "            title=\"Suggest charts\"\n",
              "            style=\"display:none;\">\n",
              "\n",
              "<svg xmlns=\"http://www.w3.org/2000/svg\" height=\"24px\"viewBox=\"0 0 24 24\"\n",
              "     width=\"24px\">\n",
              "    <g>\n",
              "        <path d=\"M19 3H5c-1.1 0-2 .9-2 2v14c0 1.1.9 2 2 2h14c1.1 0 2-.9 2-2V5c0-1.1-.9-2-2-2zM9 17H7v-7h2v7zm4 0h-2V7h2v10zm4 0h-2v-4h2v4z\"/>\n",
              "    </g>\n",
              "</svg>\n",
              "  </button>\n",
              "\n",
              "<style>\n",
              "  .colab-df-quickchart {\n",
              "      --bg-color: #E8F0FE;\n",
              "      --fill-color: #1967D2;\n",
              "      --hover-bg-color: #E2EBFA;\n",
              "      --hover-fill-color: #174EA6;\n",
              "      --disabled-fill-color: #AAA;\n",
              "      --disabled-bg-color: #DDD;\n",
              "  }\n",
              "\n",
              "  [theme=dark] .colab-df-quickchart {\n",
              "      --bg-color: #3B4455;\n",
              "      --fill-color: #D2E3FC;\n",
              "      --hover-bg-color: #434B5C;\n",
              "      --hover-fill-color: #FFFFFF;\n",
              "      --disabled-bg-color: #3B4455;\n",
              "      --disabled-fill-color: #666;\n",
              "  }\n",
              "\n",
              "  .colab-df-quickchart {\n",
              "    background-color: var(--bg-color);\n",
              "    border: none;\n",
              "    border-radius: 50%;\n",
              "    cursor: pointer;\n",
              "    display: none;\n",
              "    fill: var(--fill-color);\n",
              "    height: 32px;\n",
              "    padding: 0;\n",
              "    width: 32px;\n",
              "  }\n",
              "\n",
              "  .colab-df-quickchart:hover {\n",
              "    background-color: var(--hover-bg-color);\n",
              "    box-shadow: 0 1px 2px rgba(60, 64, 67, 0.3), 0 1px 3px 1px rgba(60, 64, 67, 0.15);\n",
              "    fill: var(--button-hover-fill-color);\n",
              "  }\n",
              "\n",
              "  .colab-df-quickchart-complete:disabled,\n",
              "  .colab-df-quickchart-complete:disabled:hover {\n",
              "    background-color: var(--disabled-bg-color);\n",
              "    fill: var(--disabled-fill-color);\n",
              "    box-shadow: none;\n",
              "  }\n",
              "\n",
              "  .colab-df-spinner {\n",
              "    border: 2px solid var(--fill-color);\n",
              "    border-color: transparent;\n",
              "    border-bottom-color: var(--fill-color);\n",
              "    animation:\n",
              "      spin 1s steps(1) infinite;\n",
              "  }\n",
              "\n",
              "  @keyframes spin {\n",
              "    0% {\n",
              "      border-color: transparent;\n",
              "      border-bottom-color: var(--fill-color);\n",
              "      border-left-color: var(--fill-color);\n",
              "    }\n",
              "    20% {\n",
              "      border-color: transparent;\n",
              "      border-left-color: var(--fill-color);\n",
              "      border-top-color: var(--fill-color);\n",
              "    }\n",
              "    30% {\n",
              "      border-color: transparent;\n",
              "      border-left-color: var(--fill-color);\n",
              "      border-top-color: var(--fill-color);\n",
              "      border-right-color: var(--fill-color);\n",
              "    }\n",
              "    40% {\n",
              "      border-color: transparent;\n",
              "      border-right-color: var(--fill-color);\n",
              "      border-top-color: var(--fill-color);\n",
              "    }\n",
              "    60% {\n",
              "      border-color: transparent;\n",
              "      border-right-color: var(--fill-color);\n",
              "    }\n",
              "    80% {\n",
              "      border-color: transparent;\n",
              "      border-right-color: var(--fill-color);\n",
              "      border-bottom-color: var(--fill-color);\n",
              "    }\n",
              "    90% {\n",
              "      border-color: transparent;\n",
              "      border-bottom-color: var(--fill-color);\n",
              "    }\n",
              "  }\n",
              "</style>\n",
              "\n",
              "  <script>\n",
              "    async function quickchart(key) {\n",
              "      const quickchartButtonEl =\n",
              "        document.querySelector('#' + key + ' button');\n",
              "      quickchartButtonEl.disabled = true;  // To prevent multiple clicks.\n",
              "      quickchartButtonEl.classList.add('colab-df-spinner');\n",
              "      try {\n",
              "        const charts = await google.colab.kernel.invokeFunction(\n",
              "            'suggestCharts', [key], {});\n",
              "      } catch (error) {\n",
              "        console.error('Error during call to suggestCharts:', error);\n",
              "      }\n",
              "      quickchartButtonEl.classList.remove('colab-df-spinner');\n",
              "      quickchartButtonEl.classList.add('colab-df-quickchart-complete');\n",
              "    }\n",
              "    (() => {\n",
              "      let quickchartButtonEl =\n",
              "        document.querySelector('#df-4215c2a4-e8d5-4548-8bdd-760a5e708bd4 button');\n",
              "      quickchartButtonEl.style.display =\n",
              "        google.colab.kernel.accessAllowed ? 'block' : 'none';\n",
              "    })();\n",
              "  </script>\n",
              "</div>\n",
              "\n",
              "  <div id=\"id_d288405e-3f1e-4692-b3ea-663e3aabf855\">\n",
              "    <style>\n",
              "      .colab-df-generate {\n",
              "        background-color: #E8F0FE;\n",
              "        border: none;\n",
              "        border-radius: 50%;\n",
              "        cursor: pointer;\n",
              "        display: none;\n",
              "        fill: #1967D2;\n",
              "        height: 32px;\n",
              "        padding: 0 0 0 0;\n",
              "        width: 32px;\n",
              "      }\n",
              "\n",
              "      .colab-df-generate:hover {\n",
              "        background-color: #E2EBFA;\n",
              "        box-shadow: 0px 1px 2px rgba(60, 64, 67, 0.3), 0px 1px 3px 1px rgba(60, 64, 67, 0.15);\n",
              "        fill: #174EA6;\n",
              "      }\n",
              "\n",
              "      [theme=dark] .colab-df-generate {\n",
              "        background-color: #3B4455;\n",
              "        fill: #D2E3FC;\n",
              "      }\n",
              "\n",
              "      [theme=dark] .colab-df-generate:hover {\n",
              "        background-color: #434B5C;\n",
              "        box-shadow: 0px 1px 3px 1px rgba(0, 0, 0, 0.15);\n",
              "        filter: drop-shadow(0px 1px 2px rgba(0, 0, 0, 0.3));\n",
              "        fill: #FFFFFF;\n",
              "      }\n",
              "    </style>\n",
              "    <button class=\"colab-df-generate\" onclick=\"generateWithVariable('reconstructed_phylogeny_df')\"\n",
              "            title=\"Generate code using this dataframe.\"\n",
              "            style=\"display:none;\">\n",
              "\n",
              "  <svg xmlns=\"http://www.w3.org/2000/svg\" height=\"24px\"viewBox=\"0 0 24 24\"\n",
              "       width=\"24px\">\n",
              "    <path d=\"M7,19H8.4L18.45,9,17,7.55,7,17.6ZM5,21V16.75L18.45,3.32a2,2,0,0,1,2.83,0l1.4,1.43a1.91,1.91,0,0,1,.58,1.4,1.91,1.91,0,0,1-.58,1.4L9.25,21ZM18.45,9,17,7.55Zm-12,3A5.31,5.31,0,0,0,4.9,8.1,5.31,5.31,0,0,0,1,6.5,5.31,5.31,0,0,0,4.9,4.9,5.31,5.31,0,0,0,6.5,1,5.31,5.31,0,0,0,8.1,4.9,5.31,5.31,0,0,0,12,6.5,5.46,5.46,0,0,0,6.5,12Z\"/>\n",
              "  </svg>\n",
              "    </button>\n",
              "    <script>\n",
              "      (() => {\n",
              "      const buttonEl =\n",
              "        document.querySelector('#id_d288405e-3f1e-4692-b3ea-663e3aabf855 button.colab-df-generate');\n",
              "      buttonEl.style.display =\n",
              "        google.colab.kernel.accessAllowed ? 'block' : 'none';\n",
              "\n",
              "      buttonEl.onclick = () => {\n",
              "        google.colab.notebook.generateWithVariable('reconstructed_phylogeny_df');\n",
              "      }\n",
              "      })();\n",
              "    </script>\n",
              "  </div>\n",
              "\n",
              "    </div>\n",
              "  </div>\n"
            ]
          },
          "metadata": {},
          "execution_count": 14
        }
      ]
    },
    {
      "cell_type": "markdown",
      "source": [
        "## Evaluate Reconstruction\n",
        "\n",
        "Reconstruction quality data --- collect into spreadsheet."
      ],
      "metadata": {
        "id": "HyyTqjlXB5uu"
      }
    },
    {
      "cell_type": "code",
      "source": [
        "distances = calc_tqdist_distance(\n",
        "  true_phylogeny_df,\n",
        "  reconstructed_phylogeny_df,\n",
        "  impl=tqdist.distances,\n",
        "  progress_wrap=tqdm,\n",
        ")\n",
        "f\"{distances=}\""
      ],
      "metadata": {
        "id": "ZWJpZlpMB5N0",
        "colab": {
          "base_uri": "https://localhost:8080/",
          "height": 329
        },
        "outputId": "67f4a9ab-37a0-4f38-fad9-b19bc8d5e708"
      },
      "execution_count": null,
      "outputs": [
        {
          "output_type": "stream",
          "name": "stderr",
          "text": [
            "\n",
            "0it [00:00, ?it/s]\u001b[A\n",
            "18410it [00:00, 184075.60it/s]\u001b[A\n",
            "36818it [00:00, 183116.83it/s]\u001b[A\n",
            "65536it [00:00, 186846.11it/s]\n",
            "\n",
            "0it [00:00, ?it/s]\u001b[A\n",
            "65536it [00:00, 381705.95it/s]\n",
            "\n",
            "0it [00:00, ?it/s]\u001b[A\n",
            "16624it [00:00, 166220.34it/s]\u001b[A\n",
            "33247it [00:00, 161909.24it/s]\u001b[A\n",
            "65536it [00:00, 152531.91it/s]\n",
            "\n",
            "100%|██████████| 65536/65536 [00:00<00:00, 1253147.51it/s]\n"
          ]
        },
        {
          "output_type": "execute_result",
          "data": {
            "text/plain": [
              "'quartet_distance=8226.607410651844'"
            ],
            "application/vnd.google.colaboratory.intrinsic+json": {
              "type": "string"
            }
          },
          "metadata": {},
          "execution_count": 50
        }
      ]
    },
    {
      "cell_type": "code",
      "source": [
        "num_true_inner_nodes = hstrat_aux.alifestd_count_inner_nodes(true_phylogeny_df)\n",
        "num_reconstructed_inner_nodes = count_inner_nodes(reconstructed_phylogeny_df)\n",
        "f\"{num_true_inner_nodes=} {num_reconstructed_inner_nodes=}\""
      ],
      "metadata": {
        "id": "staoF6vMDGW3",
        "colab": {
          "base_uri": "https://localhost:8080/",
          "height": 227
        },
        "outputId": "c224c0cf-4fa1-4ff9-d581-29009f82542e"
      },
      "execution_count": 15,
      "outputs": [
        {
          "output_type": "error",
          "ename": "AttributeError",
          "evalue": "module 'hstrat._auxiliary_lib' has no attribute 'alifestd_count_inner_nodes'",
          "traceback": [
            "\u001b[0;31m---------------------------------------------------------------------------\u001b[0m",
            "\u001b[0;31mAttributeError\u001b[0m                            Traceback (most recent call last)",
            "\u001b[0;32m<ipython-input-15-83927a738e16>\u001b[0m in \u001b[0;36m<cell line: 1>\u001b[0;34m()\u001b[0m\n\u001b[0;32m----> 1\u001b[0;31m \u001b[0mnum_true_inner_nodes\u001b[0m \u001b[0;34m=\u001b[0m \u001b[0mhstrat_aux\u001b[0m\u001b[0;34m.\u001b[0m\u001b[0malifestd_count_inner_nodes\u001b[0m\u001b[0;34m(\u001b[0m\u001b[0mtrue_phylogeny_df\u001b[0m\u001b[0;34m)\u001b[0m\u001b[0;34m\u001b[0m\u001b[0;34m\u001b[0m\u001b[0m\n\u001b[0m\u001b[1;32m      2\u001b[0m \u001b[0mnum_reconstructed_inner_nodes\u001b[0m \u001b[0;34m=\u001b[0m \u001b[0mcount_inner_nodes\u001b[0m\u001b[0;34m(\u001b[0m\u001b[0mreconstructed_phylogeny_df\u001b[0m\u001b[0;34m)\u001b[0m\u001b[0;34m\u001b[0m\u001b[0;34m\u001b[0m\u001b[0m\n\u001b[1;32m      3\u001b[0m \u001b[0;34mf\"{num_true_inner_nodes=} {num_reconstructed_inner_nodes=}\"\u001b[0m\u001b[0;34m\u001b[0m\u001b[0;34m\u001b[0m\u001b[0m\n",
            "\u001b[0;31mAttributeError\u001b[0m: module 'hstrat._auxiliary_lib' has no attribute 'alifestd_count_inner_nodes'"
          ]
        }
      ]
    },
    {
      "cell_type": "code",
      "source": [
        "num_true_polytomies = count_polytomies(true_phylogeny_df)\n",
        "num_reconstructed_polytomies = count_polytomies(reconstructed_phylogeny_df)\n",
        "f\"{num_true_polytomies=} {num_reconstructed_polytomies=}\""
      ],
      "metadata": {
        "id": "5tiqawvDgwqS",
        "colab": {
          "base_uri": "https://localhost:8080/",
          "height": 38
        },
        "outputId": "e31c825e-6131-47c2-ac32-9b15f4500742"
      },
      "execution_count": null,
      "outputs": [
        {
          "output_type": "execute_result",
          "data": {
            "text/plain": [
              "'num_true_polytomies=14818 num_reconstructed_polytomies=728'"
            ],
            "application/vnd.google.colaboratory.intrinsic+json": {
              "type": "string"
            }
          },
          "metadata": {},
          "execution_count": 47
        }
      ]
    },
    {
      "cell_type": "code",
      "source": [
        "true_polytomic_index = calc_polytomic_index(true_phylogeny_df)\n",
        "reconstructed_polytomic_index = calc_polytomic_index(reconstructed_phylogeny_df)\n",
        "f\"{true_polytomic_index=} {reconstructed_polytomic_index=}\""
      ],
      "metadata": {
        "id": "S1XOZAtJAizJ",
        "colab": {
          "base_uri": "https://localhost:8080/",
          "height": 38
        },
        "outputId": "082c173c-4247-4df8-c636-cddfd948edda"
      },
      "execution_count": null,
      "outputs": [
        {
          "output_type": "execute_result",
          "data": {
            "text/plain": [
              "'true_polytomic_index=20873 reconstructed_polytomic_index=64743'"
            ],
            "application/vnd.google.colaboratory.intrinsic+json": {
              "type": "string"
            }
          },
          "metadata": {},
          "execution_count": 48
        }
      ]
    },
    {
      "cell_type": "markdown",
      "source": [
        "## Visualize Phylogeny & Reconstruction\n",
        "\n",
        "For validating results."
      ],
      "metadata": {
        "id": "6J_PwYFnB-Zi"
      }
    },
    {
      "cell_type": "markdown",
      "source": [
        "Topology only (no time)."
      ],
      "metadata": {
        "id": "TZSzgxPWzMfE"
      }
    },
    {
      "cell_type": "code",
      "source": [
        "true_phylogeny_tree = apc.alife_dataframe_to_biopython_tree(\n",
        "  hstrat_aux.alifestd_collapse_unifurcations(true_phylogeny_df),\n",
        "  setup_branch_lengths=False,\n",
        ")\n",
        "reconstructed_phylogeny_tree = apc.alife_dataframe_to_biopython_tree(\n",
        "  hstrat_aux.alifestd_collapse_unifurcations(reconstructed_phylogeny_df),\n",
        "  setup_branch_lengths=False,\n",
        ")\n",
        "\n",
        "fig, (ax1, ax2) = plt.subplots(1, 2, figsize=(12, 6))\n",
        "\n",
        "ax1.set_title(\"True Tree\")\n",
        "Phylo.draw(true_phylogeny_tree, do_show=False, axes=ax1)\n",
        "\n",
        "ax2.set_title(\"Reconstructed Tree\")\n",
        "Phylo.draw(reconstructed_phylogeny_tree, do_show=False, axes=ax2)\n",
        "\n",
        "plt.tight_layout()\n",
        "plt.show()"
      ],
      "metadata": {
        "id": "dhSB7eqTy86F"
      },
      "execution_count": null,
      "outputs": []
    },
    {
      "cell_type": "markdown",
      "source": [
        "Scaled by time."
      ],
      "metadata": {
        "id": "zxvNxM9NzVY6"
      }
    },
    {
      "cell_type": "code",
      "source": [
        "true_phylogeny_tree = apc.alife_dataframe_to_biopython_tree(\n",
        "  hstrat_aux.alifestd_collapse_unifurcations(true_phylogeny_df),\n",
        "  setup_branch_lengths=True,\n",
        ")\n",
        "reconstructed_phylogeny_tree = apc.alife_dataframe_to_biopython_tree(\n",
        "  hstrat_aux.alifestd_collapse_unifurcations(reconstructed_phylogeny_df),\n",
        "  setup_branch_lengths=True,\n",
        ")\n",
        "\n",
        "fig, (ax1, ax2) = plt.subplots(1, 2, figsize=(12, 6))\n",
        "\n",
        "ax1.set_title(\"True Tree\")\n",
        "ax1.set_xscale(\"log\")\n",
        "Phylo.draw(true_phylogeny_tree, do_show=False, axes=ax1)\n",
        "\n",
        "ax2.set_title(\"Reconstructed Tree\")\n",
        "ax2.set_xscale(\"log\")\n",
        "Phylo.draw(reconstructed_phylogeny_tree, do_show=False, axes=ax2)\n",
        "\n",
        "plt.tight_layout()\n",
        "plt.show()"
      ],
      "metadata": {
        "id": "SKd7tpe5-2e5"
      },
      "execution_count": null,
      "outputs": []
    },
    {
      "cell_type": "markdown",
      "source": [
        "## Reproducibility Information\n",
        "\n",
        "For future reference if reproducing experiments."
      ],
      "metadata": {
        "id": "1vWYtYFg_39e"
      }
    },
    {
      "cell_type": "code",
      "source": [
        "print(\n",
        "  f\"\"\"# instrumentation\n",
        "{annotation_size_bits=}\n",
        "{differentia_width_bits=}\n",
        "{stratum_retention_algo.PolicySpec.GetAlgoTitle()=}\n",
        "\n",
        "# evolutionary scale\n",
        "{population_size=}\n",
        "{num_generations=}\n",
        "\n",
        "# evolutionary conditions\n",
        "{num_islands=}\n",
        "{num_niches=}\n",
        "{tournament_size=}\n",
        "\"\"\"\n",
        ")"
      ],
      "metadata": {
        "id": "q0N8A_8JDRXr"
      },
      "execution_count": null,
      "outputs": []
    },
    {
      "cell_type": "code",
      "source": [
        "import datetime\n",
        "datetime.datetime.now().isoformat()"
      ],
      "metadata": {
        "id": "9rKQfXdBAxxJ"
      },
      "execution_count": null,
      "outputs": []
    },
    {
      "cell_type": "code",
      "source": [
        "%load_ext watermark\n",
        "%watermark"
      ],
      "metadata": {
        "id": "qO0LRJeL_3lB"
      },
      "execution_count": null,
      "outputs": []
    },
    {
      "cell_type": "code",
      "source": [
        "!pip freeze"
      ],
      "metadata": {
        "id": "UfHdK7OK-afO"
      },
      "execution_count": null,
      "outputs": []
    },
    {
      "cell_type": "code",
      "source": [
        "locals()"
      ],
      "metadata": {
        "id": "fLVm-ivpDjR6"
      },
      "execution_count": null,
      "outputs": []
    }
  ]
}