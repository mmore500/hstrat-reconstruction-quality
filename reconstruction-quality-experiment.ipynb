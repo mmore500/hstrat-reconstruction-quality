{
 "cells": [
  {
   "cell_type": "markdown",
   "metadata": {},
   "source": [
    "<a href=\"https://colab.research.google.com/gist/mmore500/a2e88e7c239935c362ec59c6b5a3f7b5/reconstruction-quality-experiment.ipynb\" target=\"_parent\"><img src=\"https://colab.research.google.com/assets/colab-badge.svg\" alt=\"Open In Colab\"/></a>"
   ]
  },
  {
   "cell_type": "markdown",
   "metadata": {},
   "source": [
    "## Procedure:\n",
    "\n",
    "For each experimental replicate per treatment,\n",
    "- Navigate to <https://colab.research.google.com/gist/mmore500/a2e88e7c239935c362ec59c6b5a3f7b5> to open a fresh copy of the experiment notebook. **Open a fresh notebook copy for each treatment.**\n",
    "- Click on filename on the top left of the Colab page(`a2e88e7c239935c362ec59c6b5a3f7b5`) and rename according to template\n",
    "  - `evo=island{num_islands}-niche{num_niches}-ngen{num_generations}-popsize{population_size}-tournsize{tournament_size}+instrument={\"steady\"|\"tilted\"}-{\"old\"|\"new\"}-bits{annotation_size_bits}-diff{differentia_width}+replicate={replicate}+ext=.ipynb`.\n",
    "  - For example, `evo=island1-niche1-ngen10000-popsize1024-tournsize2+instrument=steady-old-bits64-diff1+replicate=0+ext=.ipynb`.\n",
    "- Configure variables in \"Configure Experment\" section.\n",
    "- On the top menu, click `Runtime > Restart sesson and run all` if available, otherwise `Runtime > Run all`.\n",
    "- Wait for final cell's execution to complete.\n",
    "- Record configured variables and results from \"Evaluate Reconstruction\" section in [results spreadsheet](https://docs.google.com/spreadsheets/d/1ZhS4NDTDyBiwmwtWrZO5L06MGB3lhmp2-5ZzClhEwPU/edit?usp=sharing).\n",
    "- On the top menu, click `File > Download > Download .ipynb`.\n",
    "- Upload ipynb file to treatment directory at <https://osf.io/n4b2g/>, named same as notebook, except excluding `+replicate={replicate}+ext=.ipynb`.\n",
    "  - Treatment directory should contain notebooks for each replicate of notebook.\n"
   ]
  },
  {
   "cell_type": "markdown",
   "metadata": {},
   "source": [
    "## Set Up Environment"
   ]
  },
  {
   "cell_type": "code",
   "execution_count": null,
   "metadata": {},
   "outputs": [],
   "source": [
    "import os\n",
    "import typing\n",
    "import uuid\n",
    "\n",
    "import alifedata_phyloinformatics_convert as apc\n",
    "from Bio import Phylo\n",
    "from hstrat import hstrat\n",
    "from hstrat import _auxiliary_lib as hstrat_aux\n",
    "from hsurf import hsurf\n",
    "from matplotlib import pyplot as plt\n",
    "import numpy as np\n",
    "import pandas as pd\n",
    "import tqdist\n",
    "from tqdm.notebook import tqdm"
   ]
  },
  {
   "cell_type": "markdown",
   "metadata": {},
   "source": [
    "## Configure Experiment"
   ]
  },
  {
   "cell_type": "code",
   "execution_count": null,
   "metadata": {},
   "outputs": [],
   "source": [
    "# os.environ[\"annotation_size_bits\"] = \"64\"\n",
    "# os.environ[\"differentia_width_bits\"] = \"1\"\n",
    "# os.environ[\"downsample\"] = \"500\"\n",
    "# os.environ[\"stratum_retention_algo\"] = \"surf-steady\"\n",
    "# os.environ[\"population_size\"] = \"1024\"\n",
    "# os.environ[\"num_generations\"] = \"10000\"\n",
    "# os.environ[\"num_islands\"] = \"4\"\n",
    "# os.environ[\"num_niches\"] = \"2\"\n",
    "# os.environ[\"tournament_size\"] = \"2\"\n",
    "# os.environ[\"replicate\"] = \"0\""
   ]
  },
  {
   "cell_type": "markdown",
   "metadata": {},
   "source": [
    "Configure instrumentation. **Edit me**"
   ]
  },
  {
   "cell_type": "code",
   "execution_count": null,
   "metadata": {},
   "outputs": [],
   "source": [
    "# TODO Uncomment one...\n",
    "annotation_size_bits = int(os.environ[\"annotation_size_bits\"])\n",
    "print(f\"{annotation_size_bits=}\")\n",
    "assert (\n",
    "    annotation_size_bits.bit_count() == 1\n",
    "), \"must be power of 2 (1, 2, 4, 8, etc.)\"\n",
    "\n",
    "# TODO Uncomment one...\n",
    "differentia_width_bits = int(os.environ[\"differentia_width_bits\"])\n",
    "print(f\"{differentia_width_bits=}\")\n",
    "assert (\n",
    "    differentia_width_bits.bit_count() == 1\n",
    "), \"must be power of 2 (1, 2, 4, 8, etc.)\"\n",
    "\n",
    "# TODO Uncomment one...\n",
    "stratum_retention_algo = os.environ.get(\"stratum_retention_algo\")\n",
    "print(f\"{stratum_retention_algo=}\")\n",
    "stratum_retention_algo = {\n",
    "    \"col-steady\": hstrat.depth_proportional_resolution_tapered_algo,\n",
    "    \"col-tilted\": hstrat.recency_proportional_resolution_curbed_algo,\n",
    "    \"surf-hybrid\": hsurf.stratum_retention_interop_hybrid_algo,\n",
    "    \"surf-steady\": hsurf.stratum_retention_interop_steady_algo,\n",
    "    \"surf-tilted\": hsurf.stratum_retention_interop_tilted_sticky_algo,\n",
    "}[stratum_retention_algo]"
   ]
  },
  {
   "cell_type": "markdown",
   "metadata": {},
   "source": [
    "Configure evolutionary scale. **Edit me**"
   ]
  },
  {
   "cell_type": "code",
   "execution_count": null,
   "metadata": {},
   "outputs": [],
   "source": [
    "# TODO Uncomment one...\n",
    "population_size = int(os.environ[\"population_size\"])\n",
    "print(f\"{population_size=}\")\n",
    "assert population_size.bit_count() == 1, \"must be power of 2 (1, 2, 4, 8, etc.)\"\n",
    "\n",
    "# TODO Uncomment one...\n",
    "num_generations = int(os.environ[\"num_generations\"])\n",
    "print(f\"{num_generations=}\")"
   ]
  },
  {
   "cell_type": "markdown",
   "metadata": {},
   "source": [
    "Configure evolutionary conditions.  **Edit me**"
   ]
  },
  {
   "cell_type": "code",
   "execution_count": null,
   "metadata": {},
   "outputs": [],
   "source": [
    "# TODO Uncomment one...\n",
    "num_islands = int(os.environ[\"num_islands\"])\n",
    "print(f\"{num_islands=}\")\n",
    "assert num_islands.bit_count() == 1, \"must be power of 2 (1, 2, 4, 8, etc.)\"\n",
    "\n",
    "# TODO Uncomment one...\n",
    "num_niches = int(os.environ[\"num_niches\"])\n",
    "print(f\"{num_niches=}\")\n",
    "assert num_niches.bit_count() == 1, \"must be power of 2 (1, 2, 4, 8, etc.)\"\n",
    "\n",
    "# TODO Uncomment one...\n",
    "tournament_size = int(os.environ[\"tournament_size\"])\n",
    "print(f\"{tournament_size=}\")"
   ]
  },
  {
   "cell_type": "markdown",
   "metadata": {},
   "source": [
    "Configure experimental replicate. **Edit me**"
   ]
  },
  {
   "cell_type": "code",
   "execution_count": null,
   "metadata": {},
   "outputs": [],
   "source": [
    "replicate = int(os.environ[\"replicate\"])\n",
    "print(f\"{replicate=}\")"
   ]
  },
  {
   "cell_type": "markdown",
   "metadata": {},
   "source": [
    "Set up random number generator. (Do not edit.)"
   ]
  },
  {
   "cell_type": "code",
   "execution_count": null,
   "metadata": {},
   "outputs": [],
   "source": [
    "seed = (\n",
    "    hash(\n",
    "        (\n",
    "            replicate,\n",
    "            population_size,\n",
    "            num_generations,\n",
    "            num_islands,\n",
    "            num_niches,\n",
    "            tournament_size,\n",
    "        )\n",
    "    )\n",
    "    % 2**32\n",
    ")\n",
    "\n",
    "seed"
   ]
  },
  {
   "cell_type": "code",
   "execution_count": null,
   "metadata": {},
   "outputs": [],
   "source": [
    "from hstrat._auxiliary_lib import seed_random\n",
    "\n",
    "seed_random(seed)"
   ]
  },
  {
   "cell_type": "markdown",
   "metadata": {},
   "source": [
    "Parametrize instrumentation. (Do not edit.)"
   ]
  },
  {
   "cell_type": "code",
   "execution_count": null,
   "metadata": {},
   "outputs": [],
   "source": [
    "annotation_capacity_strata = annotation_size_bits // differentia_width_bits\n",
    "assert (\n",
    "    annotation_capacity_strata.bit_count() == 1\n",
    "), \"must be power of 2 (1, 2, 4, 8, etc.)\"\n",
    "print(f\"{annotation_capacity_strata=}\")\n",
    "\n",
    "parametrized_policy = stratum_retention_algo.Policy(\n",
    "    parameterizer=hstrat.PropertyAtMostParameterizer(\n",
    "        target_value=annotation_capacity_strata,\n",
    "        policy_evaluator=hstrat.NumStrataRetainedUpperBoundEvaluator(\n",
    "            at_num_strata_deposited=num_generations,\n",
    "        ),\n",
    "        param_lower_bound=2,\n",
    "        param_upper_bound=1024,\n",
    "    ),\n",
    ")\n",
    "\n",
    "print(f\"{parametrized_policy=}\")\n",
    "print(\n",
    "    f\"num strata retained upper bound {parametrized_policy.CalcNumStrataRetainedUpperBound(num_generations)}\"\n",
    ")"
   ]
  },
  {
   "cell_type": "markdown",
   "metadata": {},
   "source": [
    "## Setup"
   ]
  },
  {
   "cell_type": "markdown",
   "metadata": {},
   "source": [
    "Helper functions."
   ]
  },
  {
   "cell_type": "code",
   "execution_count": null,
   "metadata": {},
   "outputs": [],
   "source": [
    "def calc_tqdist_distance(\n",
    "    x: pd.DataFrame,\n",
    "    y: pd.DataFrame,\n",
    "    progress_wrap: typing.Callable = lambda x: x,\n",
    ") -> float:\n",
    "    \"\"\"Calculate dissimilarity between two trees. Used to measure how accurate\n",
    "    tree reconstructions are.\"\"\"\n",
    "    tree_a = apc.RosettaTree(x, validate=\"error\").as_dendropy\n",
    "    tree_b = apc.RosettaTree(y, validate=\"error\").as_dendropy\n",
    "\n",
    "    # must suppress root unifurcations or tqdist barfs\n",
    "    # see https://github.com/uym2/tripVote/issues/15\n",
    "    tree_a.unassign_taxa(exclude_leaves=True)\n",
    "    tree_a.suppress_unifurcations()\n",
    "    tree_b.unassign_taxa(exclude_leaves=True)\n",
    "    tree_b.suppress_unifurcations()\n",
    "\n",
    "    tree_a_taxon_labels = [\n",
    "        leaf.taxon.label for leaf in progress_wrap(tree_a.leaf_node_iter())\n",
    "    ]\n",
    "    tree_b_taxon_labels = [\n",
    "        leaf.taxon.label for leaf in progress_wrap(tree_b.leaf_node_iter())\n",
    "    ]\n",
    "    all(\n",
    "        progress_wrap(\n",
    "            zip(tree_a.leaf_node_iter(), tree_b.leaf_node_iter(), strict=True),\n",
    "        ),\n",
    "    )\n",
    "    assert sorted(tree_a_taxon_labels) == sorted(tree_b_taxon_labels)\n",
    "    assert sorted(tree_a_taxon_labels) == sorted(\n",
    "        x.loc[hstrat_aux.alifestd_find_leaf_ids(x), \"taxon_label\"],\n",
    "    )\n",
    "    assert sorted(tree_a_taxon_labels) == sorted(\n",
    "        y.loc[hstrat_aux.alifestd_find_leaf_ids(y), \"taxon_label\"],\n",
    "    )\n",
    "    for taxon_label in progress_wrap(tree_a_taxon_labels):\n",
    "        assert taxon_label\n",
    "        assert taxon_label.strip()\n",
    "\n",
    "    newick_a = tree_a.as_string(schema=\"newick\").strip()\n",
    "    newick_b = tree_b.as_string(schema=\"newick\").strip()\n",
    "\n",
    "    return {\n",
    "        \"quartet_distance\": tqdist.quartet_distance(newick_a, newick_b),\n",
    "        \"quartet_distanc_raw\": tqdist.quartet_distance_raw(newick_a, newick_b),\n",
    "        \"triplet_distance\": tqdist.triplet_distance(newick_a, newick_b),\n",
    "        \"triplet_distance_raw\": tqdist.triplet_distance_raw(newick_a, newick_b),\n",
    "    }"
   ]
  },
  {
   "cell_type": "markdown",
   "metadata": {},
   "source": [
    "## Generate Phylogeny\n",
    "\n",
    "Use simple evolutionary simulation to generate a phylogenetic history to test reconstruction process on."
   ]
  },
  {
   "cell_type": "code",
   "execution_count": null,
   "metadata": {},
   "outputs": [],
   "source": [
    "true_phylogeny_df = hstrat.evolve_fitness_trait_population(\n",
    "    num_islands=num_islands,\n",
    "    num_niches=num_niches,\n",
    "    num_generations=num_generations,\n",
    "    population_size=population_size,\n",
    "    tournament_size=tournament_size,\n",
    "    progress_wrap=tqdm,\n",
    ")"
   ]
  },
  {
   "cell_type": "code",
   "execution_count": null,
   "metadata": {},
   "outputs": [],
   "source": [
    "true_phylogeny_df[\"taxon_label\"] = true_phylogeny_df[\"loc\"].astype(str)\n",
    "true_phylogeny_df = hstrat_aux.alifestd_mark_leaves(\n",
    "    true_phylogeny_df, mutate=True\n",
    ")\n",
    "true_phylogeny_df.loc[~true_phylogeny_df[\"is_leaf\"], \"taxon_label\"] = \"\"\n",
    "true_phylogeny_df"
   ]
  },
  {
   "cell_type": "code",
   "execution_count": null,
   "metadata": {},
   "outputs": [],
   "source": [
    "true_phylogeny_df = hstrat_aux.alifestd_to_working_format(\n",
    "    hstrat_aux.alifestd_collapse_unifurcations(true_phylogeny_df, mutate=True),\n",
    "    mutate=True,\n",
    ").reset_index(drop=True)\n",
    "true_phylogeny_df"
   ]
  },
  {
   "cell_type": "code",
   "execution_count": null,
   "metadata": {},
   "outputs": [],
   "source": [
    "full_true_phylogeny_df = true_phylogeny_df.copy()"
   ]
  },
  {
   "cell_type": "markdown",
   "metadata": {},
   "source": [
    "## Downsample Phylogeny\n"
   ]
  },
  {
   "cell_type": "code",
   "execution_count": null,
   "metadata": {},
   "outputs": [],
   "source": [
    "downsample = int(os.environ[\"downsample\"])\n",
    "print(f\"{downsample=}\")\n",
    "if downsample:\n",
    "    print(f\"downsampling to {downsample=}\")\n",
    "    leaf_ids = hstrat_aux.alifestd_find_leaf_ids(true_phylogeny_df)\n",
    "    downsample_ids = np.random.default_rng(seed).choice(\n",
    "        leaf_ids,\n",
    "        downsample,\n",
    "        replace=False,\n",
    "    )\n",
    "    true_phylogeny_df[\"extant\"] = False\n",
    "    true_phylogeny_df.loc[\n",
    "        true_phylogeny_df[\"id\"].isin(downsample_ids),\n",
    "        \"extant\",\n",
    "    ] = True\n",
    "    true_phylogeny_df = hstrat_aux.alifestd_prune_extinct_lineages_asexual(\n",
    "        true_phylogeny_df,\n",
    "        mutate=True,\n",
    "    )\n",
    "    assert (\n",
    "        len(hstrat_aux.alifestd_find_leaf_ids(true_phylogeny_df)) == downsample\n",
    "    )\n",
    "\n",
    "    true_phylogeny_df = hstrat_aux.alifestd_to_working_format(\n",
    "        true_phylogeny_df,\n",
    "        mutate=True,\n",
    "    )"
   ]
  },
  {
   "cell_type": "markdown",
   "metadata": {},
   "source": [
    "## Generate Reconstruction\n",
    "\n",
    "Generate genome annotations as if tracking phylogeny in distributed environment.\n",
    "Then run reconstruction proess to estimate true phylogeny from generated annotations."
   ]
  },
  {
   "cell_type": "code",
   "execution_count": null,
   "metadata": {},
   "outputs": [],
   "source": [
    "extant_annotations = hstrat.descend_template_phylogeny_alifestd(\n",
    "    true_phylogeny_df,\n",
    "    seed_column=hstrat.HereditaryStratigraphicColumn(\n",
    "        parametrized_policy,\n",
    "        stratum_differentia_bit_width=differentia_width_bits,\n",
    "    ),\n",
    "    extant_ids=hstrat_aux.alifestd_find_leaf_ids(true_phylogeny_df),\n",
    "    progress_wrap=tqdm,\n",
    ")\n",
    "\n",
    "len(extant_annotations)"
   ]
  },
  {
   "cell_type": "code",
   "execution_count": null,
   "metadata": {},
   "outputs": [],
   "source": [
    "reconstructed_phylogeny_df = hstrat.build_tree_trie(\n",
    "    extant_annotations,\n",
    "    bias_adjustment=hstrat.CompoundTriePostprocessor(\n",
    "        [\n",
    "            hstrat.PeelBackConjoinedLeavesTriePostprocessor(),\n",
    "            hstrat.AssignOriginTimeSampleNaiveTriePostprocessor(),\n",
    "        ],\n",
    "    ),\n",
    "    progress_wrap=tqdm,\n",
    "    taxon_labels=true_phylogeny_df.loc[\n",
    "        hstrat_aux.alifestd_find_leaf_ids(true_phylogeny_df),\n",
    "        \"taxon_label\",\n",
    "    ],\n",
    ")\n",
    "reconstructed_phylogeny_df"
   ]
  },
  {
   "cell_type": "code",
   "execution_count": null,
   "metadata": {},
   "outputs": [],
   "source": [
    "reconstructed_phylogeny_df = hstrat_aux.alifestd_collapse_unifurcations(\n",
    "    reconstructed_phylogeny_df, mutate=True\n",
    ")\n",
    "reconstructed_phylogeny_df"
   ]
  },
  {
   "cell_type": "code",
   "execution_count": null,
   "metadata": {},
   "outputs": [],
   "source": [
    "assert hstrat_aux.alifestd_is_chronologically_ordered(\n",
    "    reconstructed_phylogeny_df\n",
    ")"
   ]
  },
  {
   "cell_type": "markdown",
   "metadata": {},
   "source": [
    "## Evaluate Reconstruction\n",
    "\n",
    "Reconstruction quality data --- collect into spreadsheet."
   ]
  },
  {
   "cell_type": "code",
   "execution_count": null,
   "metadata": {},
   "outputs": [],
   "source": [
    "estimation_intervals = [\n",
    "    hstrat.calc_ranks_since_mrca_bounds_with(\n",
    "        *np.random.choice(extant_annotations, size=2, replace=False),\n",
    "        prior=\"arbitrary\",\n",
    "    )\n",
    "    for __ in tqdm(range(200))\n",
    "]"
   ]
  },
  {
   "cell_type": "code",
   "execution_count": null,
   "metadata": {},
   "outputs": [],
   "source": [
    "# handle the case where common ancestry cannot be definitively established\n",
    "try:\n",
    "    median_abs_uncertainty = np.median([*map(np.ptp, estimation_intervals)])\n",
    "except TypeError:\n",
    "    median_abs_uncertainty = np.nan\n",
    "\n",
    "try:\n",
    "    mean_abs_uncertainty = np.mean([*map(np.ptp, estimation_intervals)])\n",
    "except TypeError:\n",
    "    mean_abs_uncertainty = np.nan\n",
    "\n",
    "f\"{median_abs_uncertainty=} {mean_abs_uncertainty=}\""
   ]
  },
  {
   "cell_type": "code",
   "execution_count": null,
   "metadata": {},
   "outputs": [],
   "source": [
    "# handle the case where common ancestry cannot be definitively established\n",
    "try:\n",
    "    rel_uncertainties = np.array([*map(np.ptp, estimation_intervals)]) / (\n",
    "        np.array([*map(np.mean, estimation_intervals)]) + 1\n",
    "    )\n",
    "    median_rel_uncertainty = np.median(rel_uncertainties)\n",
    "    mean_rel_uncertainty = np.mean(rel_uncertainties)\n",
    "except TypeError:\n",
    "    median_rel_uncertainty = np.nan\n",
    "    mean_rel_uncertainty = np.nan\n",
    "\n",
    "f\"{median_rel_uncertainty=} {mean_rel_uncertainty=}\""
   ]
  },
  {
   "cell_type": "code",
   "execution_count": null,
   "metadata": {},
   "outputs": [],
   "source": [
    "num_true_inner_nodes = hstrat_aux.alifestd_count_inner_nodes(true_phylogeny_df)\n",
    "num_reconstructed_inner_nodes = hstrat_aux.alifestd_count_inner_nodes(\n",
    "    reconstructed_phylogeny_df\n",
    ")\n",
    "f\"{num_true_inner_nodes=} {num_reconstructed_inner_nodes=}\""
   ]
  },
  {
   "cell_type": "code",
   "execution_count": null,
   "metadata": {},
   "outputs": [],
   "source": [
    "num_true_polytomies = hstrat_aux.alifestd_count_polytomies(true_phylogeny_df)\n",
    "num_reconstructed_polytomies = hstrat_aux.alifestd_count_polytomies(\n",
    "    reconstructed_phylogeny_df\n",
    ")\n",
    "f\"{num_true_polytomies=} {num_reconstructed_polytomies=}\""
   ]
  },
  {
   "cell_type": "code",
   "execution_count": null,
   "metadata": {},
   "outputs": [],
   "source": [
    "true_polytomic_index = hstrat_aux.alifestd_calc_polytomic_index(\n",
    "    true_phylogeny_df\n",
    ")\n",
    "reconstructed_polytomic_index = hstrat_aux.alifestd_calc_polytomic_index(\n",
    "    reconstructed_phylogeny_df\n",
    ")\n",
    "f\"{true_polytomic_index=} {reconstructed_polytomic_index=}\""
   ]
  },
  {
   "cell_type": "code",
   "execution_count": null,
   "metadata": {},
   "outputs": [],
   "source": [
    "distances = calc_tqdist_distance(\n",
    "    true_phylogeny_df,\n",
    "    reconstructed_phylogeny_df,\n",
    "    progress_wrap=tqdm,\n",
    ")\n",
    "f\"{distances=}\""
   ]
  },
  {
   "cell_type": "code",
   "execution_count": null,
   "metadata": {},
   "outputs": [],
   "source": [
    "sampled_triplet_distance_strict = (\n",
    "    hstrat_aux.alifestd_estimate_triplet_distance_asexual(\n",
    "        true_phylogeny_df,\n",
    "        reconstructed_phylogeny_df,\n",
    "        taxon_label_key=\"taxon_label\",\n",
    "        confidence=0.9,\n",
    "        precision=0.05,\n",
    "        strict=True,\n",
    "        progress_wrap=tqdm,\n",
    "        mutate=True,\n",
    "    )\n",
    ")\n",
    "f\"{sampled_triplet_distance_strict=}\""
   ]
  },
  {
   "cell_type": "code",
   "execution_count": null,
   "metadata": {},
   "outputs": [],
   "source": [
    "sampled_triplet_distance_lax = (\n",
    "    hstrat_aux.alifestd_estimate_triplet_distance_asexual(\n",
    "        true_phylogeny_df,\n",
    "        reconstructed_phylogeny_df,\n",
    "        taxon_label_key=\"taxon_label\",\n",
    "        confidence=0.9,\n",
    "        precision=0.05,\n",
    "        strict=False,\n",
    "        progress_wrap=tqdm,\n",
    "        mutate=True,\n",
    "    )\n",
    ")\n",
    "f\"{sampled_triplet_distance_lax=}\""
   ]
  },
  {
   "cell_type": "code",
   "execution_count": null,
   "metadata": {},
   "outputs": [],
   "source": [
    "sampled_triplet_distance_strict_ground = (\n",
    "    hstrat_aux.alifestd_estimate_triplet_distance_asexual(\n",
    "        true_phylogeny_df,\n",
    "        reconstructed_phylogeny_df,\n",
    "        taxon_label_key=\"taxon_label\",\n",
    "        confidence=0.9,\n",
    "        precision=0.05,\n",
    "        strict=(True, False),\n",
    "        progress_wrap=tqdm,\n",
    "        mutate=True,\n",
    "    )\n",
    ")\n",
    "f\"{sampled_triplet_distance_strict_ground=}\""
   ]
  },
  {
   "cell_type": "code",
   "execution_count": null,
   "metadata": {},
   "outputs": [],
   "source": [
    "sampled_triplet_distance_strict_reconst = (\n",
    "    hstrat_aux.alifestd_estimate_triplet_distance_asexual(\n",
    "        true_phylogeny_df,\n",
    "        reconstructed_phylogeny_df,\n",
    "        taxon_label_key=\"taxon_label\",\n",
    "        confidence=0.9,\n",
    "        precision=0.05,\n",
    "        strict=(False, True),\n",
    "        progress_wrap=tqdm,\n",
    "        mutate=True,\n",
    "    )\n",
    ")\n",
    "f\"{sampled_triplet_distance_strict_reconst=}\""
   ]
  },
  {
   "cell_type": "code",
   "execution_count": null,
   "metadata": {},
   "outputs": [],
   "source": [
    "sampled_triplet_comparisons_df = (\n",
    "    hstrat_aux.alifestd_sample_triplet_comparisons_asexual(\n",
    "        true_phylogeny_df,\n",
    "        reconstructed_phylogeny_df,\n",
    "        n=1000,\n",
    "        taxon_label_key=\"taxon_label\",\n",
    "        progress_wrap=tqdm,\n",
    "        mutate=True,\n",
    "    )\n",
    ")"
   ]
  },
  {
   "cell_type": "markdown",
   "metadata": {},
   "source": [
    "## Visualize Phylogeny & Reconstruction\n",
    "\n",
    "For validating results."
   ]
  },
  {
   "cell_type": "markdown",
   "metadata": {},
   "source": [
    "Topology only (no time)."
   ]
  },
  {
   "cell_type": "code",
   "execution_count": null,
   "metadata": {},
   "outputs": [],
   "source": [
    "if (downsample and downsample <= 10000) or population_size <= 10000:\n",
    "    true_phylogeny_tree = apc.alife_dataframe_to_biopython_tree(\n",
    "        hstrat_aux.alifestd_collapse_unifurcations(true_phylogeny_df),\n",
    "        setup_branch_lengths=False,\n",
    "    )\n",
    "    reconstructed_phylogeny_tree = apc.alife_dataframe_to_biopython_tree(\n",
    "        hstrat_aux.alifestd_collapse_unifurcations(reconstructed_phylogeny_df),\n",
    "        setup_branch_lengths=False,\n",
    "    )\n",
    "\n",
    "    fig, (ax1, ax2) = plt.subplots(1, 2, figsize=(12, 6))\n",
    "\n",
    "    ax1.set_title(\"True Tree\")\n",
    "    Phylo.draw(true_phylogeny_tree, do_show=False, axes=ax1)\n",
    "\n",
    "    ax2.set_title(\"Reconstructed Tree\")\n",
    "    Phylo.draw(reconstructed_phylogeny_tree, do_show=False, axes=ax2)\n",
    "\n",
    "    plt.tight_layout()\n",
    "    plt.show()"
   ]
  },
  {
   "cell_type": "markdown",
   "metadata": {},
   "source": [
    "Scaled by time."
   ]
  },
  {
   "cell_type": "code",
   "execution_count": null,
   "metadata": {},
   "outputs": [],
   "source": [
    "if (downsample and downsample <= 10000) or population_size <= 10000:\n",
    "    true_phylogeny_tree = apc.alife_dataframe_to_biopython_tree(\n",
    "        hstrat_aux.alifestd_collapse_unifurcations(true_phylogeny_df),\n",
    "        setup_branch_lengths=True,\n",
    "    )\n",
    "    reconstructed_phylogeny_tree = apc.alife_dataframe_to_biopython_tree(\n",
    "        hstrat_aux.alifestd_collapse_unifurcations(reconstructed_phylogeny_df),\n",
    "        setup_branch_lengths=True,\n",
    "    )\n",
    "\n",
    "    fig, (ax1, ax2) = plt.subplots(1, 2, figsize=(12, 6))\n",
    "\n",
    "    ax1.set_title(\"True Tree\")\n",
    "    ax1.set_xscale(\"log\")\n",
    "    Phylo.draw(true_phylogeny_tree, do_show=False, axes=ax1)\n",
    "\n",
    "    ax2.set_title(\"Reconstructed Tree\")\n",
    "    ax2.set_xscale(\"log\")\n",
    "    Phylo.draw(reconstructed_phylogeny_tree, do_show=False, axes=ax2)\n",
    "\n",
    "    plt.tight_layout()\n",
    "    plt.show()"
   ]
  },
  {
   "cell_type": "markdown",
   "metadata": {},
   "source": [
    "## Data Output"
   ]
  },
  {
   "cell_type": "code",
   "execution_count": null,
   "metadata": {},
   "outputs": [],
   "source": [
    "treatment = f\"evo=island{num_islands}-niche{num_niches}-ngen{num_generations}-popsize{population_size}-tournsize{tournament_size}+instrument={os.environ.get('stratum_retention_algo')}-bits{annotation_size_bits}-diff{differentia_width_bits}-dsamp{downsample}+replicate={replicate}\"\n",
    "treatment"
   ]
  },
  {
   "cell_type": "code",
   "execution_count": null,
   "metadata": {},
   "outputs": [],
   "source": [
    "traits = {\n",
    "    \"treatment\": treatment,\n",
    "    \"algorithm\": os.environ.get(\"stratum_retention_algo\"),\n",
    "    \"replicate\": replicate,\n",
    "    \"annotation_size_bits\": annotation_size_bits,\n",
    "    \"differentia_width_bits\": differentia_width_bits,\n",
    "    \"downsample\": downsample,\n",
    "    \"num_islands\": num_islands,\n",
    "    \"num_niches\": num_niches,\n",
    "    \"tournament_size\": tournament_size,\n",
    "    \"num_generations\": num_generations,\n",
    "    \"population_size\": population_size,\n",
    "    \"policy algorithm\": stratum_retention_algo.PolicySpec.GetAlgoTitle(),\n",
    "}\n",
    "df_out = pd.DataFrame.from_records(\n",
    "    [\n",
    "        {\n",
    "            \"sampled_triplet_distance_strict\": sampled_triplet_distance_strict,\n",
    "            \"sampled_triplet_distance_strict_ground\": sampled_triplet_distance_strict_ground,\n",
    "            \"sampled_triplet_distance_strict_reconst\": sampled_triplet_distance_strict_reconst,\n",
    "            \"sampled_triplet_distance_lax\": sampled_triplet_distance_lax,\n",
    "            \"num_true_inner_nodes\": num_true_inner_nodes,\n",
    "            \"num_reconstructed_inner_nodes\": num_reconstructed_inner_nodes,\n",
    "            \"num_true_polytomies\": num_true_polytomies,\n",
    "            \"num_reconstructed_polytomies\": num_reconstructed_polytomies,\n",
    "            \"reconstructed_polytomic_index\": reconstructed_polytomic_index,\n",
    "            \"true_polytomic_index\": true_polytomic_index,\n",
    "            **traits,\n",
    "            **distances,\n",
    "        },\n",
    "    ]\n",
    ")\n",
    "\n",
    "filename = f\"a=stats+{treatment}+ext=.csv\"\n",
    "df_out.to_csv(filename, index=False)\n",
    "filename"
   ]
  },
  {
   "cell_type": "code",
   "execution_count": null,
   "metadata": {},
   "outputs": [],
   "source": [
    "sampled_triplet_comparisons_df[\"tree_uid\"] = str(uuid.uuid4())\n",
    "for k, v in traits.items():\n",
    "    sampled_triplet_comparisons_df[k] = v\n",
    "\n",
    "filename = f\"a=sampled-triplet-comparisons+{treatment}+ext=.pqt\"\n",
    "sampled_triplet_comparisons_df.to_parquet(filename)\n",
    "filename"
   ]
  },
  {
   "cell_type": "code",
   "execution_count": null,
   "metadata": {},
   "outputs": [],
   "source": [
    "full_true_phylogeny_df[\"tree_uid\"] = str(uuid.uuid4())\n",
    "full_true_phylogeny_df[\"kind\"] = \"true-full\"\n",
    "for k, v in traits.items():\n",
    "    full_true_phylogeny_df[k] = v\n",
    "\n",
    "filename = f\"a=phylogeny-true-full+{treatment}+ext=.pqt\"\n",
    "full_true_phylogeny_df.to_parquet(filename)\n",
    "filename"
   ]
  },
  {
   "cell_type": "code",
   "execution_count": null,
   "metadata": {},
   "outputs": [],
   "source": [
    "true_phylogeny_df[\"tree_uid\"] = str(uuid.uuid4())\n",
    "true_phylogeny_df[\"kind\"] = \"true\"\n",
    "hstrat_aux.alifestd_mark_num_children_asexual(true_phylogeny_df, mutate=True)\n",
    "\n",
    "reconstructed_phylogeny_df[\"tree_uid\"] = str(uuid.uuid4())\n",
    "reconstructed_phylogeny_df[\"kind\"] = \"reconstructed\"\n",
    "hstrat_aux.alifestd_mark_num_children_asexual(\n",
    "    reconstructed_phylogeny_df, mutate=True\n",
    ")"
   ]
  },
  {
   "cell_type": "code",
   "execution_count": null,
   "metadata": {},
   "outputs": [],
   "source": [
    "filename = f\"a=phylogeny-true-dsamp+{treatment}+ext=.pqt\"\n",
    "true_phylogeny_df.to_parquet(filename)\n",
    "filename"
   ]
  },
  {
   "cell_type": "code",
   "execution_count": null,
   "metadata": {},
   "outputs": [],
   "source": [
    "filename = f\"a=phylogeny-reconst-dsamp+{treatment}+ext=.pqt\"\n",
    "reconstructed_phylogeny_df.to_parquet(filename)\n",
    "filename"
   ]
  },
  {
   "cell_type": "code",
   "execution_count": null,
   "metadata": {},
   "outputs": [],
   "source": [
    "polytomies_df = pd.concat([true_phylogeny_df, reconstructed_phylogeny_df])\n",
    "polytomies_df = polytomies_df[polytomies_df[\"num_children\"] > 2].copy()\n",
    "for k, v in traits.items():\n",
    "    polytomies_df[k] = v\n",
    "\n",
    "filename = f\"a=polytomies+{treatment}+ext=.pqt\"\n",
    "polytomies_df.to_parquet(filename)\n",
    "filename"
   ]
  },
  {
   "cell_type": "code",
   "execution_count": null,
   "metadata": {},
   "outputs": [],
   "source": [
    "inner_nodes_df = pd.concat([true_phylogeny_df, reconstructed_phylogeny_df])\n",
    "inner_nodes_df = inner_nodes_df[inner_nodes_df[\"num_children\"] > 1].copy()\n",
    "for k, v in traits.items():\n",
    "    inner_nodes_df[k] = v\n",
    "\n",
    "filename = f\"a=inner_nodes+{treatment}+ext=.pqt\"\n",
    "inner_nodes_df.to_parquet(filename)\n",
    "filename"
   ]
  },
  {
   "cell_type": "markdown",
   "metadata": {},
   "source": [
    "## Reproducibility Information\n",
    "\n",
    "For future reference if reproducing experiments."
   ]
  },
  {
   "cell_type": "code",
   "execution_count": null,
   "metadata": {},
   "outputs": [],
   "source": [
    "print(\n",
    "    f\"\"\"# instrumentation\n",
    "{annotation_size_bits=}\n",
    "{differentia_width_bits=}\n",
    "{stratum_retention_algo.PolicySpec.GetAlgoTitle()=}\n",
    "{downsample=}\n",
    "\n",
    "# evolutionary scale\n",
    "{population_size=}\n",
    "{num_generations=}\n",
    "\n",
    "# evolutionary conditions\n",
    "{num_islands=}\n",
    "{num_niches=}\n",
    "{tournament_size=}\n",
    "\"\"\"\n",
    ")"
   ]
  },
  {
   "cell_type": "code",
   "execution_count": null,
   "metadata": {},
   "outputs": [],
   "source": [
    "import datetime\n",
    "\n",
    "datetime.datetime.now().isoformat()"
   ]
  },
  {
   "cell_type": "code",
   "execution_count": null,
   "metadata": {},
   "outputs": [],
   "source": [
    "%load_ext watermark\n",
    "%watermark"
   ]
  },
  {
   "cell_type": "code",
   "execution_count": null,
   "metadata": {},
   "outputs": [],
   "source": [
    "locals()"
   ]
  }
 ],
 "metadata": {
  "colab": {
   "include_colab_link": true,
   "provenance": []
  },
  "kernelspec": {
   "display_name": "Python 3",
   "name": "python3"
  },
  "language_info": {
   "codemirror_mode": {
    "name": "ipython",
    "version": 3
   },
   "file_extension": ".py",
   "mimetype": "text/x-python",
   "name": "python",
   "nbconvert_exporter": "python",
   "pygments_lexer": "ipython3"
  }
 },
 "nbformat": 4,
 "nbformat_minor": 0
}
